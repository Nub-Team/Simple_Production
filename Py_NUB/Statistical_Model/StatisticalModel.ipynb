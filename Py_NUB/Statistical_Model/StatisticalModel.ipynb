{
 "cells": [
  {
   "cell_type": "markdown",
   "metadata": {},
   "source": [
    "<i>STATISTICAL MODEL</i><br>\n",
    "--\n",
    "Coded by :\n",
    "* Khevin Pandapotan (No GitHub)\n",
    "* Hamora Hadi"
   ]
  },
  {
   "cell_type": "code",
   "execution_count": 2,
   "metadata": {},
   "outputs": [],
   "source": [
    "import math\n",
    "import os\n",
    "import random\n",
    "from pathlib import Path\n",
    "from collections import defaultdict\n",
    "from itertools import product\n",
    "import pandas as pd\n",
    "import numpy as np\n",
    "\n",
    "from sklearn import preprocessing\n",
    "from sklearn.neighbors import KNeighborsClassifier\n",
    "from sklearn import metrics\n",
    "from sklearn.model_selection import train_test_split\n",
    "from sklearn.tree import DecisionTreeClassifier\n",
    "from sklearn.ensemble import RandomForestClassifier\n",
    "\n",
    "from xgboost import XGBClassifier\n",
    "from dmba import plotDecisionTree, textDecisionTree\n",
    "import seaborn as sns\n",
    "import matplotlib.pyplot as plt\n",
    "from matplotlib.patches import Ellipse\n",
    "\n",
    "%matplotlib inline"
   ]
  },
  {
   "cell_type": "code",
   "execution_count": 3,
   "metadata": {},
   "outputs": [],
   "source": [
    "os.environ['KMP_DUPLICATE_LIB_OK'] = 'TRUE'"
   ]
  },
  {
   "cell_type": "code",
   "execution_count": 4,
   "metadata": {},
   "outputs": [
    {
     "data": {
      "text/html": [
       "<div>\n",
       "<style scoped>\n",
       "    .dataframe tbody tr th:only-of-type {\n",
       "        vertical-align: middle;\n",
       "    }\n",
       "\n",
       "    .dataframe tbody tr th {\n",
       "        vertical-align: top;\n",
       "    }\n",
       "\n",
       "    .dataframe thead th {\n",
       "        text-align: right;\n",
       "    }\n",
       "</style>\n",
       "<table border=\"1\" class=\"dataframe\">\n",
       "  <thead>\n",
       "    <tr style=\"text-align: right;\">\n",
       "      <th></th>\n",
       "      <th>outcome</th>\n",
       "      <th>payment_inc_ratio</th>\n",
       "      <th>dti</th>\n",
       "    </tr>\n",
       "  </thead>\n",
       "  <tbody>\n",
       "    <tr>\n",
       "      <th>0</th>\n",
       "      <td>target</td>\n",
       "      <td>9.00000</td>\n",
       "      <td>22.50</td>\n",
       "    </tr>\n",
       "    <tr>\n",
       "      <th>1</th>\n",
       "      <td>default</td>\n",
       "      <td>5.46933</td>\n",
       "      <td>21.33</td>\n",
       "    </tr>\n",
       "    <tr>\n",
       "      <th>2</th>\n",
       "      <td>paid off</td>\n",
       "      <td>6.90294</td>\n",
       "      <td>8.97</td>\n",
       "    </tr>\n",
       "    <tr>\n",
       "      <th>3</th>\n",
       "      <td>paid off</td>\n",
       "      <td>11.14800</td>\n",
       "      <td>1.83</td>\n",
       "    </tr>\n",
       "    <tr>\n",
       "      <th>4</th>\n",
       "      <td>default</td>\n",
       "      <td>3.72120</td>\n",
       "      <td>10.81</td>\n",
       "    </tr>\n",
       "    <tr>\n",
       "      <th>5</th>\n",
       "      <td>paid off</td>\n",
       "      <td>1.89923</td>\n",
       "      <td>11.34</td>\n",
       "    </tr>\n",
       "    <tr>\n",
       "      <th>6</th>\n",
       "      <td>default</td>\n",
       "      <td>2.78485</td>\n",
       "      <td>16.00</td>\n",
       "    </tr>\n",
       "    <tr>\n",
       "      <th>7</th>\n",
       "      <td>paid off</td>\n",
       "      <td>13.85620</td>\n",
       "      <td>11.24</td>\n",
       "    </tr>\n",
       "    <tr>\n",
       "      <th>8</th>\n",
       "      <td>default</td>\n",
       "      <td>11.68480</td>\n",
       "      <td>27.78</td>\n",
       "    </tr>\n",
       "    <tr>\n",
       "      <th>9</th>\n",
       "      <td>default</td>\n",
       "      <td>9.43396</td>\n",
       "      <td>24.15</td>\n",
       "    </tr>\n",
       "  </tbody>\n",
       "</table>\n",
       "</div>"
      ],
      "text/plain": [
       "    outcome  payment_inc_ratio    dti\n",
       "0    target            9.00000  22.50\n",
       "1   default            5.46933  21.33\n",
       "2  paid off            6.90294   8.97\n",
       "3  paid off           11.14800   1.83\n",
       "4   default            3.72120  10.81\n",
       "5  paid off            1.89923  11.34\n",
       "6   default            2.78485  16.00\n",
       "7  paid off           13.85620  11.24\n",
       "8   default           11.68480  27.78\n",
       "9   default            9.43396  24.15"
      ]
     },
     "execution_count": 4,
     "metadata": {},
     "output_type": "execute_result"
    }
   ],
   "source": [
    "loan200 = pd.read_csv('C:/Users/User/Desktop/Statistical_Model/loan200.csv')\n",
    "loan200.head(10)"
   ]
  },
  {
   "cell_type": "code",
   "execution_count": 6,
   "metadata": {},
   "outputs": [],
   "source": [
    "predictors = ['payment_inc_ratio', 'dti']\n",
    "outcome = 'outcome'"
   ]
  },
  {
   "cell_type": "code",
   "execution_count": 9,
   "metadata": {},
   "outputs": [
    {
     "data": {
      "text/plain": [
       "array(['paid off'], dtype=object)"
      ]
     },
     "execution_count": 9,
     "metadata": {},
     "output_type": "execute_result"
    }
   ],
   "source": [
    "newloan = loan200.loc[0:0, predictors]\n",
    "X = loan200.loc[1:, predictors]\n",
    "y = loan200.loc[1:, outcome]\n",
    "\n",
    "knn = KNeighborsClassifier(n_neighbors=20)\n",
    "knn.fit(X, y)\n",
    "knn.predict(newloan)"
   ]
  },
  {
   "cell_type": "code",
   "execution_count": 10,
   "metadata": {},
   "outputs": [
    {
     "data": {
      "text/plain": [
       "array([[0.45, 0.55]])"
      ]
     },
     "execution_count": 10,
     "metadata": {},
     "output_type": "execute_result"
    }
   ],
   "source": [
    "knn.predict_proba(newloan)"
   ]
  },
  {
   "cell_type": "code",
   "execution_count": 12,
   "metadata": {},
   "outputs": [],
   "source": [
    "nbrs = knn.kneighbors(newloan)\n",
    "maxDistance = np.max(nbrs[0][0])"
   ]
  },
  {
   "cell_type": "code",
   "execution_count": 16,
   "metadata": {},
   "outputs": [
    {
     "data": {
      "image/png": "[encoded data removed]",
      "text/plain": [
       "<Figure size 288x288 with 1 Axes>"
      ]
     },
     "metadata": {
      "needs_background": "light"
     },
     "output_type": "display_data"
    }
   ],
   "source": [
    "fig, ax = plt.subplots(figsize=(4, 4))\n",
    "sns.scatterplot(x='payment_inc_ratio', y='dti', style='outcome', \n",
    "                hue='outcome', data=loan200, alpha=0.3, ax=ax)\n",
    "sns.scatterplot(x='payment_inc_ratio', y='dti', style='outcome', \n",
    "                hue='outcome', \n",
    "                data=pd.concat([loan200.loc[0:0, :], loan200.loc[nbrs[1][0] + 1,:]]), \n",
    "                ax=ax, legend=False)\n",
    "ellipse = Ellipse(xy=newloan.values[0], \n",
    "                  width=2 * maxDistance, height=2 * maxDistance,\n",
    "                  edgecolor='black', fc='None', lw=1)\n",
    "ax.add_patch(ellipse)\n",
    "ax.set_xlim(3, 16)\n",
    "ax.set_ylim(15, 30)\n",
    "\n",
    "plt.tight_layout()\n",
    "plt.show()"
   ]
  },
  {
   "cell_type": "markdown",
   "metadata": {},
   "source": [
    "<b>Standardization</b>"
   ]
  },
  {
   "cell_type": "code",
   "execution_count": 23,
   "metadata": {},
   "outputs": [
    {
     "data": {
      "text/html": [
       "<div>\n",
       "<style scoped>\n",
       "    .dataframe tbody tr th:only-of-type {\n",
       "        vertical-align: middle;\n",
       "    }\n",
       "\n",
       "    .dataframe tbody tr th {\n",
       "        vertical-align: top;\n",
       "    }\n",
       "\n",
       "    .dataframe thead th {\n",
       "        text-align: right;\n",
       "    }\n",
       "</style>\n",
       "<table border=\"1\" class=\"dataframe\">\n",
       "  <thead>\n",
       "    <tr style=\"text-align: right;\">\n",
       "      <th></th>\n",
       "      <th>Unnamed: 0</th>\n",
       "      <th>status</th>\n",
       "      <th>loan_amnt</th>\n",
       "      <th>term</th>\n",
       "      <th>annual_inc</th>\n",
       "      <th>dti</th>\n",
       "      <th>payment_inc_ratio</th>\n",
       "      <th>revol_bal</th>\n",
       "      <th>revol_util</th>\n",
       "      <th>purpose</th>\n",
       "      <th>...</th>\n",
       "      <th>delinq_2yrs_zero</th>\n",
       "      <th>pub_rec_zero</th>\n",
       "      <th>open_acc</th>\n",
       "      <th>grade</th>\n",
       "      <th>outcome</th>\n",
       "      <th>emp_length</th>\n",
       "      <th>purpose_</th>\n",
       "      <th>home_</th>\n",
       "      <th>emp_len_</th>\n",
       "      <th>borrower_score</th>\n",
       "    </tr>\n",
       "  </thead>\n",
       "  <tbody>\n",
       "    <tr>\n",
       "      <th>0</th>\n",
       "      <td>1</td>\n",
       "      <td>Charged Off</td>\n",
       "      <td>2500</td>\n",
       "      <td>60 months</td>\n",
       "      <td>30000</td>\n",
       "      <td>1.00</td>\n",
       "      <td>2.39320</td>\n",
       "      <td>1687</td>\n",
       "      <td>9.4</td>\n",
       "      <td>car</td>\n",
       "      <td>...</td>\n",
       "      <td>1</td>\n",
       "      <td>1</td>\n",
       "      <td>3</td>\n",
       "      <td>4.8</td>\n",
       "      <td>default</td>\n",
       "      <td>1</td>\n",
       "      <td>major_purchase</td>\n",
       "      <td>RENT</td>\n",
       "      <td>&gt; 1 Year</td>\n",
       "      <td>0.65</td>\n",
       "    </tr>\n",
       "    <tr>\n",
       "      <th>1</th>\n",
       "      <td>2</td>\n",
       "      <td>Charged Off</td>\n",
       "      <td>5600</td>\n",
       "      <td>60 months</td>\n",
       "      <td>40000</td>\n",
       "      <td>5.55</td>\n",
       "      <td>4.57170</td>\n",
       "      <td>5210</td>\n",
       "      <td>32.6</td>\n",
       "      <td>small_business</td>\n",
       "      <td>...</td>\n",
       "      <td>1</td>\n",
       "      <td>1</td>\n",
       "      <td>11</td>\n",
       "      <td>1.4</td>\n",
       "      <td>default</td>\n",
       "      <td>5</td>\n",
       "      <td>small_business</td>\n",
       "      <td>OWN</td>\n",
       "      <td>&gt; 1 Year</td>\n",
       "      <td>0.80</td>\n",
       "    </tr>\n",
       "    <tr>\n",
       "      <th>2</th>\n",
       "      <td>3</td>\n",
       "      <td>Charged Off</td>\n",
       "      <td>5375</td>\n",
       "      <td>60 months</td>\n",
       "      <td>15000</td>\n",
       "      <td>18.08</td>\n",
       "      <td>9.71600</td>\n",
       "      <td>9279</td>\n",
       "      <td>36.5</td>\n",
       "      <td>other</td>\n",
       "      <td>...</td>\n",
       "      <td>1</td>\n",
       "      <td>1</td>\n",
       "      <td>2</td>\n",
       "      <td>6.0</td>\n",
       "      <td>default</td>\n",
       "      <td>1</td>\n",
       "      <td>other</td>\n",
       "      <td>RENT</td>\n",
       "      <td>&gt; 1 Year</td>\n",
       "      <td>0.60</td>\n",
       "    </tr>\n",
       "    <tr>\n",
       "      <th>3</th>\n",
       "      <td>4</td>\n",
       "      <td>Charged Off</td>\n",
       "      <td>9000</td>\n",
       "      <td>36 months</td>\n",
       "      <td>30000</td>\n",
       "      <td>10.08</td>\n",
       "      <td>12.21520</td>\n",
       "      <td>10452</td>\n",
       "      <td>91.7</td>\n",
       "      <td>debt_consolidation</td>\n",
       "      <td>...</td>\n",
       "      <td>1</td>\n",
       "      <td>1</td>\n",
       "      <td>4</td>\n",
       "      <td>4.2</td>\n",
       "      <td>default</td>\n",
       "      <td>1</td>\n",
       "      <td>debt_consolidation</td>\n",
       "      <td>RENT</td>\n",
       "      <td>&gt; 1 Year</td>\n",
       "      <td>0.50</td>\n",
       "    </tr>\n",
       "    <tr>\n",
       "      <th>4</th>\n",
       "      <td>5</td>\n",
       "      <td>Charged Off</td>\n",
       "      <td>10000</td>\n",
       "      <td>36 months</td>\n",
       "      <td>100000</td>\n",
       "      <td>7.06</td>\n",
       "      <td>3.90888</td>\n",
       "      <td>11997</td>\n",
       "      <td>55.5</td>\n",
       "      <td>other</td>\n",
       "      <td>...</td>\n",
       "      <td>1</td>\n",
       "      <td>1</td>\n",
       "      <td>14</td>\n",
       "      <td>5.4</td>\n",
       "      <td>default</td>\n",
       "      <td>4</td>\n",
       "      <td>other</td>\n",
       "      <td>RENT</td>\n",
       "      <td>&gt; 1 Year</td>\n",
       "      <td>0.55</td>\n",
       "    </tr>\n",
       "    <tr>\n",
       "      <th>5</th>\n",
       "      <td>6</td>\n",
       "      <td>Charged Off</td>\n",
       "      <td>21000</td>\n",
       "      <td>36 months</td>\n",
       "      <td>105000</td>\n",
       "      <td>13.22</td>\n",
       "      <td>8.01977</td>\n",
       "      <td>32135</td>\n",
       "      <td>90.3</td>\n",
       "      <td>debt_consolidation</td>\n",
       "      <td>...</td>\n",
       "      <td>1</td>\n",
       "      <td>1</td>\n",
       "      <td>7</td>\n",
       "      <td>5.8</td>\n",
       "      <td>default</td>\n",
       "      <td>11</td>\n",
       "      <td>debt_consolidation</td>\n",
       "      <td>RENT</td>\n",
       "      <td>&gt; 1 Year</td>\n",
       "      <td>0.40</td>\n",
       "    </tr>\n",
       "    <tr>\n",
       "      <th>6</th>\n",
       "      <td>7</td>\n",
       "      <td>Charged Off</td>\n",
       "      <td>6000</td>\n",
       "      <td>36 months</td>\n",
       "      <td>76000</td>\n",
       "      <td>2.40</td>\n",
       "      <td>3.13358</td>\n",
       "      <td>5963</td>\n",
       "      <td>29.7</td>\n",
       "      <td>major_purchase</td>\n",
       "      <td>...</td>\n",
       "      <td>1</td>\n",
       "      <td>1</td>\n",
       "      <td>7</td>\n",
       "      <td>5.6</td>\n",
       "      <td>default</td>\n",
       "      <td>2</td>\n",
       "      <td>major_purchase</td>\n",
       "      <td>RENT</td>\n",
       "      <td>&gt; 1 Year</td>\n",
       "      <td>0.70</td>\n",
       "    </tr>\n",
       "    <tr>\n",
       "      <th>7</th>\n",
       "      <td>8</td>\n",
       "      <td>Charged Off</td>\n",
       "      <td>15000</td>\n",
       "      <td>36 months</td>\n",
       "      <td>60000</td>\n",
       "      <td>15.22</td>\n",
       "      <td>10.29280</td>\n",
       "      <td>5872</td>\n",
       "      <td>57.6</td>\n",
       "      <td>debt_consolidation</td>\n",
       "      <td>...</td>\n",
       "      <td>1</td>\n",
       "      <td>1</td>\n",
       "      <td>7</td>\n",
       "      <td>4.4</td>\n",
       "      <td>default</td>\n",
       "      <td>10</td>\n",
       "      <td>debt_consolidation</td>\n",
       "      <td>RENT</td>\n",
       "      <td>&gt; 1 Year</td>\n",
       "      <td>0.50</td>\n",
       "    </tr>\n",
       "    <tr>\n",
       "      <th>8</th>\n",
       "      <td>9</td>\n",
       "      <td>Charged Off</td>\n",
       "      <td>5000</td>\n",
       "      <td>60 months</td>\n",
       "      <td>50004</td>\n",
       "      <td>13.97</td>\n",
       "      <td>2.96736</td>\n",
       "      <td>4345</td>\n",
       "      <td>59.5</td>\n",
       "      <td>other</td>\n",
       "      <td>...</td>\n",
       "      <td>0</td>\n",
       "      <td>1</td>\n",
       "      <td>14</td>\n",
       "      <td>3.4</td>\n",
       "      <td>default</td>\n",
       "      <td>3</td>\n",
       "      <td>other</td>\n",
       "      <td>RENT</td>\n",
       "      <td>&gt; 1 Year</td>\n",
       "      <td>0.45</td>\n",
       "    </tr>\n",
       "    <tr>\n",
       "      <th>9</th>\n",
       "      <td>10</td>\n",
       "      <td>Charged Off</td>\n",
       "      <td>5000</td>\n",
       "      <td>36 months</td>\n",
       "      <td>100000</td>\n",
       "      <td>16.33</td>\n",
       "      <td>1.90524</td>\n",
       "      <td>74351</td>\n",
       "      <td>62.1</td>\n",
       "      <td>debt_consolidation</td>\n",
       "      <td>...</td>\n",
       "      <td>1</td>\n",
       "      <td>1</td>\n",
       "      <td>17</td>\n",
       "      <td>7.0</td>\n",
       "      <td>default</td>\n",
       "      <td>11</td>\n",
       "      <td>debt_consolidation</td>\n",
       "      <td>MORTGAGE</td>\n",
       "      <td>&gt; 1 Year</td>\n",
       "      <td>0.50</td>\n",
       "    </tr>\n",
       "  </tbody>\n",
       "</table>\n",
       "<p>10 rows × 21 columns</p>\n",
       "</div>"
      ],
      "text/plain": [
       "   Unnamed: 0       status  loan_amnt       term  annual_inc    dti  \\\n",
       "0           1  Charged Off       2500  60 months       30000   1.00   \n",
       "1           2  Charged Off       5600  60 months       40000   5.55   \n",
       "2           3  Charged Off       5375  60 months       15000  18.08   \n",
       "3           4  Charged Off       9000  36 months       30000  10.08   \n",
       "4           5  Charged Off      10000  36 months      100000   7.06   \n",
       "5           6  Charged Off      21000  36 months      105000  13.22   \n",
       "6           7  Charged Off       6000  36 months       76000   2.40   \n",
       "7           8  Charged Off      15000  36 months       60000  15.22   \n",
       "8           9  Charged Off       5000  60 months       50004  13.97   \n",
       "9          10  Charged Off       5000  36 months      100000  16.33   \n",
       "\n",
       "   payment_inc_ratio  revol_bal  revol_util             purpose  ...  \\\n",
       "0            2.39320       1687         9.4                 car  ...   \n",
       "1            4.57170       5210        32.6      small_business  ...   \n",
       "2            9.71600       9279        36.5               other  ...   \n",
       "3           12.21520      10452        91.7  debt_consolidation  ...   \n",
       "4            3.90888      11997        55.5               other  ...   \n",
       "5            8.01977      32135        90.3  debt_consolidation  ...   \n",
       "6            3.13358       5963        29.7      major_purchase  ...   \n",
       "7           10.29280       5872        57.6  debt_consolidation  ...   \n",
       "8            2.96736       4345        59.5               other  ...   \n",
       "9            1.90524      74351        62.1  debt_consolidation  ...   \n",
       "\n",
       "  delinq_2yrs_zero  pub_rec_zero  open_acc  grade  outcome emp_length  \\\n",
       "0                1             1         3    4.8  default          1   \n",
       "1                1             1        11    1.4  default          5   \n",
       "2                1             1         2    6.0  default          1   \n",
       "3                1             1         4    4.2  default          1   \n",
       "4                1             1        14    5.4  default          4   \n",
       "5                1             1         7    5.8  default         11   \n",
       "6                1             1         7    5.6  default          2   \n",
       "7                1             1         7    4.4  default         10   \n",
       "8                0             1        14    3.4  default          3   \n",
       "9                1             1        17    7.0  default         11   \n",
       "\n",
       "             purpose_     home_   emp_len_ borrower_score  \n",
       "0      major_purchase      RENT   > 1 Year           0.65  \n",
       "1      small_business       OWN   > 1 Year           0.80  \n",
       "2               other      RENT   > 1 Year           0.60  \n",
       "3  debt_consolidation      RENT   > 1 Year           0.50  \n",
       "4               other      RENT   > 1 Year           0.55  \n",
       "5  debt_consolidation      RENT   > 1 Year           0.40  \n",
       "6      major_purchase      RENT   > 1 Year           0.70  \n",
       "7  debt_consolidation      RENT   > 1 Year           0.50  \n",
       "8               other      RENT   > 1 Year           0.45  \n",
       "9  debt_consolidation  MORTGAGE   > 1 Year           0.50  \n",
       "\n",
       "[10 rows x 21 columns]"
      ]
     },
     "execution_count": 23,
     "metadata": {},
     "output_type": "execute_result"
    }
   ],
   "source": [
    "loan_data = pd.read_csv('C:/Users/User/Desktop/Statistical_Model/loan_data.csv')\n",
    "loan_data.head(10)"
   ]
  },
  {
   "cell_type": "code",
   "execution_count": 24,
   "metadata": {},
   "outputs": [],
   "source": [
    "loan_data = loan_data.drop(columns=['Unnamed: 0', 'status'])\n",
    "loan_data['outcome'] = pd.Categorical(loan_data['outcome'], \n",
    "                                      categories=['paid off', 'default'], \n",
    "                                      ordered=True)"
   ]
  },
  {
   "cell_type": "code",
   "execution_count": 29,
   "metadata": {},
   "outputs": [],
   "source": [
    "predictors = ['payment_inc_ratio', 'dti', 'revol_bal', 'revol_util']\n",
    "outcome = 'outcome'"
   ]
  },
  {
   "cell_type": "code",
   "execution_count": 30,
   "metadata": {},
   "outputs": [],
   "source": [
    "newloan = loan_data.loc[0:0, predictors]"
   ]
  },
  {
   "cell_type": "code",
   "execution_count": 31,
   "metadata": {},
   "outputs": [
    {
     "data": {
      "text/html": [
       "<div>\n",
       "<style scoped>\n",
       "    .dataframe tbody tr th:only-of-type {\n",
       "        vertical-align: middle;\n",
       "    }\n",
       "\n",
       "    .dataframe tbody tr th {\n",
       "        vertical-align: top;\n",
       "    }\n",
       "\n",
       "    .dataframe thead th {\n",
       "        text-align: right;\n",
       "    }\n",
       "</style>\n",
       "<table border=\"1\" class=\"dataframe\">\n",
       "  <thead>\n",
       "    <tr style=\"text-align: right;\">\n",
       "      <th></th>\n",
       "      <th>payment_inc_ratio</th>\n",
       "      <th>dti</th>\n",
       "      <th>revol_bal</th>\n",
       "      <th>revol_util</th>\n",
       "    </tr>\n",
       "  </thead>\n",
       "  <tbody>\n",
       "    <tr>\n",
       "      <th>0</th>\n",
       "      <td>2.3932</td>\n",
       "      <td>1.0</td>\n",
       "      <td>1687</td>\n",
       "      <td>9.4</td>\n",
       "    </tr>\n",
       "  </tbody>\n",
       "</table>\n",
       "</div>"
      ],
      "text/plain": [
       "   payment_inc_ratio  dti  revol_bal  revol_util\n",
       "0             2.3932  1.0       1687         9.4"
      ]
     },
     "execution_count": 31,
     "metadata": {},
     "output_type": "execute_result"
    }
   ],
   "source": [
    "newloan"
   ]
  },
  {
   "cell_type": "code",
   "execution_count": 32,
   "metadata": {},
   "outputs": [],
   "source": [
    "X = loan_data.loc[1:, predictors]\n",
    "y = loan_data.loc[1:, outcome]"
   ]
  },
  {
   "cell_type": "code",
   "execution_count": 33,
   "metadata": {},
   "outputs": [],
   "source": [
    "knn = KNeighborsClassifier(n_neighbors=5)\n",
    "knn.fit(X, y)\n",
    "nbrs = knn.kneighbors(newloan)"
   ]
  },
  {
   "cell_type": "code",
   "execution_count": 34,
   "metadata": {},
   "outputs": [
    {
     "data": {
      "text/html": [
       "<div>\n",
       "<style scoped>\n",
       "    .dataframe tbody tr th:only-of-type {\n",
       "        vertical-align: middle;\n",
       "    }\n",
       "\n",
       "    .dataframe tbody tr th {\n",
       "        vertical-align: top;\n",
       "    }\n",
       "\n",
       "    .dataframe thead th {\n",
       "        text-align: right;\n",
       "    }\n",
       "</style>\n",
       "<table border=\"1\" class=\"dataframe\">\n",
       "  <thead>\n",
       "    <tr style=\"text-align: right;\">\n",
       "      <th></th>\n",
       "      <th>payment_inc_ratio</th>\n",
       "      <th>dti</th>\n",
       "      <th>revol_bal</th>\n",
       "      <th>revol_util</th>\n",
       "    </tr>\n",
       "  </thead>\n",
       "  <tbody>\n",
       "    <tr>\n",
       "      <th>35536</th>\n",
       "      <td>1.47212</td>\n",
       "      <td>1.46</td>\n",
       "      <td>1686</td>\n",
       "      <td>10.0</td>\n",
       "    </tr>\n",
       "    <tr>\n",
       "      <th>33651</th>\n",
       "      <td>3.38178</td>\n",
       "      <td>6.37</td>\n",
       "      <td>1688</td>\n",
       "      <td>8.4</td>\n",
       "    </tr>\n",
       "    <tr>\n",
       "      <th>25863</th>\n",
       "      <td>2.36303</td>\n",
       "      <td>1.39</td>\n",
       "      <td>1691</td>\n",
       "      <td>3.5</td>\n",
       "    </tr>\n",
       "    <tr>\n",
       "      <th>42953</th>\n",
       "      <td>1.28160</td>\n",
       "      <td>7.14</td>\n",
       "      <td>1684</td>\n",
       "      <td>3.9</td>\n",
       "    </tr>\n",
       "    <tr>\n",
       "      <th>43599</th>\n",
       "      <td>4.12244</td>\n",
       "      <td>8.98</td>\n",
       "      <td>1684</td>\n",
       "      <td>7.2</td>\n",
       "    </tr>\n",
       "  </tbody>\n",
       "</table>\n",
       "</div>"
      ],
      "text/plain": [
       "       payment_inc_ratio   dti  revol_bal  revol_util\n",
       "35536            1.47212  1.46       1686        10.0\n",
       "33651            3.38178  6.37       1688         8.4\n",
       "25863            2.36303  1.39       1691         3.5\n",
       "42953            1.28160  7.14       1684         3.9\n",
       "43599            4.12244  8.98       1684         7.2"
      ]
     },
     "execution_count": 34,
     "metadata": {},
     "output_type": "execute_result"
    }
   ],
   "source": [
    "X.iloc[nbrs[1][0], :]"
   ]
  },
  {
   "cell_type": "code",
   "execution_count": 35,
   "metadata": {},
   "outputs": [
    {
     "data": {
      "text/plain": [
       "StandardScaler(copy=True, with_mean=True, with_std=True)"
      ]
     },
     "execution_count": 35,
     "metadata": {},
     "output_type": "execute_result"
    }
   ],
   "source": [
    "newloan = loan_data.loc[0:0, predictors]\n",
    "X = loan_data.loc[1:, predictors]\n",
    "y = loan_data.loc[1:, outcome]\n",
    "\n",
    "scaler = preprocessing.StandardScaler()\n",
    "scaler.fit(X * 1.0)"
   ]
  },
  {
   "cell_type": "code",
   "execution_count": 37,
   "metadata": {},
   "outputs": [
    {
     "data": {
      "text/plain": [
       "KNeighborsClassifier(algorithm='auto', leaf_size=30, metric='minkowski',\n",
       "                     metric_params=None, n_jobs=None, n_neighbors=5, p=2,\n",
       "                     weights='uniform')"
      ]
     },
     "execution_count": 37,
     "metadata": {},
     "output_type": "execute_result"
    }
   ],
   "source": [
    "X_std = scaler.transform(X * 1.0)\n",
    "newloan_std = scaler.transform(newloan * 1.0)\n",
    "knn = KNeighborsClassifier(n_neighbors=5)\n",
    "knn.fit(X_std, y)"
   ]
  },
  {
   "cell_type": "code",
   "execution_count": 38,
   "metadata": {},
   "outputs": [
    {
     "data": {
      "text/html": [
       "<div>\n",
       "<style scoped>\n",
       "    .dataframe tbody tr th:only-of-type {\n",
       "        vertical-align: middle;\n",
       "    }\n",
       "\n",
       "    .dataframe tbody tr th {\n",
       "        vertical-align: top;\n",
       "    }\n",
       "\n",
       "    .dataframe thead th {\n",
       "        text-align: right;\n",
       "    }\n",
       "</style>\n",
       "<table border=\"1\" class=\"dataframe\">\n",
       "  <thead>\n",
       "    <tr style=\"text-align: right;\">\n",
       "      <th></th>\n",
       "      <th>payment_inc_ratio</th>\n",
       "      <th>dti</th>\n",
       "      <th>revol_bal</th>\n",
       "      <th>revol_util</th>\n",
       "    </tr>\n",
       "  </thead>\n",
       "  <tbody>\n",
       "    <tr>\n",
       "      <th>2080</th>\n",
       "      <td>2.61091</td>\n",
       "      <td>1.03</td>\n",
       "      <td>1218</td>\n",
       "      <td>9.7</td>\n",
       "    </tr>\n",
       "    <tr>\n",
       "      <th>1438</th>\n",
       "      <td>2.34343</td>\n",
       "      <td>0.51</td>\n",
       "      <td>278</td>\n",
       "      <td>9.9</td>\n",
       "    </tr>\n",
       "    <tr>\n",
       "      <th>30215</th>\n",
       "      <td>2.71200</td>\n",
       "      <td>1.34</td>\n",
       "      <td>1075</td>\n",
       "      <td>8.5</td>\n",
       "    </tr>\n",
       "    <tr>\n",
       "      <th>28542</th>\n",
       "      <td>2.39760</td>\n",
       "      <td>0.74</td>\n",
       "      <td>2917</td>\n",
       "      <td>7.4</td>\n",
       "    </tr>\n",
       "    <tr>\n",
       "      <th>44737</th>\n",
       "      <td>2.34309</td>\n",
       "      <td>1.37</td>\n",
       "      <td>488</td>\n",
       "      <td>7.2</td>\n",
       "    </tr>\n",
       "  </tbody>\n",
       "</table>\n",
       "</div>"
      ],
      "text/plain": [
       "       payment_inc_ratio   dti  revol_bal  revol_util\n",
       "2080             2.61091  1.03       1218         9.7\n",
       "1438             2.34343  0.51        278         9.9\n",
       "30215            2.71200  1.34       1075         8.5\n",
       "28542            2.39760  0.74       2917         7.4\n",
       "44737            2.34309  1.37        488         7.2"
      ]
     },
     "execution_count": 38,
     "metadata": {},
     "output_type": "execute_result"
    }
   ],
   "source": [
    "nbrs = knn.kneighbors(newloan_std)\n",
    "X.iloc[nbrs[1][0], :]"
   ]
  },
  {
   "cell_type": "code",
   "execution_count": 41,
   "metadata": {},
   "outputs": [
    {
     "data": {
      "text/plain": [
       "count    45342.000000\n",
       "mean         0.501104\n",
       "std          0.128734\n",
       "min          0.000000\n",
       "25%          0.400000\n",
       "50%          0.500000\n",
       "75%          0.600000\n",
       "max          0.950000\n",
       "Name: borrower_score, dtype: float64"
      ]
     },
     "execution_count": 41,
     "metadata": {},
     "output_type": "execute_result"
    },
    {
     "data": {
      "image/png": "[encoded data removed]",
      "text/plain": [
       "<Figure size 432x288 with 1 Axes>"
      ]
     },
     "metadata": {
      "needs_background": "light"
     },
     "output_type": "display_data"
    }
   ],
   "source": [
    "# Using KNN!\n",
    "loan_data = pd.read_csv('C:/Users/User/Desktop/Statistical_Model/loan_data.csv')\n",
    "loan_data = loan_data.drop(columns=['Unnamed: 0', 'status'])\n",
    "loan_data['outcome'] = pd.Categorical(loan_data['outcome'], \n",
    "                                      categories=['paid off', 'default'], \n",
    "                                      ordered=True)\n",
    "\n",
    "predictors = ['dti', 'revol_bal', 'revol_util', 'open_acc', \n",
    "              'delinq_2yrs_zero', 'pub_rec_zero']\n",
    "outcome = 'outcome'\n",
    "\n",
    "X = loan_data[predictors]\n",
    "y = loan_data[outcome]\n",
    "\n",
    "knn = KNeighborsClassifier(n_neighbors=20)\n",
    "knn.fit(X, y)\n",
    "plt.scatter(range(len(X)), [bs + random.gauss(0, 0.015) for bs in knn.predict_proba(X)[:,0]], \n",
    "            alpha=0.1, marker='.')\n",
    "knn.predict_proba(X)[:, 0]\n",
    "\n",
    "loan_data['borrower_score'] = knn.predict_proba(X)[:, 0]\n",
    "loan_data['borrower_score'].describe()"
   ]
  },
  {
   "cell_type": "code",
   "execution_count": 49,
   "metadata": {},
   "outputs": [
    {
     "data": {
      "text/html": [
       "<div>\n",
       "<style scoped>\n",
       "    .dataframe tbody tr th:only-of-type {\n",
       "        vertical-align: middle;\n",
       "    }\n",
       "\n",
       "    .dataframe tbody tr th {\n",
       "        vertical-align: top;\n",
       "    }\n",
       "\n",
       "    .dataframe thead th {\n",
       "        text-align: right;\n",
       "    }\n",
       "</style>\n",
       "<table border=\"1\" class=\"dataframe\">\n",
       "  <thead>\n",
       "    <tr style=\"text-align: right;\">\n",
       "      <th></th>\n",
       "      <th>Unnamed: 0</th>\n",
       "      <th>outcome</th>\n",
       "      <th>purpose_</th>\n",
       "      <th>dti</th>\n",
       "      <th>borrower_score</th>\n",
       "      <th>payment_inc_ratio</th>\n",
       "    </tr>\n",
       "  </thead>\n",
       "  <tbody>\n",
       "    <tr>\n",
       "      <th>0</th>\n",
       "      <td>32109</td>\n",
       "      <td>paid off</td>\n",
       "      <td>debt_consolidation</td>\n",
       "      <td>21.23</td>\n",
       "      <td>0.40</td>\n",
       "      <td>5.11135</td>\n",
       "    </tr>\n",
       "    <tr>\n",
       "      <th>1</th>\n",
       "      <td>16982</td>\n",
       "      <td>default</td>\n",
       "      <td>credit_card</td>\n",
       "      <td>15.49</td>\n",
       "      <td>0.40</td>\n",
       "      <td>5.43165</td>\n",
       "    </tr>\n",
       "    <tr>\n",
       "      <th>2</th>\n",
       "      <td>25335</td>\n",
       "      <td>paid off</td>\n",
       "      <td>debt_consolidation</td>\n",
       "      <td>27.30</td>\n",
       "      <td>0.70</td>\n",
       "      <td>9.23003</td>\n",
       "    </tr>\n",
       "    <tr>\n",
       "      <th>3</th>\n",
       "      <td>34580</td>\n",
       "      <td>paid off</td>\n",
       "      <td>major_purchase</td>\n",
       "      <td>21.11</td>\n",
       "      <td>0.40</td>\n",
       "      <td>2.33482</td>\n",
       "    </tr>\n",
       "    <tr>\n",
       "      <th>4</th>\n",
       "      <td>14424</td>\n",
       "      <td>default</td>\n",
       "      <td>debt_consolidation</td>\n",
       "      <td>16.46</td>\n",
       "      <td>0.45</td>\n",
       "      <td>12.10320</td>\n",
       "    </tr>\n",
       "    <tr>\n",
       "      <th>5</th>\n",
       "      <td>35621</td>\n",
       "      <td>paid off</td>\n",
       "      <td>debt_consolidation</td>\n",
       "      <td>12.12</td>\n",
       "      <td>0.50</td>\n",
       "      <td>3.89391</td>\n",
       "    </tr>\n",
       "    <tr>\n",
       "      <th>6</th>\n",
       "      <td>9920</td>\n",
       "      <td>default</td>\n",
       "      <td>debt_consolidation</td>\n",
       "      <td>29.79</td>\n",
       "      <td>0.40</td>\n",
       "      <td>7.00390</td>\n",
       "    </tr>\n",
       "    <tr>\n",
       "      <th>7</th>\n",
       "      <td>42095</td>\n",
       "      <td>paid off</td>\n",
       "      <td>debt_consolidation</td>\n",
       "      <td>7.94</td>\n",
       "      <td>0.40</td>\n",
       "      <td>10.04070</td>\n",
       "    </tr>\n",
       "    <tr>\n",
       "      <th>8</th>\n",
       "      <td>25219</td>\n",
       "      <td>paid off</td>\n",
       "      <td>debt_consolidation</td>\n",
       "      <td>10.81</td>\n",
       "      <td>0.55</td>\n",
       "      <td>3.54972</td>\n",
       "    </tr>\n",
       "    <tr>\n",
       "      <th>9</th>\n",
       "      <td>26196</td>\n",
       "      <td>paid off</td>\n",
       "      <td>debt_consolidation</td>\n",
       "      <td>16.37</td>\n",
       "      <td>0.45</td>\n",
       "      <td>7.50984</td>\n",
       "    </tr>\n",
       "  </tbody>\n",
       "</table>\n",
       "</div>"
      ],
      "text/plain": [
       "   Unnamed: 0   outcome            purpose_    dti  borrower_score  \\\n",
       "0       32109  paid off  debt_consolidation  21.23            0.40   \n",
       "1       16982   default         credit_card  15.49            0.40   \n",
       "2       25335  paid off  debt_consolidation  27.30            0.70   \n",
       "3       34580  paid off      major_purchase  21.11            0.40   \n",
       "4       14424   default  debt_consolidation  16.46            0.45   \n",
       "5       35621  paid off  debt_consolidation  12.12            0.50   \n",
       "6        9920   default  debt_consolidation  29.79            0.40   \n",
       "7       42095  paid off  debt_consolidation   7.94            0.40   \n",
       "8       25219  paid off  debt_consolidation  10.81            0.55   \n",
       "9       26196  paid off  debt_consolidation  16.37            0.45   \n",
       "\n",
       "   payment_inc_ratio  \n",
       "0            5.11135  \n",
       "1            5.43165  \n",
       "2            9.23003  \n",
       "3            2.33482  \n",
       "4           12.10320  \n",
       "5            3.89391  \n",
       "6            7.00390  \n",
       "7           10.04070  \n",
       "8            3.54972  \n",
       "9            7.50984  "
      ]
     },
     "execution_count": 49,
     "metadata": {},
     "output_type": "execute_result"
    }
   ],
   "source": [
    "loan3000 = pd.read_csv('C:/Users/User/Desktop/Statistical_Model/loan3000.csv')\n",
    "loan3000.head(10)"
   ]
  },
  {
   "cell_type": "code",
   "execution_count": 50,
   "metadata": {},
   "outputs": [],
   "source": [
    "predictors = ['borrower_score', 'payment_inc_ratio']\n",
    "outcome = 'outcome'\n",
    "\n",
    "X = loan3000[predictors]\n",
    "y = loan3000[outcome]"
   ]
  },
  {
   "cell_type": "code",
   "execution_count": 51,
   "metadata": {},
   "outputs": [],
   "source": [
    "loan_tree = DecisionTreeClassifier(random_state=1, criterion='entropy',\n",
    "                                   min_impurity_decrease=0.003)"
   ]
  },
  {
   "cell_type": "code",
   "execution_count": 53,
   "metadata": {},
   "outputs": [
    {
     "name": "stdout",
     "output_type": "stream",
     "text": [
      "node=0 test node: go to node 1 if 0 <= 0.5750000178813934 else to node 6\n",
      "  node=1 test node: go to node 2 if 0 <= 0.32500000298023224 else to node 3\n",
      "    node=2 leaf node: [[0.785, 0.215]]\n",
      "    node=3 test node: go to node 4 if 1 <= 10.42264986038208 else to node 5\n",
      "      node=4 leaf node: [[0.488, 0.512]]\n",
      "      node=5 leaf node: [[0.613, 0.387]]\n",
      "  node=6 test node: go to node 7 if 1 <= 9.19082498550415 else to node 10\n",
      "    node=7 test node: go to node 8 if 0 <= 0.7249999940395355 else to node 9\n",
      "      node=8 leaf node: [[0.247, 0.753]]\n",
      "      node=9 leaf node: [[0.073, 0.927]]\n",
      "    node=10 leaf node: [[0.457, 0.543]]\n"
     ]
    }
   ],
   "source": [
    "loan_tree.fit(X, y)\n",
    "print(textDecisionTree(loan_tree))"
   ]
  },
  {
   "cell_type": "code",
   "execution_count": 54,
   "metadata": {},
   "outputs": [
    {
     "data": {
      "image/png": "[encoded data removed]",
      "text/plain": [
       "<Figure size 432x288 with 1 Axes>"
      ]
     },
     "metadata": {
      "needs_background": "light"
     },
     "output_type": "display_data"
    }
   ],
   "source": [
    "fig, ax = plt.subplots(figsize=(6, 4))\n",
    "\n",
    "loan3000.loc[loan3000.outcome=='paid off'].plot(\n",
    "    x='borrower_score', y='payment_inc_ratio', style='.', \n",
    "    markerfacecolor='none', markeredgecolor='C1', ax=ax)\n",
    "loan3000.loc[loan3000.outcome=='default'].plot(\n",
    "    x='borrower_score', y='payment_inc_ratio', style='o', \n",
    "    markerfacecolor='none', markeredgecolor='C0', ax=ax)\n",
    "ax.legend(['paid off', 'default']);\n",
    "ax.set_xlim(0, 1)\n",
    "ax.set_ylim(0, 25)\n",
    "ax.set_xlabel('borrower_score')\n",
    "ax.set_ylabel('payment_inc_ratio')\n",
    "\n",
    "x0 = 0.575\n",
    "x1a = 0.325; y1b = 9.191\n",
    "y2a = 10.423; x2b = 0.725\n",
    "ax.plot((x0, x0), (0, 25), color='grey')\n",
    "ax.plot((x1a, x1a), (0, 25), color='grey')\n",
    "ax.plot((x0, 1), (y1b, y1b), color='grey')\n",
    "ax.plot((x1a, x0), (y2a, y2a), color='grey')\n",
    "ax.plot((x2b, x2b), (0, y1b), color='grey')\n",
    "\n",
    "labels = [('default', (x1a / 2, 25 / 2)),\n",
    "          ('default', ((x0 + x1a) / 2, (25 + y2a) / 2)),\n",
    "          ('paid off', ((x0 + x1a) / 2, y2a / 2)),\n",
    "          ('paid off', ((1 + x0) / 2, (y1b + 25) / 2)),\n",
    "          ('paid off', ((1 + x2b) / 2, (y1b + 0) / 2)),\n",
    "          ('paid off', ((x0 + x2b) / 2, (y1b + 0) / 2)),\n",
    "         ]\n",
    "for label, (x, y) in labels:\n",
    "    ax.text(x, y, label, bbox={'facecolor':'white'},\n",
    "            verticalalignment='center', horizontalalignment='center')\n",
    "\n",
    "plt.tight_layout()\n",
    "plt.show()"
   ]
  },
  {
   "cell_type": "code",
   "execution_count": 55,
   "metadata": {},
   "outputs": [],
   "source": [
    "def entropyFunction(x):\n",
    "    if x == 0: return 0\n",
    "    return -x * math.log(x, 2) - (1 - x) * math.log(1 - x, 2)"
   ]
  },
  {
   "cell_type": "code",
   "execution_count": 56,
   "metadata": {},
   "outputs": [],
   "source": [
    "def giniFunction(x):\n",
    "    return x * (1 - x)"
   ]
  },
  {
   "cell_type": "code",
   "execution_count": 58,
   "metadata": {},
   "outputs": [],
   "source": [
    "x = np.linspace(0, 0.5, 50)\n",
    "impure = pd.DataFrame({\n",
    "    'x': x,\n",
    "    'Accuracy': 2 * x,\n",
    "    'Gini': [giniFunction(xi) / giniFunction(.5) for xi in x],\n",
    "    'Entropy': [entropyFunction(xi) for xi in x],\n",
    "})"
   ]
  },
  {
   "cell_type": "code",
   "execution_count": 61,
   "metadata": {},
   "outputs": [
    {
     "data": {
      "image/png": "[encoded data removed]",
      "text/plain": [
       "<Figure size 288x288 with 1 Axes>"
      ]
     },
     "metadata": {
      "needs_background": "light"
     },
     "output_type": "display_data"
    }
   ],
   "source": [
    "fig, ax = plt.subplots(figsize=(4, 4))\n",
    "\n",
    "impure.plot(x='x', y='Accuracy', ax=ax, linestyle='solid')\n",
    "impure.plot(x='x', y='Entropy', ax=ax, linestyle='--')\n",
    "impure.plot(x='x', y='Gini', ax=ax, linestyle=':')\n",
    "\n",
    "plt.tight_layout()\n",
    "plt.show()"
   ]
  },
  {
   "cell_type": "code",
   "execution_count": 62,
   "metadata": {},
   "outputs": [
    {
     "data": {
      "text/plain": [
       "RandomForestClassifier(bootstrap=True, class_weight=None, criterion='gini',\n",
       "                       max_depth=None, max_features='auto', max_leaf_nodes=None,\n",
       "                       min_impurity_decrease=0.0, min_impurity_split=None,\n",
       "                       min_samples_leaf=1, min_samples_split=2,\n",
       "                       min_weight_fraction_leaf=0.0, n_estimators=500,\n",
       "                       n_jobs=None, oob_score=True, random_state=1, verbose=0,\n",
       "                       warm_start=False)"
      ]
     },
     "execution_count": 62,
     "metadata": {},
     "output_type": "execute_result"
    }
   ],
   "source": [
    "# Random Forest\n",
    "predictors = ['borrower_score', 'payment_inc_ratio']\n",
    "outcome = 'outcome'\n",
    "\n",
    "X = loan3000[predictors]\n",
    "y = loan3000[outcome]\n",
    "\n",
    "rf = RandomForestClassifier(n_estimators=500, random_state=1, \n",
    "                            oob_score=True)\n",
    "rf.fit(X, y)"
   ]
  },
  {
   "cell_type": "code",
   "execution_count": 63,
   "metadata": {},
   "outputs": [
    {
     "data": {
      "text/plain": [
       "array([[0.18131868, 0.81868132],\n",
       "       [0.26704545, 0.73295455],\n",
       "       [0.93333333, 0.06666667],\n",
       "       ...,\n",
       "       [1.        , 0.        ],\n",
       "       [0.73157895, 0.26842105],\n",
       "       [0.68085106, 0.31914894]])"
      ]
     },
     "execution_count": 63,
     "metadata": {},
     "output_type": "execute_result"
    }
   ],
   "source": [
    "rf.oob_decision_function_"
   ]
  },
  {
   "cell_type": "code",
   "execution_count": 64,
   "metadata": {},
   "outputs": [
    {
     "data": {
      "text/plain": [
       "<matplotlib.axes._subplots.AxesSubplot at 0x281e9c6ff48>"
      ]
     },
     "execution_count": 64,
     "metadata": {},
     "output_type": "execute_result"
    },
    {
     "data": {
      "image/png": "[encoded data removed]",
      "text/plain": [
       "<Figure size 432x288 with 1 Axes>"
      ]
     },
     "metadata": {
      "needs_background": "light"
     },
     "output_type": "display_data"
    }
   ],
   "source": [
    "n_estimator = list(range(20, 510, 5))\n",
    "oobScores = []\n",
    "for n in n_estimator:\n",
    "    rf = RandomForestClassifier(n_estimators=n, \n",
    "                                criterion='entropy', max_depth=5,\n",
    "                                random_state=1, oob_score=True)\n",
    "    rf.fit(X, y)\n",
    "    oobScores.append(rf.oob_score_)\n",
    "\n",
    "pd.DataFrame({\n",
    "    'n': n_estimator, \n",
    "    'oobScore': oobScores\n",
    "}).plot(x='n', y='oobScore')"
   ]
  },
  {
   "cell_type": "code",
   "execution_count": 66,
   "metadata": {},
   "outputs": [
    {
     "data": {
      "text/html": [
       "<div>\n",
       "<style scoped>\n",
       "    .dataframe tbody tr th:only-of-type {\n",
       "        vertical-align: middle;\n",
       "    }\n",
       "\n",
       "    .dataframe tbody tr th {\n",
       "        vertical-align: top;\n",
       "    }\n",
       "\n",
       "    .dataframe thead th {\n",
       "        text-align: right;\n",
       "    }\n",
       "</style>\n",
       "<table border=\"1\" class=\"dataframe\">\n",
       "  <thead>\n",
       "    <tr style=\"text-align: right;\">\n",
       "      <th></th>\n",
       "      <th>borrower_score</th>\n",
       "      <th>payment_inc_ratio</th>\n",
       "      <th>prediction</th>\n",
       "    </tr>\n",
       "  </thead>\n",
       "  <tbody>\n",
       "    <tr>\n",
       "      <th>0</th>\n",
       "      <td>0.40</td>\n",
       "      <td>5.11135</td>\n",
       "      <td>default</td>\n",
       "    </tr>\n",
       "    <tr>\n",
       "      <th>1</th>\n",
       "      <td>0.40</td>\n",
       "      <td>5.43165</td>\n",
       "      <td>default</td>\n",
       "    </tr>\n",
       "    <tr>\n",
       "      <th>2</th>\n",
       "      <td>0.70</td>\n",
       "      <td>9.23003</td>\n",
       "      <td>paid off</td>\n",
       "    </tr>\n",
       "    <tr>\n",
       "      <th>3</th>\n",
       "      <td>0.40</td>\n",
       "      <td>2.33482</td>\n",
       "      <td>paid off</td>\n",
       "    </tr>\n",
       "    <tr>\n",
       "      <th>4</th>\n",
       "      <td>0.45</td>\n",
       "      <td>12.10320</td>\n",
       "      <td>default</td>\n",
       "    </tr>\n",
       "    <tr>\n",
       "      <th>5</th>\n",
       "      <td>0.50</td>\n",
       "      <td>3.89391</td>\n",
       "      <td>paid off</td>\n",
       "    </tr>\n",
       "    <tr>\n",
       "      <th>6</th>\n",
       "      <td>0.40</td>\n",
       "      <td>7.00390</td>\n",
       "      <td>default</td>\n",
       "    </tr>\n",
       "    <tr>\n",
       "      <th>7</th>\n",
       "      <td>0.40</td>\n",
       "      <td>10.04070</td>\n",
       "      <td>default</td>\n",
       "    </tr>\n",
       "    <tr>\n",
       "      <th>8</th>\n",
       "      <td>0.55</td>\n",
       "      <td>3.54972</td>\n",
       "      <td>paid off</td>\n",
       "    </tr>\n",
       "    <tr>\n",
       "      <th>9</th>\n",
       "      <td>0.45</td>\n",
       "      <td>7.50984</td>\n",
       "      <td>default</td>\n",
       "    </tr>\n",
       "  </tbody>\n",
       "</table>\n",
       "</div>"
      ],
      "text/plain": [
       "   borrower_score  payment_inc_ratio prediction\n",
       "0            0.40            5.11135    default\n",
       "1            0.40            5.43165    default\n",
       "2            0.70            9.23003   paid off\n",
       "3            0.40            2.33482   paid off\n",
       "4            0.45           12.10320    default\n",
       "5            0.50            3.89391   paid off\n",
       "6            0.40            7.00390    default\n",
       "7            0.40           10.04070    default\n",
       "8            0.55            3.54972   paid off\n",
       "9            0.45            7.50984    default"
      ]
     },
     "execution_count": 66,
     "metadata": {},
     "output_type": "execute_result"
    }
   ],
   "source": [
    "predictions = X.copy()\n",
    "predictions['prediction'] = rf.predict(X)\n",
    "predictions.head(10)"
   ]
  },
  {
   "cell_type": "code",
   "execution_count": 68,
   "metadata": {},
   "outputs": [
    {
     "data": {
      "image/png": "[encoded data removed]",
      "text/plain": [
       "<Figure size 288x288 with 1 Axes>"
      ]
     },
     "metadata": {
      "needs_background": "light"
     },
     "output_type": "display_data"
    }
   ],
   "source": [
    "fig, ax = plt.subplots(figsize=(4, 4))\n",
    "predictions.loc[predictions.prediction=='paid off'].plot(\n",
    "    x='borrower_score', y='payment_inc_ratio', style='.',\n",
    "    markerfacecolor='none', markeredgecolor='C1', ax=ax)\n",
    "predictions.loc[predictions.prediction=='default'].plot(\n",
    "    x='borrower_score', y='payment_inc_ratio', style='o',\n",
    "    markerfacecolor='none', markeredgecolor='C0', ax=ax)\n",
    "ax.legend(['paid off', 'default']);\n",
    "ax.set_xlim(0, 1)\n",
    "ax.set_ylim(0, 25)\n",
    "ax.set_xlabel('borrower_score')\n",
    "ax.set_ylabel('payment_inc_ratio')\n",
    "\n",
    "plt.tight_layout()\n",
    "plt.show()"
   ]
  },
  {
   "cell_type": "code",
   "execution_count": 69,
   "metadata": {},
   "outputs": [],
   "source": [
    "predictors = ['loan_amnt', 'term', 'annual_inc', 'dti', \n",
    "              'payment_inc_ratio', 'revol_bal', 'revol_util', \n",
    "              'purpose', 'delinq_2yrs_zero', 'pub_rec_zero', \n",
    "              'open_acc', 'grade', 'emp_length', 'purpose_', \n",
    "              'home_', 'emp_len_', 'borrower_score']\n",
    "outcome = 'outcome'"
   ]
  },
  {
   "cell_type": "code",
   "execution_count": 71,
   "metadata": {},
   "outputs": [],
   "source": [
    "X = pd.get_dummies(loan_data[predictors], drop_first=True)\n",
    "y = loan_data[outcome]"
   ]
  },
  {
   "cell_type": "code",
   "execution_count": 72,
   "metadata": {},
   "outputs": [],
   "source": [
    "rf_all = RandomForestClassifier(n_estimators=500, random_state=1)\n",
    "rf_all.fit(X, y)\n",
    "\n",
    "rf_all_entropy = RandomForestClassifier(n_estimators=500, random_state=1,\n",
    "                                        criterion='entropy')"
   ]
  },
  {
   "cell_type": "code",
   "execution_count": 73,
   "metadata": {},
   "outputs": [
    {
     "data": {
      "text/plain": [
       "RandomForestClassifier(bootstrap=True, class_weight=None, criterion='entropy',\n",
       "                       max_depth=None, max_features='auto', max_leaf_nodes=None,\n",
       "                       min_impurity_decrease=0.0, min_impurity_split=None,\n",
       "                       min_samples_leaf=1, min_samples_split=2,\n",
       "                       min_weight_fraction_leaf=0.0, n_estimators=500,\n",
       "                       n_jobs=None, oob_score=False, random_state=1, verbose=0,\n",
       "                       warm_start=False)"
      ]
     },
     "execution_count": 73,
     "metadata": {},
     "output_type": "execute_result"
    }
   ],
   "source": [
    "rf_all_entropy.fit(X, y)"
   ]
  },
  {
   "cell_type": "code",
   "execution_count": 74,
   "metadata": {},
   "outputs": [],
   "source": [
    "rf = RandomForestClassifier(n_estimators=500)\n",
    "scores = defaultdict(list)"
   ]
  },
  {
   "cell_type": "code",
   "execution_count": 75,
   "metadata": {},
   "outputs": [],
   "source": [
    "for _ in range(3):\n",
    "    train_X, valid_X, train_y, valid_y = train_test_split(X, y, \n",
    "                                                          test_size=0.3)\n",
    "    rf.fit(train_X, train_y)\n",
    "    acc = metrics.accuracy_score(valid_y, rf.predict(valid_X))\n",
    "    for column in X.columns:\n",
    "        X_t = valid_X.copy()\n",
    "        X_t[column] = np.random.permutation(X_t[column].values)\n",
    "        shuff_acc = metrics.accuracy_score(valid_y, rf.predict(X_t))\n",
    "        scores[column].append((acc-shuff_acc)/acc)"
   ]
  },
  {
   "cell_type": "code",
   "execution_count": 76,
   "metadata": {},
   "outputs": [
    {
     "name": "stdout",
     "output_type": "stream",
     "text": [
      "Features sorted by their score:\n",
      "[(0.0727, 'borrower_score'), (0.0378, 'grade'), (0.027, 'term_60 months'), (0.012, 'annual_inc'), (0.0061, 'payment_inc_ratio'), (0.0051, 'dti'), (0.0027, 'purpose_small_business'), (0.0024, 'emp_length'), (0.0021, 'revol_util'), (0.0018, 'purpose__small_business'), (0.0017, 'open_acc'), (0.001, 'revol_bal'), (0.001, 'purpose_credit_card'), (0.001, 'purpose__other'), (0.001, 'home__RENT'), (0.0008, 'purpose_other'), (0.0008, 'purpose_major_purchase'), (0.0007, 'delinq_2yrs_zero'), (0.0005, 'purpose__home_improvement'), (0.0003, 'purpose__major_purchase'), (0.0003, 'emp_len__ > 1 Year'), (0.0002, 'purpose_wedding'), (0.0002, 'purpose_moving'), (0.0001, 'purpose_vacation'), (0.0001, 'pub_rec_zero'), (0.0, 'purpose_debt_consolidation'), (-0.0001, 'purpose__debt_consolidation'), (-0.0002, 'purpose_house'), (-0.0002, 'home__OWN'), (-0.0003, 'purpose_medical'), (-0.0003, 'purpose_home_improvement'), (-0.0003, 'purpose__medical'), (-0.0019, 'loan_amnt')]\n"
     ]
    }
   ],
   "source": [
    "print('Features sorted by their score:')\n",
    "print(sorted([(round(np.mean(score), 4), feat) for\n",
    "              feat, score in scores.items()], reverse=True))"
   ]
  },
  {
   "cell_type": "code",
   "execution_count": 77,
   "metadata": {},
   "outputs": [],
   "source": [
    "importances = rf_all.feature_importances_"
   ]
  },
  {
   "cell_type": "code",
   "execution_count": 79,
   "metadata": {},
   "outputs": [],
   "source": [
    "df = pd.DataFrame({\n",
    "    'feature': X.columns, \n",
    "    'Accuracy decrease': [np.mean(scores[column]) for column in \n",
    "                         X.columns],\n",
    "    'Gini decrease': rf_all.feature_importances_, \n",
    "    'Entropy decrease': rf_all_entropy.feature_importances_,\n",
    "})\n",
    "df = df.sort_values('Accuracy decrease')"
   ]
  },
  {
   "cell_type": "code",
   "execution_count": 80,
   "metadata": {},
   "outputs": [
    {
     "data": {
      "image/png": "[encoded data removed]",
      "text/plain": [
       "<Figure size 576x360 with 2 Axes>"
      ]
     },
     "metadata": {
      "needs_background": "light"
     },
     "output_type": "display_data"
    }
   ],
   "source": [
    "fig, axes = plt.subplots(ncols=2, figsize=(8, 5))\n",
    "ax = df.plot(kind='barh', x='feature', y='Accuracy decrease', \n",
    "             legend=False, ax=axes[0])\n",
    "ax.set_ylabel('')\n",
    "\n",
    "ax = df.plot(kind='barh', x='feature', y='Gini decrease', \n",
    "             legend=False, ax=axes[1])\n",
    "ax.set_ylabel('')\n",
    "ax.get_yaxis().set_visible(False)\n",
    "\n",
    "plt.tight_layout()\n",
    "plt.show()"
   ]
  },
  {
   "cell_type": "code",
   "execution_count": 82,
   "metadata": {},
   "outputs": [],
   "source": [
    "# XGBoosting\n",
    "predictors = ['borrower_score', 'payment_inc_ratio']\n",
    "outcome = 'outcome'"
   ]
  },
  {
   "cell_type": "code",
   "execution_count": 83,
   "metadata": {},
   "outputs": [],
   "source": [
    "X = loan3000[predictors]\n",
    "y = loan3000[outcome]"
   ]
  },
  {
   "cell_type": "code",
   "execution_count": 84,
   "metadata": {},
   "outputs": [],
   "source": [
    "xgb = XGBClassifier(objective='binary:logistic', subsample=.63)"
   ]
  },
  {
   "cell_type": "code",
   "execution_count": 86,
   "metadata": {},
   "outputs": [
    {
     "data": {
      "text/plain": [
       "XGBClassifier(base_score=0.5, booster='gbtree', colsample_bylevel=1,\n",
       "              colsample_bynode=1, colsample_bytree=1, gamma=0, gpu_id=-1,\n",
       "              importance_type='gain', interaction_constraints='',\n",
       "              learning_rate=0.300000012, max_delta_step=0, max_depth=6,\n",
       "              min_child_weight=1, missing=nan, monotone_constraints='()',\n",
       "              n_estimators=100, n_jobs=0, num_parallel_tree=1,\n",
       "              objective='binary:logistic', random_state=0, reg_alpha=0,\n",
       "              reg_lambda=1, scale_pos_weight=1, subsample=0.63,\n",
       "              tree_method='exact', validate_parameters=1, verbosity=None)"
      ]
     },
     "execution_count": 86,
     "metadata": {},
     "output_type": "execute_result"
    }
   ],
   "source": [
    "xgb.fit(X,y)"
   ]
  },
  {
   "cell_type": "code",
   "execution_count": 87,
   "metadata": {},
   "outputs": [],
   "source": [
    "xgb_df = X.copy()\n",
    "xgb_df['prediction'] = xgb.predict(X)\n",
    "xgb_df['prob_default'] = xgb.predict_proba(X)[:, 0]"
   ]
  },
  {
   "cell_type": "code",
   "execution_count": 88,
   "metadata": {},
   "outputs": [
    {
     "data": {
      "text/html": [
       "<div>\n",
       "<style scoped>\n",
       "    .dataframe tbody tr th:only-of-type {\n",
       "        vertical-align: middle;\n",
       "    }\n",
       "\n",
       "    .dataframe tbody tr th {\n",
       "        vertical-align: top;\n",
       "    }\n",
       "\n",
       "    .dataframe thead th {\n",
       "        text-align: right;\n",
       "    }\n",
       "</style>\n",
       "<table border=\"1\" class=\"dataframe\">\n",
       "  <thead>\n",
       "    <tr style=\"text-align: right;\">\n",
       "      <th></th>\n",
       "      <th>borrower_score</th>\n",
       "      <th>payment_inc_ratio</th>\n",
       "      <th>prediction</th>\n",
       "      <th>prob_default</th>\n",
       "    </tr>\n",
       "  </thead>\n",
       "  <tbody>\n",
       "    <tr>\n",
       "      <th>0</th>\n",
       "      <td>0.40</td>\n",
       "      <td>5.11135</td>\n",
       "      <td>paid off</td>\n",
       "      <td>0.171144</td>\n",
       "    </tr>\n",
       "    <tr>\n",
       "      <th>1</th>\n",
       "      <td>0.40</td>\n",
       "      <td>5.43165</td>\n",
       "      <td>default</td>\n",
       "      <td>0.739844</td>\n",
       "    </tr>\n",
       "    <tr>\n",
       "      <th>2</th>\n",
       "      <td>0.70</td>\n",
       "      <td>9.23003</td>\n",
       "      <td>default</td>\n",
       "      <td>0.679195</td>\n",
       "    </tr>\n",
       "    <tr>\n",
       "      <th>3</th>\n",
       "      <td>0.40</td>\n",
       "      <td>2.33482</td>\n",
       "      <td>paid off</td>\n",
       "      <td>0.321995</td>\n",
       "    </tr>\n",
       "    <tr>\n",
       "      <th>4</th>\n",
       "      <td>0.45</td>\n",
       "      <td>12.10320</td>\n",
       "      <td>default</td>\n",
       "      <td>0.859796</td>\n",
       "    </tr>\n",
       "    <tr>\n",
       "      <th>5</th>\n",
       "      <td>0.50</td>\n",
       "      <td>3.89391</td>\n",
       "      <td>paid off</td>\n",
       "      <td>0.205094</td>\n",
       "    </tr>\n",
       "    <tr>\n",
       "      <th>6</th>\n",
       "      <td>0.40</td>\n",
       "      <td>7.00390</td>\n",
       "      <td>default</td>\n",
       "      <td>0.771959</td>\n",
       "    </tr>\n",
       "    <tr>\n",
       "      <th>7</th>\n",
       "      <td>0.40</td>\n",
       "      <td>10.04070</td>\n",
       "      <td>paid off</td>\n",
       "      <td>0.363510</td>\n",
       "    </tr>\n",
       "    <tr>\n",
       "      <th>8</th>\n",
       "      <td>0.55</td>\n",
       "      <td>3.54972</td>\n",
       "      <td>paid off</td>\n",
       "      <td>0.134250</td>\n",
       "    </tr>\n",
       "    <tr>\n",
       "      <th>9</th>\n",
       "      <td>0.45</td>\n",
       "      <td>7.50984</td>\n",
       "      <td>paid off</td>\n",
       "      <td>0.285996</td>\n",
       "    </tr>\n",
       "  </tbody>\n",
       "</table>\n",
       "</div>"
      ],
      "text/plain": [
       "   borrower_score  payment_inc_ratio prediction  prob_default\n",
       "0            0.40            5.11135   paid off      0.171144\n",
       "1            0.40            5.43165    default      0.739844\n",
       "2            0.70            9.23003    default      0.679195\n",
       "3            0.40            2.33482   paid off      0.321995\n",
       "4            0.45           12.10320    default      0.859796\n",
       "5            0.50            3.89391   paid off      0.205094\n",
       "6            0.40            7.00390    default      0.771959\n",
       "7            0.40           10.04070   paid off      0.363510\n",
       "8            0.55            3.54972   paid off      0.134250\n",
       "9            0.45            7.50984   paid off      0.285996"
      ]
     },
     "execution_count": 88,
     "metadata": {},
     "output_type": "execute_result"
    }
   ],
   "source": [
    "xgb_df.head(10)"
   ]
  },
  {
   "cell_type": "code",
   "execution_count": 89,
   "metadata": {},
   "outputs": [
    {
     "data": {
      "image/png": "[encoded data removed]",
      "text/plain": [
       "<Figure size 432x288 with 1 Axes>"
      ]
     },
     "metadata": {
      "needs_background": "light"
     },
     "output_type": "display_data"
    }
   ],
   "source": [
    "fig, ax = plt.subplots(figsize=(6, 4))\n",
    "\n",
    "xgb_df.loc[xgb_df.prediction=='paid off'].plot(\n",
    "    x='borrower_score', y='payment_inc_ratio', style='.', \n",
    "    markerfacecolor='none', markeredgecolor='C1', ax=ax)\n",
    "xgb_df.loc[xgb_df.prediction=='default'].plot(\n",
    "    x='borrower_score', y='payment_inc_ratio', style='o', \n",
    "    markerfacecolor='none', markeredgecolor='C0', ax=ax)\n",
    "ax.legend(['paid off', 'default']);\n",
    "ax.set_xlim(0, 1)\n",
    "ax.set_ylim(0, 25)\n",
    "ax.set_xlabel('borrower_score')\n",
    "ax.set_ylabel('payment_inc_ratio')\n",
    "\n",
    "plt.tight_layout()\n",
    "plt.show()"
   ]
  },
  {
   "cell_type": "markdown",
   "metadata": {},
   "source": [
    "<i>Avoid the Overfitting?</i>"
   ]
  },
  {
   "cell_type": "code",
   "execution_count": 91,
   "metadata": {},
   "outputs": [],
   "source": [
    "predictors = ['loan_amnt', 'term', 'annual_inc', 'dti', \n",
    "              'payment_inc_ratio', 'revol_bal', 'revol_util', \n",
    "              'purpose', 'delinq_2yrs_zero', 'pub_rec_zero', \n",
    "              'open_acc', 'grade', 'emp_length', 'purpose_', \n",
    "              'home_', 'emp_len_', 'borrower_score']\n",
    "outcome = 'outcome'"
   ]
  },
  {
   "cell_type": "code",
   "execution_count": 92,
   "metadata": {},
   "outputs": [],
   "source": [
    "X = pd.get_dummies(loan_data[predictors], drop_first=True)\n",
    "y = pd.Series([1 if o == 'default' else 0 for o in loan_data[outcome]])"
   ]
  },
  {
   "cell_type": "code",
   "execution_count": 93,
   "metadata": {},
   "outputs": [],
   "source": [
    "train_X, valid_X, train_y, valid_y = train_test_split(X, y, test_size=10000)"
   ]
  },
  {
   "cell_type": "code",
   "execution_count": 94,
   "metadata": {},
   "outputs": [],
   "source": [
    "xgb_default = XGBClassifier(objective='binary:logistic', n_estimators=250, max_depth=6,\n",
    "                            reg_lambda=0, learning_rate=0.3, subsample=1)\n",
    "xgb_default.fit(train_X, train_y)\n",
    "xgb_penalty = XGBClassifier(objective='binary:logistic', n_estimators=250, max_depth=6,\n",
    "                            reg_lambda=1000, learning_rate=0.1, subsample=0.63)"
   ]
  },
  {
   "cell_type": "code",
   "execution_count": 95,
   "metadata": {},
   "outputs": [
    {
     "data": {
      "text/plain": [
       "XGBClassifier(base_score=0.5, booster='gbtree', colsample_bylevel=1,\n",
       "              colsample_bynode=1, colsample_bytree=1, gamma=0, gpu_id=-1,\n",
       "              importance_type='gain', interaction_constraints='',\n",
       "              learning_rate=0.1, max_delta_step=0, max_depth=6,\n",
       "              min_child_weight=1, missing=nan, monotone_constraints='()',\n",
       "              n_estimators=250, n_jobs=0, num_parallel_tree=1,\n",
       "              objective='binary:logistic', random_state=0, reg_alpha=0,\n",
       "              reg_lambda=1000, scale_pos_weight=1, subsample=0.63,\n",
       "              tree_method='exact', validate_parameters=1, verbosity=None)"
      ]
     },
     "execution_count": 95,
     "metadata": {},
     "output_type": "execute_result"
    }
   ],
   "source": [
    "xgb_penalty.fit(train_X, train_y)"
   ]
  },
  {
   "cell_type": "code",
   "execution_count": 96,
   "metadata": {},
   "outputs": [
    {
     "data": {
      "text/plain": [
       "0.12263029822873635"
      ]
     },
     "execution_count": 96,
     "metadata": {},
     "output_type": "execute_result"
    }
   ],
   "source": [
    "pred_default = xgb_default.predict_proba(train_X)[:, 1]\n",
    "error_default = abs(train_y - pred_default) > 0.5\n",
    "np.mean(error_default)"
   ]
  },
  {
   "cell_type": "code",
   "execution_count": 97,
   "metadata": {},
   "outputs": [
    {
     "data": {
      "text/plain": [
       "0.3538"
      ]
     },
     "execution_count": 97,
     "metadata": {},
     "output_type": "execute_result"
    }
   ],
   "source": [
    "pred_default = xgb_default.predict_proba(valid_X)[:, 1]\n",
    "error_default = abs(valid_y - pred_default) > 0.5\n",
    "np.mean(error_default)"
   ]
  },
  {
   "cell_type": "code",
   "execution_count": 98,
   "metadata": {},
   "outputs": [
    {
     "data": {
      "text/plain": [
       "0.3281"
      ]
     },
     "execution_count": 98,
     "metadata": {},
     "output_type": "execute_result"
    }
   ],
   "source": [
    "pred_penalty = xgb_penalty.predict_proba(valid_X)[:, 1]\n",
    "error_penalty = abs(valid_y - pred_penalty) > 0.5\n",
    "np.mean(error_penalty)"
   ]
  },
  {
   "cell_type": "code",
   "execution_count": 99,
   "metadata": {},
   "outputs": [],
   "source": [
    "results = []\n",
    "for ntree_limit in range(1, 250):\n",
    "    train_default = xgb_default.predict_proba(train_X, ntree_limit=ntree_limit)[:, 1]\n",
    "    train_penalty = xgb_penalty.predict_proba(train_X, ntree_limit=ntree_limit)[:, 1]\n",
    "    pred_default = xgb_default.predict_proba(valid_X, ntree_limit=ntree_limit)[:, 1]\n",
    "    pred_penalty = xgb_penalty.predict_proba(valid_X, ntree_limit=ntree_limit)[:, 1]\n",
    "    results.append({\n",
    "        'iterations': ntree_limit,\n",
    "        'default train': np.mean(abs(train_y - train_default) > 0.5),\n",
    "        'penalty train': np.mean(abs(train_y - train_penalty) > 0.5),\n",
    "        'default test': np.mean(abs(valid_y - pred_default) > 0.5),\n",
    "        'penalty test': np.mean(abs(valid_y - pred_penalty) > 0.5),\n",
    "    })"
   ]
  },
  {
   "cell_type": "code",
   "execution_count": 100,
   "metadata": {},
   "outputs": [
    {
     "data": {
      "text/html": [
       "<div>\n",
       "<style scoped>\n",
       "    .dataframe tbody tr th:only-of-type {\n",
       "        vertical-align: middle;\n",
       "    }\n",
       "\n",
       "    .dataframe tbody tr th {\n",
       "        vertical-align: top;\n",
       "    }\n",
       "\n",
       "    .dataframe thead th {\n",
       "        text-align: right;\n",
       "    }\n",
       "</style>\n",
       "<table border=\"1\" class=\"dataframe\">\n",
       "  <thead>\n",
       "    <tr style=\"text-align: right;\">\n",
       "      <th></th>\n",
       "      <th>iterations</th>\n",
       "      <th>default train</th>\n",
       "      <th>penalty train</th>\n",
       "      <th>default test</th>\n",
       "      <th>penalty test</th>\n",
       "    </tr>\n",
       "  </thead>\n",
       "  <tbody>\n",
       "    <tr>\n",
       "      <th>0</th>\n",
       "      <td>1</td>\n",
       "      <td>0.337247</td>\n",
       "      <td>0.334050</td>\n",
       "      <td>0.3499</td>\n",
       "      <td>0.3467</td>\n",
       "    </tr>\n",
       "    <tr>\n",
       "      <th>1</th>\n",
       "      <td>2</td>\n",
       "      <td>0.328136</td>\n",
       "      <td>0.339058</td>\n",
       "      <td>0.3443</td>\n",
       "      <td>0.3474</td>\n",
       "    </tr>\n",
       "    <tr>\n",
       "      <th>2</th>\n",
       "      <td>3</td>\n",
       "      <td>0.324034</td>\n",
       "      <td>0.336144</td>\n",
       "      <td>0.3397</td>\n",
       "      <td>0.3466</td>\n",
       "    </tr>\n",
       "    <tr>\n",
       "      <th>3</th>\n",
       "      <td>4</td>\n",
       "      <td>0.322025</td>\n",
       "      <td>0.336568</td>\n",
       "      <td>0.3373</td>\n",
       "      <td>0.3468</td>\n",
       "    </tr>\n",
       "    <tr>\n",
       "      <th>4</th>\n",
       "      <td>5</td>\n",
       "      <td>0.319195</td>\n",
       "      <td>0.338181</td>\n",
       "      <td>0.3381</td>\n",
       "      <td>0.3481</td>\n",
       "    </tr>\n",
       "    <tr>\n",
       "      <th>5</th>\n",
       "      <td>6</td>\n",
       "      <td>0.317667</td>\n",
       "      <td>0.336172</td>\n",
       "      <td>0.3372</td>\n",
       "      <td>0.3409</td>\n",
       "    </tr>\n",
       "    <tr>\n",
       "      <th>6</th>\n",
       "      <td>7</td>\n",
       "      <td>0.315460</td>\n",
       "      <td>0.337247</td>\n",
       "      <td>0.3370</td>\n",
       "      <td>0.3436</td>\n",
       "    </tr>\n",
       "    <tr>\n",
       "      <th>7</th>\n",
       "      <td>8</td>\n",
       "      <td>0.312405</td>\n",
       "      <td>0.337361</td>\n",
       "      <td>0.3353</td>\n",
       "      <td>0.3445</td>\n",
       "    </tr>\n",
       "    <tr>\n",
       "      <th>8</th>\n",
       "      <td>9</td>\n",
       "      <td>0.310254</td>\n",
       "      <td>0.335861</td>\n",
       "      <td>0.3359</td>\n",
       "      <td>0.3445</td>\n",
       "    </tr>\n",
       "    <tr>\n",
       "      <th>9</th>\n",
       "      <td>10</td>\n",
       "      <td>0.309405</td>\n",
       "      <td>0.334701</td>\n",
       "      <td>0.3359</td>\n",
       "      <td>0.3436</td>\n",
       "    </tr>\n",
       "  </tbody>\n",
       "</table>\n",
       "</div>"
      ],
      "text/plain": [
       "   iterations  default train  penalty train  default test  penalty test\n",
       "0           1       0.337247       0.334050        0.3499        0.3467\n",
       "1           2       0.328136       0.339058        0.3443        0.3474\n",
       "2           3       0.324034       0.336144        0.3397        0.3466\n",
       "3           4       0.322025       0.336568        0.3373        0.3468\n",
       "4           5       0.319195       0.338181        0.3381        0.3481\n",
       "5           6       0.317667       0.336172        0.3372        0.3409\n",
       "6           7       0.315460       0.337247        0.3370        0.3436\n",
       "7           8       0.312405       0.337361        0.3353        0.3445\n",
       "8           9       0.310254       0.335861        0.3359        0.3445\n",
       "9          10       0.309405       0.334701        0.3359        0.3436"
      ]
     },
     "execution_count": 100,
     "metadata": {},
     "output_type": "execute_result"
    }
   ],
   "source": [
    "results = pd.DataFrame(results)\n",
    "results.head(10)"
   ]
  },
  {
   "cell_type": "code",
   "execution_count": 101,
   "metadata": {},
   "outputs": [
    {
     "data": {
      "image/png": "[encoded data removed]",
      "text/plain": [
       "<Figure size 432x288 with 1 Axes>"
      ]
     },
     "metadata": {
      "needs_background": "light"
     },
     "output_type": "display_data"
    }
   ],
   "source": [
    "ax = results.plot(x='iterations', y='default test')\n",
    "results.plot(x='iterations', y='penalty test', ax=ax)\n",
    "results.plot(x='iterations', y='default train', ax=ax)\n",
    "results.plot(x='iterations', y='penalty train', ax=ax)\n",
    "plt.show()"
   ]
  },
  {
   "cell_type": "code",
   "execution_count": 102,
   "metadata": {},
   "outputs": [
    {
     "name": "stdout",
     "output_type": "stream",
     "text": [
      "{'eta': 0.1, 'max_depth': 3, 'avg_error': 0.3285833584034966}\n",
      "{'eta': 0.1, 'max_depth': 6, 'avg_error': 0.3360123260492047}\n",
      "{'eta': 0.1, 'max_depth': 9, 'avg_error': 0.3446987903844622}\n",
      "{'eta': 0.5, 'max_depth': 3, 'avg_error': 0.34080422900806306}\n",
      "{'eta': 0.5, 'max_depth': 6, 'avg_error': 0.3668527590066877}\n",
      "{'eta': 0.5, 'max_depth': 9, 'avg_error': 0.37531646178877087}\n",
      "{'eta': 0.9, 'max_depth': 3, 'avg_error': 0.3534065545683201}\n",
      "{'eta': 0.9, 'max_depth': 6, 'avg_error': 0.38708707553791905}\n",
      "{'eta': 0.9, 'max_depth': 9, 'avg_error': 0.38392829846136456}\n"
     ]
    }
   ],
   "source": [
    "# HyperParameter and Cross-Validation\n",
    "idx = np.random.choice(range(5), size=len(X), replace=True)\n",
    "error = []\n",
    "for eta, max_depth in product([0.1, 0.5, 0.9], [3, 6, 9]):\n",
    "    xgb = XGBClassifier(objective='binary:logistic', n_estimators=250, \n",
    "                        max_depth=max_depth, learning_rate=eta)\n",
    "    cv_error = []\n",
    "    for k in range(5):\n",
    "        fold_idx = idx == k\n",
    "        train_X = X.loc[~fold_idx]; train_y = y[~fold_idx]\n",
    "        valid_X = X.loc[fold_idx]; valid_y = y[fold_idx]\n",
    "\n",
    "        xgb.fit(train_X, train_y)\n",
    "        pred = xgb.predict_proba(valid_X)[:, 1]\n",
    "        cv_error.append(np.mean(abs(valid_y - pred) > 0.5))\n",
    "    error.append({\n",
    "        'eta': eta,\n",
    "        'max_depth': max_depth,\n",
    "        'avg_error': np.mean(cv_error)\n",
    "    })\n",
    "    print(error[-1])\n",
    "errors = pd.DataFrame(error)"
   ]
  },
  {
   "cell_type": "code",
   "execution_count": 104,
   "metadata": {},
   "outputs": [
    {
     "data": {
      "text/html": [
       "<div>\n",
       "<style scoped>\n",
       "    .dataframe tbody tr th:only-of-type {\n",
       "        vertical-align: middle;\n",
       "    }\n",
       "\n",
       "    .dataframe tbody tr th {\n",
       "        vertical-align: top;\n",
       "    }\n",
       "\n",
       "    .dataframe thead th {\n",
       "        text-align: right;\n",
       "    }\n",
       "</style>\n",
       "<table border=\"1\" class=\"dataframe\">\n",
       "  <thead>\n",
       "    <tr style=\"text-align: right;\">\n",
       "      <th></th>\n",
       "      <th>eta</th>\n",
       "      <th>max_depth</th>\n",
       "      <th>avg_error</th>\n",
       "    </tr>\n",
       "  </thead>\n",
       "  <tbody>\n",
       "    <tr>\n",
       "      <th>0</th>\n",
       "      <td>0.1</td>\n",
       "      <td>3</td>\n",
       "      <td>0.328583</td>\n",
       "    </tr>\n",
       "    <tr>\n",
       "      <th>1</th>\n",
       "      <td>0.1</td>\n",
       "      <td>6</td>\n",
       "      <td>0.336012</td>\n",
       "    </tr>\n",
       "    <tr>\n",
       "      <th>2</th>\n",
       "      <td>0.1</td>\n",
       "      <td>9</td>\n",
       "      <td>0.344699</td>\n",
       "    </tr>\n",
       "    <tr>\n",
       "      <th>3</th>\n",
       "      <td>0.5</td>\n",
       "      <td>3</td>\n",
       "      <td>0.340804</td>\n",
       "    </tr>\n",
       "    <tr>\n",
       "      <th>4</th>\n",
       "      <td>0.5</td>\n",
       "      <td>6</td>\n",
       "      <td>0.366853</td>\n",
       "    </tr>\n",
       "    <tr>\n",
       "      <th>5</th>\n",
       "      <td>0.5</td>\n",
       "      <td>9</td>\n",
       "      <td>0.375316</td>\n",
       "    </tr>\n",
       "    <tr>\n",
       "      <th>6</th>\n",
       "      <td>0.9</td>\n",
       "      <td>3</td>\n",
       "      <td>0.353407</td>\n",
       "    </tr>\n",
       "    <tr>\n",
       "      <th>7</th>\n",
       "      <td>0.9</td>\n",
       "      <td>6</td>\n",
       "      <td>0.387087</td>\n",
       "    </tr>\n",
       "    <tr>\n",
       "      <th>8</th>\n",
       "      <td>0.9</td>\n",
       "      <td>9</td>\n",
       "      <td>0.383928</td>\n",
       "    </tr>\n",
       "  </tbody>\n",
       "</table>\n",
       "</div>"
      ],
      "text/plain": [
       "   eta  max_depth  avg_error\n",
       "0  0.1          3   0.328583\n",
       "1  0.1          6   0.336012\n",
       "2  0.1          9   0.344699\n",
       "3  0.5          3   0.340804\n",
       "4  0.5          6   0.366853\n",
       "5  0.5          9   0.375316\n",
       "6  0.9          3   0.353407\n",
       "7  0.9          6   0.387087\n",
       "8  0.9          9   0.383928"
      ]
     },
     "execution_count": 104,
     "metadata": {},
     "output_type": "execute_result"
    }
   ],
   "source": [
    "errors.head(10)"
   ]
  },
  {
   "cell_type": "code",
   "execution_count": 105,
   "metadata": {},
   "outputs": [
    {
     "data": {
      "text/html": [
       "<div>\n",
       "<style scoped>\n",
       "    .dataframe tbody tr th:only-of-type {\n",
       "        vertical-align: middle;\n",
       "    }\n",
       "\n",
       "    .dataframe tbody tr th {\n",
       "        vertical-align: top;\n",
       "    }\n",
       "\n",
       "    .dataframe thead th {\n",
       "        text-align: right;\n",
       "    }\n",
       "</style>\n",
       "<table border=\"1\" class=\"dataframe\">\n",
       "  <thead>\n",
       "    <tr style=\"text-align: right;\">\n",
       "      <th>max_depth</th>\n",
       "      <th>3</th>\n",
       "      <th>6</th>\n",
       "      <th>9</th>\n",
       "    </tr>\n",
       "    <tr>\n",
       "      <th>eta</th>\n",
       "      <th></th>\n",
       "      <th></th>\n",
       "      <th></th>\n",
       "    </tr>\n",
       "  </thead>\n",
       "  <tbody>\n",
       "    <tr>\n",
       "      <th>0.1</th>\n",
       "      <td>32.858336</td>\n",
       "      <td>33.601233</td>\n",
       "      <td>34.469879</td>\n",
       "    </tr>\n",
       "    <tr>\n",
       "      <th>0.5</th>\n",
       "      <td>34.080423</td>\n",
       "      <td>36.685276</td>\n",
       "      <td>37.531646</td>\n",
       "    </tr>\n",
       "    <tr>\n",
       "      <th>0.9</th>\n",
       "      <td>35.340655</td>\n",
       "      <td>38.708708</td>\n",
       "      <td>38.392830</td>\n",
       "    </tr>\n",
       "  </tbody>\n",
       "</table>\n",
       "</div>"
      ],
      "text/plain": [
       "max_depth          3          6          9\n",
       "eta                                       \n",
       "0.1        32.858336  33.601233  34.469879\n",
       "0.5        34.080423  36.685276  37.531646\n",
       "0.9        35.340655  38.708708  38.392830"
      ]
     },
     "execution_count": 105,
     "metadata": {},
     "output_type": "execute_result"
    }
   ],
   "source": [
    "errors.pivot_table(index='eta', columns='max_depth', values='avg_error') * 100"
   ]
  }
 ],
 "metadata": {
  "kernelspec": {
   "display_name": "Python 3",
   "language": "python",
   "name": "python3"
  },
  "language_info": {
   "codemirror_mode": {
    "name": "ipython",
    "version": 3
   },
   "file_extension": ".py",
   "mimetype": "text/x-python",
   "name": "python",
   "nbconvert_exporter": "python",
   "pygments_lexer": "ipython3",
   "version": "3.7.4"
  }
 },
 "nbformat": 4,
 "nbformat_minor": 2
}
