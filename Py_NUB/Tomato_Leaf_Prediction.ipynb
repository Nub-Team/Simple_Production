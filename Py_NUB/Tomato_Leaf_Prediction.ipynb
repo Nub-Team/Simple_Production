{
  "nbformat": 4,
  "nbformat_minor": 0,
  "metadata": {
    "colab": {
      "name": "Tomato_Leaf_Prediction.ipynb",
      "provenance": []
    },
    "kernelspec": {
      "name": "python3",
      "display_name": "Python 3"
    },
    "accelerator": "GPU"
  },
  "cells": [
    {
      "cell_type": "markdown",
      "metadata": {
        "id": "SICAghhU0ZSB"
      },
      "source": [
        "<b>Tomato Leaf Disease Prediction using VGG16</b><br>\r\n",
        "--\r\n",
        "AUTHOR : \r\n",
        "* <a href=\"github.com/samyon7\">samyon7</a>\r\n",
        "* <a href=\"github.com/Yehezk34\">Yehezk34</a>"
      ]
    },
    {
      "cell_type": "code",
      "metadata": {
        "colab": {
          "base_uri": "https://localhost:8080/"
        },
        "id": "9hreYWHx4X3z",
        "outputId": "d6935faf-bc6d-4255-ac0e-d81f74a23ccf"
      },
      "source": [
        "!pip install kaggle"
      ],
      "execution_count": 1,
      "outputs": [
        {
          "output_type": "stream",
          "text": [
            "Requirement already satisfied: kaggle in /usr/local/lib/python3.6/dist-packages (1.5.10)\n",
            "Requirement already satisfied: python-dateutil in /usr/local/lib/python3.6/dist-packages (from kaggle) (2.8.1)\n",
            "Requirement already satisfied: tqdm in /usr/local/lib/python3.6/dist-packages (from kaggle) (4.41.1)\n",
            "Requirement already satisfied: six>=1.10 in /usr/local/lib/python3.6/dist-packages (from kaggle) (1.15.0)\n",
            "Requirement already satisfied: python-slugify in /usr/local/lib/python3.6/dist-packages (from kaggle) (4.0.1)\n",
            "Requirement already satisfied: certifi in /usr/local/lib/python3.6/dist-packages (from kaggle) (2020.12.5)\n",
            "Requirement already satisfied: urllib3 in /usr/local/lib/python3.6/dist-packages (from kaggle) (1.24.3)\n",
            "Requirement already satisfied: requests in /usr/local/lib/python3.6/dist-packages (from kaggle) (2.23.0)\n",
            "Requirement already satisfied: text-unidecode>=1.3 in /usr/local/lib/python3.6/dist-packages (from python-slugify->kaggle) (1.3)\n",
            "Requirement already satisfied: chardet<4,>=3.0.2 in /usr/local/lib/python3.6/dist-packages (from requests->kaggle) (3.0.4)\n",
            "Requirement already satisfied: idna<3,>=2.5 in /usr/local/lib/python3.6/dist-packages (from requests->kaggle) (2.10)\n"
          ],
          "name": "stdout"
        }
      ]
    },
    {
      "cell_type": "code",
      "metadata": {
        "id": "zRNJbL0OYZUT"
      },
      "source": [
        "from google.colab import files\r\n",
        "files.upload()"
      ],
      "execution_count": null,
      "outputs": []
    },
    {
      "cell_type": "code",
      "metadata": {
        "id": "cGYnsVFHYiL6"
      },
      "source": [
        "!mkdir -p ~/.kaggle\r\n",
        "!cp kaggle.json ~/.kaggle/\r\n",
        "!chmod 600 ~/.kaggle/kaggle.json"
      ],
      "execution_count": 3,
      "outputs": []
    },
    {
      "cell_type": "code",
      "metadata": {
        "colab": {
          "base_uri": "https://localhost:8080/"
        },
        "id": "-EAGjnhtYrMB",
        "outputId": "baef3f93-a836-453f-a526-321d143cbf7e"
      },
      "source": [
        "!kaggle datasets download -d jarvis705/tomato-leaf-disease"
      ],
      "execution_count": 4,
      "outputs": [
        {
          "output_type": "stream",
          "text": [
            "Downloading tomato-leaf-disease.zip to /content\n",
            " 97% 312M/322M [00:04<00:00, 69.9MB/s]\n",
            "100% 322M/322M [00:04<00:00, 76.8MB/s]\n"
          ],
          "name": "stdout"
        }
      ]
    },
    {
      "cell_type": "code",
      "metadata": {
        "id": "feFBqsddYwMf"
      },
      "source": [
        "import numpy as np\r\n",
        "import itertools\r\n",
        "import os\r\n",
        "import glob\r\n",
        "import warnings\r\n",
        "warnings.simplefilter(action=\"ignore\", category=FutureWarning)\r\n",
        "import matplotlib.pyplot as plt\r\n",
        "from sklearn.metrics import confusion_matrix\r\n",
        "%matplotlib inline"
      ],
      "execution_count": 6,
      "outputs": []
    },
    {
      "cell_type": "code",
      "metadata": {
        "id": "KQ5gZaQ4Y9dL"
      },
      "source": [
        "import tensorflow as tf\r\n",
        "from tensorflow import keras\r\n",
        "from tensorflow.keras.models import Sequential\r\n",
        "from tensorflow.keras.layers import Activation, Dense, Flatten, BatchNormalization, Conv2D, MaxPool2D\r\n",
        "from tensorflow.keras.optimizers import Adam\r\n",
        "from tensorflow.keras.metrics import categorical_crossentropy\r\n",
        "from tensorflow.keras.preprocessing.image import ImageDataGenerator"
      ],
      "execution_count": 7,
      "outputs": []
    },
    {
      "cell_type": "code",
      "metadata": {
        "id": "ocHA7DJ2ZDGk"
      },
      "source": [
        "import zipfile\r\n",
        "zip_ref = zipfile.ZipFile('tomato-leaf-disease.zip', 'r')\r\n",
        "zip_ref.extractall('files')\r\n",
        "zip_ref.close()"
      ],
      "execution_count": 8,
      "outputs": []
    },
    {
      "cell_type": "code",
      "metadata": {
        "id": "Bh8L4zODZNRz"
      },
      "source": [
        "train_path = \"files/Tomato Leaf Diseases/Training Set\"\r\n",
        "valid_path = \"files/Tomato Leaf Diseases/Validation Set\""
      ],
      "execution_count": 9,
      "outputs": []
    },
    {
      "cell_type": "code",
      "metadata": {
        "id": "XcdVp-syZdf5"
      },
      "source": [
        "train_datagen = ImageDataGenerator(rescale = 1./255,\r\n",
        "                                   shear_range = 0.2,\r\n",
        "                                   zoom_range = 0.2,\r\n",
        "                                   horizontal_flip = True, \r\n",
        "                                   vertical_flip=True)"
      ],
      "execution_count": 10,
      "outputs": []
    },
    {
      "cell_type": "code",
      "metadata": {
        "id": "4WE71Ny1Zix2"
      },
      "source": [
        "valid_datagen = ImageDataGenerator(rescale = 1./255)"
      ],
      "execution_count": 11,
      "outputs": []
    },
    {
      "cell_type": "code",
      "metadata": {
        "colab": {
          "base_uri": "https://localhost:8080/"
        },
        "id": "IRKh6u1CZjRx",
        "outputId": "4b0cf5af-332f-4646-d3e3-e1f350cf52f2"
      },
      "source": [
        "training_set = train_datagen.flow_from_directory(train_path,\r\n",
        "                                                 target_size = (224, 224),\r\n",
        "                                                 batch_size = 200,\r\n",
        "                                                 class_mode = 'categorical')"
      ],
      "execution_count": 12,
      "outputs": [
        {
          "output_type": "stream",
          "text": [
            "Found 10000 images belonging to 10 classes.\n"
          ],
          "name": "stdout"
        }
      ]
    },
    {
      "cell_type": "code",
      "metadata": {
        "colab": {
          "base_uri": "https://localhost:8080/"
        },
        "id": "vnnJF9jQZpOv",
        "outputId": "7cd11b44-edd6-4677-953e-72e6114801b1"
      },
      "source": [
        "validation_set = valid_datagen.flow_from_directory(valid_path,\r\n",
        "                                            target_size = (224, 224),\r\n",
        "                                            batch_size = 70,\r\n",
        "                                            class_mode = 'categorical')"
      ],
      "execution_count": 13,
      "outputs": [
        {
          "output_type": "stream",
          "text": [
            "Found 7000 images belonging to 10 classes.\n"
          ],
          "name": "stdout"
        }
      ]
    },
    {
      "cell_type": "code",
      "metadata": {
        "colab": {
          "base_uri": "https://localhost:8080/"
        },
        "id": "IIaVx9-cZvr3",
        "outputId": "2b06a75b-79d9-4503-a036-56c5e0da56f6"
      },
      "source": [
        "# Use the VGG16!\r\n",
        "vgg16_model =  tf.keras.applications.vgg16.VGG16()"
      ],
      "execution_count": 14,
      "outputs": [
        {
          "output_type": "stream",
          "text": [
            "Downloading data from https://storage.googleapis.com/tensorflow/keras-applications/vgg16/vgg16_weights_tf_dim_ordering_tf_kernels.h5\n",
            "553467904/553467096 [==============================] - 4s 0us/step\n"
          ],
          "name": "stdout"
        }
      ]
    },
    {
      "cell_type": "code",
      "metadata": {
        "id": "sfPAOlZgZ0t6"
      },
      "source": [
        "model = Sequential()\r\n",
        "for layer in vgg16_model.layers[:-1]:\r\n",
        "    model.add(layer)"
      ],
      "execution_count": 15,
      "outputs": []
    },
    {
      "cell_type": "code",
      "metadata": {
        "id": "sB19S-waZ8q1"
      },
      "source": [
        "for layer in model.layers:\r\n",
        "    layer.trainable = False"
      ],
      "execution_count": 16,
      "outputs": []
    },
    {
      "cell_type": "code",
      "metadata": {
        "colab": {
          "base_uri": "https://localhost:8080/"
        },
        "id": "46hEbCGYaBBs",
        "outputId": "08ff17de-1225-435b-cf55-4a9a11438d15"
      },
      "source": [
        "model.add(Dense(units=10, activation= 'softmax'))\r\n",
        "\r\n",
        "model.summary()"
      ],
      "execution_count": 17,
      "outputs": [
        {
          "output_type": "stream",
          "text": [
            "Model: \"sequential\"\n",
            "_________________________________________________________________\n",
            "Layer (type)                 Output Shape              Param #   \n",
            "=================================================================\n",
            "block1_conv1 (Conv2D)        (None, 224, 224, 64)      1792      \n",
            "_________________________________________________________________\n",
            "block1_conv2 (Conv2D)        (None, 224, 224, 64)      36928     \n",
            "_________________________________________________________________\n",
            "block1_pool (MaxPooling2D)   (None, 112, 112, 64)      0         \n",
            "_________________________________________________________________\n",
            "block2_conv1 (Conv2D)        (None, 112, 112, 128)     73856     \n",
            "_________________________________________________________________\n",
            "block2_conv2 (Conv2D)        (None, 112, 112, 128)     147584    \n",
            "_________________________________________________________________\n",
            "block2_pool (MaxPooling2D)   (None, 56, 56, 128)       0         \n",
            "_________________________________________________________________\n",
            "block3_conv1 (Conv2D)        (None, 56, 56, 256)       295168    \n",
            "_________________________________________________________________\n",
            "block3_conv2 (Conv2D)        (None, 56, 56, 256)       590080    \n",
            "_________________________________________________________________\n",
            "block3_conv3 (Conv2D)        (None, 56, 56, 256)       590080    \n",
            "_________________________________________________________________\n",
            "block3_pool (MaxPooling2D)   (None, 28, 28, 256)       0         \n",
            "_________________________________________________________________\n",
            "block4_conv1 (Conv2D)        (None, 28, 28, 512)       1180160   \n",
            "_________________________________________________________________\n",
            "block4_conv2 (Conv2D)        (None, 28, 28, 512)       2359808   \n",
            "_________________________________________________________________\n",
            "block4_conv3 (Conv2D)        (None, 28, 28, 512)       2359808   \n",
            "_________________________________________________________________\n",
            "block4_pool (MaxPooling2D)   (None, 14, 14, 512)       0         \n",
            "_________________________________________________________________\n",
            "block5_conv1 (Conv2D)        (None, 14, 14, 512)       2359808   \n",
            "_________________________________________________________________\n",
            "block5_conv2 (Conv2D)        (None, 14, 14, 512)       2359808   \n",
            "_________________________________________________________________\n",
            "block5_conv3 (Conv2D)        (None, 14, 14, 512)       2359808   \n",
            "_________________________________________________________________\n",
            "block5_pool (MaxPooling2D)   (None, 7, 7, 512)         0         \n",
            "_________________________________________________________________\n",
            "flatten (Flatten)            (None, 25088)             0         \n",
            "_________________________________________________________________\n",
            "fc1 (Dense)                  (None, 4096)              102764544 \n",
            "_________________________________________________________________\n",
            "fc2 (Dense)                  (None, 4096)              16781312  \n",
            "_________________________________________________________________\n",
            "dense (Dense)                (None, 10)                40970     \n",
            "=================================================================\n",
            "Total params: 134,301,514\n",
            "Trainable params: 40,970\n",
            "Non-trainable params: 134,260,544\n",
            "_________________________________________________________________\n"
          ],
          "name": "stdout"
        }
      ]
    },
    {
      "cell_type": "code",
      "metadata": {
        "id": "aEpW8kqjaFKl"
      },
      "source": [
        "model.compile(loss='categorical_crossentropy', \r\n",
        "              optimizer='adam', \r\n",
        "              metrics=['accuracy'])"
      ],
      "execution_count": 18,
      "outputs": []
    },
    {
      "cell_type": "code",
      "metadata": {
        "colab": {
          "base_uri": "https://localhost:8080/"
        },
        "id": "dglQ0jTjaL41",
        "outputId": "d400afbf-0e46-48c7-aeed-9281eb215de3"
      },
      "source": [
        "# Epochs should be 50\r\n",
        "\r\n",
        "mod = model.fit(x = training_set, validation_data=validation_set, epochs=20, verbose = 1)"
      ],
      "execution_count": 22,
      "outputs": [
        {
          "output_type": "stream",
          "text": [
            "Epoch 1/20\n",
            "50/50 [==============================] - 143s 3s/step - loss: 1.0432 - accuracy: 0.6679 - val_loss: 1.0826 - val_accuracy: 0.6483\n",
            "Epoch 2/20\n",
            "50/50 [==============================] - 143s 3s/step - loss: 0.9922 - accuracy: 0.6770 - val_loss: 1.0258 - val_accuracy: 0.6726\n",
            "Epoch 3/20\n",
            "50/50 [==============================] - 144s 3s/step - loss: 0.9550 - accuracy: 0.6928 - val_loss: 1.0264 - val_accuracy: 0.6694\n",
            "Epoch 4/20\n",
            "50/50 [==============================] - 143s 3s/step - loss: 0.9216 - accuracy: 0.7009 - val_loss: 0.9661 - val_accuracy: 0.6933\n",
            "Epoch 5/20\n",
            "50/50 [==============================] - 143s 3s/step - loss: 0.9037 - accuracy: 0.7074 - val_loss: 0.9924 - val_accuracy: 0.6804\n",
            "Epoch 6/20\n",
            "50/50 [==============================] - 143s 3s/step - loss: 0.8955 - accuracy: 0.7067 - val_loss: 0.9208 - val_accuracy: 0.7073\n",
            "Epoch 7/20\n",
            "50/50 [==============================] - 143s 3s/step - loss: 0.8562 - accuracy: 0.7240 - val_loss: 0.9173 - val_accuracy: 0.7093\n",
            "Epoch 8/20\n",
            "50/50 [==============================] - 143s 3s/step - loss: 0.8490 - accuracy: 0.7258 - val_loss: 0.8924 - val_accuracy: 0.7094\n",
            "Epoch 9/20\n",
            "50/50 [==============================] - 143s 3s/step - loss: 0.8471 - accuracy: 0.7206 - val_loss: 0.9140 - val_accuracy: 0.7023\n",
            "Epoch 10/20\n",
            "50/50 [==============================] - 143s 3s/step - loss: 0.8245 - accuracy: 0.7308 - val_loss: 0.8897 - val_accuracy: 0.7106\n",
            "Epoch 11/20\n",
            "50/50 [==============================] - 142s 3s/step - loss: 0.8194 - accuracy: 0.7317 - val_loss: 0.8649 - val_accuracy: 0.7200\n",
            "Epoch 12/20\n",
            "50/50 [==============================] - 142s 3s/step - loss: 0.7980 - accuracy: 0.7320 - val_loss: 0.9060 - val_accuracy: 0.6954\n",
            "Epoch 13/20\n",
            "50/50 [==============================] - 143s 3s/step - loss: 0.7822 - accuracy: 0.7435 - val_loss: 0.9047 - val_accuracy: 0.6889\n",
            "Epoch 14/20\n",
            "50/50 [==============================] - 142s 3s/step - loss: 0.7651 - accuracy: 0.7478 - val_loss: 0.8421 - val_accuracy: 0.7233\n",
            "Epoch 15/20\n",
            "50/50 [==============================] - 143s 3s/step - loss: 0.7684 - accuracy: 0.7491 - val_loss: 0.8729 - val_accuracy: 0.7166\n",
            "Epoch 16/20\n",
            "50/50 [==============================] - 143s 3s/step - loss: 0.7802 - accuracy: 0.7382 - val_loss: 0.9085 - val_accuracy: 0.6976\n",
            "Epoch 17/20\n",
            "50/50 [==============================] - 143s 3s/step - loss: 0.7588 - accuracy: 0.7481 - val_loss: 0.8151 - val_accuracy: 0.7369\n",
            "Epoch 18/20\n",
            "50/50 [==============================] - 143s 3s/step - loss: 0.7384 - accuracy: 0.7558 - val_loss: 0.8113 - val_accuracy: 0.7281\n",
            "Epoch 19/20\n",
            "50/50 [==============================] - 143s 3s/step - loss: 0.7547 - accuracy: 0.7495 - val_loss: 0.7992 - val_accuracy: 0.7366\n",
            "Epoch 20/20\n",
            "50/50 [==============================] - 142s 3s/step - loss: 0.7233 - accuracy: 0.7612 - val_loss: 0.8240 - val_accuracy: 0.7167\n"
          ],
          "name": "stdout"
        }
      ]
    },
    {
      "cell_type": "code",
      "metadata": {
        "colab": {
          "base_uri": "https://localhost:8080/",
          "height": 265
        },
        "id": "C6NlGKtgaOHM",
        "outputId": "5b5f4301-eb6b-4025-a260-37ee6ecfc97d"
      },
      "source": [
        "plt.plot(mod.history['accuracy'], label='train acc')\r\n",
        "plt.plot(mod.history['val_accuracy'], label='val acc')\r\n",
        "plt.legend()\r\n",
        "plt.show()"
      ],
      "execution_count": 24,
      "outputs": [
        {
          "output_type": "display_data",
          "data": {
            "image/png": "[encoded data removed]",
            "text/plain": [
              "<Figure size 432x288 with 1 Axes>"
            ]
          },
          "metadata": {
            "tags": [],
            "needs_background": "light"
          }
        }
      ]
    },
    {
      "cell_type": "code",
      "metadata": {
        "colab": {
          "base_uri": "https://localhost:8080/",
          "height": 269
        },
        "id": "cSM-Zvrxps_o",
        "outputId": "e94cf7b5-9814-4a6b-a4a4-bb4b48bc7f78"
      },
      "source": [
        "plt.plot(mod.history['loss'], label='train loss')\r\n",
        "plt.plot(mod.history['val_loss'], label='val loss')\r\n",
        "plt.legend()\r\n",
        "plt.show()"
      ],
      "execution_count": 25,
      "outputs": [
        {
          "output_type": "display_data",
          "data": {
            "image/png": "[encoded data removed]",
            "text/plain": [
              "<Figure size 432x288 with 1 Axes>"
            ]
          },
          "metadata": {
            "tags": [],
            "needs_background": "light"
          }
        }
      ]
    },
    {
      "cell_type": "code",
      "metadata": {
        "id": "dyJF_d9lp0zF"
      },
      "source": [
        "# Save model\r\n",
        "model_json = model.to_json()\r\n",
        "with open(\"model.json\", \"w\") as json_file:\r\n",
        "    json_file.write(model_json)\r\n",
        "    \r\n",
        "model.save_weights(\"model.h5\")"
      ],
      "execution_count": 27,
      "outputs": []
    },
    {
      "cell_type": "code",
      "metadata": {
        "id": "QdsDmc5np9AV"
      },
      "source": [
        ""
      ],
      "execution_count": null,
      "outputs": []
    }
  ]
}