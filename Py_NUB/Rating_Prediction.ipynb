{
 "cells": [
  {
   "cell_type": "markdown",
   "metadata": {},
   "source": [
    "<b>RATING PREDICTION</b><br>\n",
    "--\n",
    "AUTHOR : \n",
    "* Nub-T\n",
    "* sammyon7"
   ]
  },
  {
   "cell_type": "code",
   "execution_count": 1,
   "metadata": {
    "colab": {
     "base_uri": "https://localhost:8080/"
    },
    "id": "vgG-LiwFfUPE",
    "outputId": "933aebeb-6b0d-4faa-d51c-bc9582bee5d3"
   },
   "outputs": [
    {
     "name": "stdout",
     "output_type": "stream",
     "text": [
      "Requirement already satisfied: kaggle in /usr/local/lib/python3.6/dist-packages (1.5.10)\n",
      "Requirement already satisfied: python-dateutil in /usr/local/lib/python3.6/dist-packages (from kaggle) (2.8.1)\n",
      "Requirement already satisfied: six>=1.10 in /usr/local/lib/python3.6/dist-packages (from kaggle) (1.15.0)\n",
      "Requirement already satisfied: python-slugify in /usr/local/lib/python3.6/dist-packages (from kaggle) (4.0.1)\n",
      "Requirement already satisfied: certifi in /usr/local/lib/python3.6/dist-packages (from kaggle) (2020.12.5)\n",
      "Requirement already satisfied: tqdm in /usr/local/lib/python3.6/dist-packages (from kaggle) (4.41.1)\n",
      "Requirement already satisfied: urllib3 in /usr/local/lib/python3.6/dist-packages (from kaggle) (1.24.3)\n",
      "Requirement already satisfied: requests in /usr/local/lib/python3.6/dist-packages (from kaggle) (2.23.0)\n",
      "Requirement already satisfied: text-unidecode>=1.3 in /usr/local/lib/python3.6/dist-packages (from python-slugify->kaggle) (1.3)\n",
      "Requirement already satisfied: idna<3,>=2.5 in /usr/local/lib/python3.6/dist-packages (from requests->kaggle) (2.10)\n",
      "Requirement already satisfied: chardet<4,>=3.0.2 in /usr/local/lib/python3.6/dist-packages (from requests->kaggle) (3.0.4)\n"
     ]
    }
   ],
   "source": [
    "!pip install kaggle"
   ]
  },
  {
   "cell_type": "code",
   "execution_count": 2,
   "metadata": {
    "colab": {
     "base_uri": "https://localhost:8080/",
     "height": 89,
     "resources": {
      "http://localhost:8080/nbextensions/google.colab/files.js": {
       "data": "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",
       "headers": [
        [
         "content-type",
         "application/javascript"
        ]
       ],
       "ok": true,
       "status": 200,
       "status_text": ""
      }
     }
    },
    "id": "xpgSg_h8fdfu",
    "outputId": "cb0858f6-d58c-489b-93f2-a61bb6910129"
   },
   "outputs": [
    {
     "data": {
      "text/html": [
       "\n",
       "     <input type=\"file\" id=\"files-17f63e2e-3f32-4c0b-9688-869161b693dd\" name=\"files[]\" multiple disabled\n",
       "        style=\"border:none\" />\n",
       "     <output id=\"result-17f63e2e-3f32-4c0b-9688-869161b693dd\">\n",
       "      Upload widget is only available when the cell has been executed in the\n",
       "      current browser session. Please rerun this cell to enable.\n",
       "      </output>\n",
       "      <script src=\"/nbextensions/google.colab/files.js\"></script> "
      ],
      "text/plain": [
       "<IPython.core.display.HTML object>"
      ]
     },
     "metadata": {
      "tags": []
     },
     "output_type": "display_data"
    },
    {
     "name": "stdout",
     "output_type": "stream",
     "text": [
      "Saving kaggle.json to kaggle.json\n"
     ]
    },
    {
     "data": {
      "text/plain": [
       "{'kaggle.json': b'{\"username\":\"hamorahadi\",\"key\":\"55ee72819a572a66fca8455d7d869215\"}'}"
      ]
     },
     "execution_count": 2,
     "metadata": {
      "tags": []
     },
     "output_type": "execute_result"
    }
   ],
   "source": [
    "from google.colab import files\n",
    "files.upload()"
   ]
  },
  {
   "cell_type": "code",
   "execution_count": 3,
   "metadata": {
    "id": "geLJYHXkf6bx"
   },
   "outputs": [],
   "source": [
    "!mkdir -p ~/.kaggle\n",
    "!cp kaggle.json ~/.kaggle/\n",
    "!chmod 600 ~/.kaggle/kaggle.json"
   ]
  },
  {
   "cell_type": "code",
   "execution_count": 4,
   "metadata": {
    "colab": {
     "base_uri": "https://localhost:8080/"
    },
    "id": "l4hlPg36gB63",
    "outputId": "8dc04be9-77be-49e7-810a-9bbabcbfa6ee"
   },
   "outputs": [
    {
     "name": "stdout",
     "output_type": "stream",
     "text": [
      "Downloading boardgamegeek-reviews.zip to /content\n",
      "100% 451M/451M [00:04<00:00, 110MB/s] \n",
      "\n"
     ]
    }
   ],
   "source": [
    "!kaggle datasets download -d jvanelteren/boardgamegeek-reviews"
   ]
  },
  {
   "cell_type": "code",
   "execution_count": 5,
   "metadata": {
    "colab": {
     "base_uri": "https://localhost:8080/"
    },
    "id": "7iobaEfjgP3C",
    "outputId": "fe4fda4a-a8a3-4238-eb38-a5a8d6f7902f"
   },
   "outputs": [
    {
     "name": "stdout",
     "output_type": "stream",
     "text": [
      "Downloading glove6b100dtxt.zip to /content\n",
      "100% 131M/131M [00:01<00:00, 76.8MB/s]\n",
      "\n"
     ]
    }
   ],
   "source": [
    "!kaggle datasets download -d danielwillgeorge/glove6b100dtxt"
   ]
  },
  {
   "cell_type": "code",
   "execution_count": 6,
   "metadata": {
    "colab": {
     "base_uri": "https://localhost:8080/"
    },
    "id": "q1nQ8zLngr0E",
    "outputId": "23615e57-54a4-454b-9a93-4d881d8cec69"
   },
   "outputs": [
    {
     "name": "stdout",
     "output_type": "stream",
     "text": [
      "boardgamegeek-reviews.zip  glove6b100dtxt.zip  kaggle.json  sample_data\n"
     ]
    }
   ],
   "source": [
    "!ls"
   ]
  },
  {
   "cell_type": "code",
   "execution_count": 7,
   "metadata": {
    "colab": {
     "base_uri": "https://localhost:8080/"
    },
    "id": "AR1RpMZug5Qt",
    "outputId": "683bafdb-327a-4644-f271-8127026feef4"
   },
   "outputs": [
    {
     "data": {
      "text/plain": [
       "['.config',\n",
       " 'kaggle.json',\n",
       " 'boardgamegeek-reviews.zip',\n",
       " 'glove6b100dtxt.zip',\n",
       " 'sample_data']"
      ]
     },
     "execution_count": 7,
     "metadata": {
      "tags": []
     },
     "output_type": "execute_result"
    }
   ],
   "source": [
    "import os\n",
    "os.listdir()"
   ]
  },
  {
   "cell_type": "code",
   "execution_count": 9,
   "metadata": {
    "id": "KVyd36Jag9N9"
   },
   "outputs": [],
   "source": [
    "import torch\n",
    "import torchtext\n",
    "import torch.nn as nn\n",
    "from torchtext.data.utils import get_tokenizer\n",
    "from torch.utils.data import DataLoader\n",
    "from torch.autograd import Variable\n",
    "from torch.nn import functional as F"
   ]
  },
  {
   "cell_type": "code",
   "execution_count": 10,
   "metadata": {
    "id": "wZDdXRi0g_-O"
   },
   "outputs": [],
   "source": [
    "import re\n",
    "import random\n",
    "from sklearn.model_selection import train_test_split"
   ]
  },
  {
   "cell_type": "code",
   "execution_count": 11,
   "metadata": {
    "id": "XQlFkYHPhYOv"
   },
   "outputs": [],
   "source": [
    "import zipfile\n",
    "zip_ref = zipfile.ZipFile('boardgamegeek-reviews.zip', 'r')\n",
    "zip_ref.extractall('boardgamegeek-reviews')\n",
    "zip_ref.close()"
   ]
  },
  {
   "cell_type": "code",
   "execution_count": 12,
   "metadata": {
    "id": "W7-Lh6iIhnZV"
   },
   "outputs": [],
   "source": [
    "import zipfile\n",
    "zip_ref = zipfile.ZipFile('glove6b100dtxt.zip', 'r')\n",
    "zip_ref.extractall('glove6b100dtxt')\n",
    "zip_ref.close()"
   ]
  },
  {
   "cell_type": "code",
   "execution_count": 15,
   "metadata": {
    "id": "cdMSF-LIhyHN"
   },
   "outputs": [],
   "source": [
    "import pandas as pd\n",
    "\n",
    "data_df = pd.read_csv('boardgamegeek-reviews/bgg-15m-reviews.csv',usecols=[ \"rating\", \"comment\"])[[\"comment\", \"rating\"]]"
   ]
  },
  {
   "cell_type": "code",
   "execution_count": 16,
   "metadata": {
    "colab": {
     "base_uri": "https://localhost:8080/",
     "height": 359
    },
    "id": "3MOU0FuIh6-B",
    "outputId": "a43f6c8b-5923-47de-aa99-966d07e5ae08"
   },
   "outputs": [
    {
     "data": {
      "text/html": [
       "<div>\n",
       "<style scoped>\n",
       "    .dataframe tbody tr th:only-of-type {\n",
       "        vertical-align: middle;\n",
       "    }\n",
       "\n",
       "    .dataframe tbody tr th {\n",
       "        vertical-align: top;\n",
       "    }\n",
       "\n",
       "    .dataframe thead th {\n",
       "        text-align: right;\n",
       "    }\n",
       "</style>\n",
       "<table border=\"1\" class=\"dataframe\">\n",
       "  <thead>\n",
       "    <tr style=\"text-align: right;\">\n",
       "      <th></th>\n",
       "      <th>comment</th>\n",
       "      <th>rating</th>\n",
       "    </tr>\n",
       "  </thead>\n",
       "  <tbody>\n",
       "    <tr>\n",
       "      <th>0</th>\n",
       "      <td>NaN</td>\n",
       "      <td>10.0</td>\n",
       "    </tr>\n",
       "    <tr>\n",
       "      <th>1</th>\n",
       "      <td>Hands down my favorite new game of BGG CON 200...</td>\n",
       "      <td>10.0</td>\n",
       "    </tr>\n",
       "    <tr>\n",
       "      <th>2</th>\n",
       "      <td>I tend to either love or easily tire of co-op ...</td>\n",
       "      <td>10.0</td>\n",
       "    </tr>\n",
       "    <tr>\n",
       "      <th>3</th>\n",
       "      <td>NaN</td>\n",
       "      <td>10.0</td>\n",
       "    </tr>\n",
       "    <tr>\n",
       "      <th>4</th>\n",
       "      <td>This is an amazing co-op game.  I play mostly ...</td>\n",
       "      <td>10.0</td>\n",
       "    </tr>\n",
       "    <tr>\n",
       "      <th>5</th>\n",
       "      <td>Hey! I can finally rate this game I've been pl...</td>\n",
       "      <td>10.0</td>\n",
       "    </tr>\n",
       "    <tr>\n",
       "      <th>6</th>\n",
       "      <td>NaN</td>\n",
       "      <td>10.0</td>\n",
       "    </tr>\n",
       "    <tr>\n",
       "      <th>7</th>\n",
       "      <td>NaN</td>\n",
       "      <td>10.0</td>\n",
       "    </tr>\n",
       "    <tr>\n",
       "      <th>8</th>\n",
       "      <td>Love it- great fun with my son. 2 plays so far...</td>\n",
       "      <td>10.0</td>\n",
       "    </tr>\n",
       "    <tr>\n",
       "      <th>9</th>\n",
       "      <td>Fun, fun game. Strategy is required, but defin...</td>\n",
       "      <td>10.0</td>\n",
       "    </tr>\n",
       "  </tbody>\n",
       "</table>\n",
       "</div>"
      ],
      "text/plain": [
       "                                             comment  rating\n",
       "0                                                NaN    10.0\n",
       "1  Hands down my favorite new game of BGG CON 200...    10.0\n",
       "2  I tend to either love or easily tire of co-op ...    10.0\n",
       "3                                                NaN    10.0\n",
       "4  This is an amazing co-op game.  I play mostly ...    10.0\n",
       "5  Hey! I can finally rate this game I've been pl...    10.0\n",
       "6                                                NaN    10.0\n",
       "7                                                NaN    10.0\n",
       "8  Love it- great fun with my son. 2 plays so far...    10.0\n",
       "9  Fun, fun game. Strategy is required, but defin...    10.0"
      ]
     },
     "execution_count": 16,
     "metadata": {
      "tags": []
     },
     "output_type": "execute_result"
    }
   ],
   "source": [
    "data_df.head(10)"
   ]
  },
  {
   "cell_type": "code",
   "execution_count": 17,
   "metadata": {
    "colab": {
     "base_uri": "https://localhost:8080/",
     "height": 359
    },
    "id": "tOMF29L7iSDi",
    "outputId": "5e0b4b6d-2b86-4f59-a420-6c77085077a5"
   },
   "outputs": [
    {
     "data": {
      "text/html": [
       "<div>\n",
       "<style scoped>\n",
       "    .dataframe tbody tr th:only-of-type {\n",
       "        vertical-align: middle;\n",
       "    }\n",
       "\n",
       "    .dataframe tbody tr th {\n",
       "        vertical-align: top;\n",
       "    }\n",
       "\n",
       "    .dataframe thead th {\n",
       "        text-align: right;\n",
       "    }\n",
       "</style>\n",
       "<table border=\"1\" class=\"dataframe\">\n",
       "  <thead>\n",
       "    <tr style=\"text-align: right;\">\n",
       "      <th></th>\n",
       "      <th>comment</th>\n",
       "      <th>rating</th>\n",
       "    </tr>\n",
       "  </thead>\n",
       "  <tbody>\n",
       "    <tr>\n",
       "      <th>1</th>\n",
       "      <td>Hands down my favorite new game of BGG CON 200...</td>\n",
       "      <td>10.0</td>\n",
       "    </tr>\n",
       "    <tr>\n",
       "      <th>2</th>\n",
       "      <td>I tend to either love or easily tire of co-op ...</td>\n",
       "      <td>10.0</td>\n",
       "    </tr>\n",
       "    <tr>\n",
       "      <th>4</th>\n",
       "      <td>This is an amazing co-op game.  I play mostly ...</td>\n",
       "      <td>10.0</td>\n",
       "    </tr>\n",
       "    <tr>\n",
       "      <th>5</th>\n",
       "      <td>Hey! I can finally rate this game I've been pl...</td>\n",
       "      <td>10.0</td>\n",
       "    </tr>\n",
       "    <tr>\n",
       "      <th>8</th>\n",
       "      <td>Love it- great fun with my son. 2 plays so far...</td>\n",
       "      <td>10.0</td>\n",
       "    </tr>\n",
       "    <tr>\n",
       "      <th>9</th>\n",
       "      <td>Fun, fun game. Strategy is required, but defin...</td>\n",
       "      <td>10.0</td>\n",
       "    </tr>\n",
       "    <tr>\n",
       "      <th>11</th>\n",
       "      <td>I don't know how they balanced this thing.  Ab...</td>\n",
       "      <td>10.0</td>\n",
       "    </tr>\n",
       "    <tr>\n",
       "      <th>12</th>\n",
       "      <td>Best collaborative multi-player game out there...</td>\n",
       "      <td>10.0</td>\n",
       "    </tr>\n",
       "    <tr>\n",
       "      <th>13</th>\n",
       "      <td>(25+ plays)    Who can play?  Family game for ...</td>\n",
       "      <td>10.0</td>\n",
       "    </tr>\n",
       "    <tr>\n",
       "      <th>16</th>\n",
       "      <td>A thematic, brisk game that is well balanced a...</td>\n",
       "      <td>10.0</td>\n",
       "    </tr>\n",
       "  </tbody>\n",
       "</table>\n",
       "</div>"
      ],
      "text/plain": [
       "                                              comment  rating\n",
       "1   Hands down my favorite new game of BGG CON 200...    10.0\n",
       "2   I tend to either love or easily tire of co-op ...    10.0\n",
       "4   This is an amazing co-op game.  I play mostly ...    10.0\n",
       "5   Hey! I can finally rate this game I've been pl...    10.0\n",
       "8   Love it- great fun with my son. 2 plays so far...    10.0\n",
       "9   Fun, fun game. Strategy is required, but defin...    10.0\n",
       "11  I don't know how they balanced this thing.  Ab...    10.0\n",
       "12  Best collaborative multi-player game out there...    10.0\n",
       "13  (25+ plays)    Who can play?  Family game for ...    10.0\n",
       "16  A thematic, brisk game that is well balanced a...    10.0"
      ]
     },
     "execution_count": 17,
     "metadata": {
      "tags": []
     },
     "output_type": "execute_result"
    }
   ],
   "source": [
    "# Drop the missing value\n",
    "\n",
    "df = data_df[data_df['comment'].notna()]\n",
    "df.head(10)"
   ]
  },
  {
   "cell_type": "code",
   "execution_count": 18,
   "metadata": {
    "colab": {
     "base_uri": "https://localhost:8080/"
    },
    "id": "aaOm24mKiVa6",
    "outputId": "d650ab9d-525d-4ec4-9c3e-3a7338ec4392"
   },
   "outputs": [
    {
     "name": "stderr",
     "output_type": "stream",
     "text": [
      "/usr/local/lib/python3.6/dist-packages/ipykernel_launcher.py:1: SettingWithCopyWarning: \n",
      "A value is trying to be set on a copy of a slice from a DataFrame.\n",
      "Try using .loc[row_indexer,col_indexer] = value instead\n",
      "\n",
      "See the caveats in the documentation: https://pandas.pydata.org/pandas-docs/stable/user_guide/indexing.html#returning-a-view-versus-a-copy\n",
      "  \"\"\"Entry point for launching an IPython kernel.\n",
      "/usr/local/lib/python3.6/dist-packages/ipykernel_launcher.py:2: SettingWithCopyWarning: \n",
      "A value is trying to be set on a copy of a slice from a DataFrame.\n",
      "Try using .loc[row_indexer,col_indexer] = value instead\n",
      "\n",
      "See the caveats in the documentation: https://pandas.pydata.org/pandas-docs/stable/user_guide/indexing.html#returning-a-view-versus-a-copy\n",
      "  \n"
     ]
    }
   ],
   "source": [
    "df['rating'] = df['rating'].apply(lambda x: round(x))\n",
    "df['comment'] = df['comment'].apply(lambda x: x.lower())"
   ]
  },
  {
   "cell_type": "code",
   "execution_count": 19,
   "metadata": {
    "colab": {
     "base_uri": "https://localhost:8080/"
    },
    "id": "Kixcz_RgifVg",
    "outputId": "d1967fec-9393-4a01-cdc6-319d13fd360b"
   },
   "outputs": [
    {
     "data": {
      "text/plain": [
       "array([10,  9,  8,  7,  6,  5,  4,  3,  2,  1,  0])"
      ]
     },
     "execution_count": 19,
     "metadata": {
      "tags": []
     },
     "output_type": "execute_result"
    }
   ],
   "source": [
    "# Let's see the unique value!\n",
    "df['rating'].unique()"
   ]
  },
  {
   "cell_type": "code",
   "execution_count": 20,
   "metadata": {
    "colab": {
     "base_uri": "https://localhost:8080/",
     "height": 359
    },
    "id": "FNMZzGiYimuK",
    "outputId": "8ff27517-b995-47d5-8adb-1bbb31b7c60e"
   },
   "outputs": [
    {
     "data": {
      "text/html": [
       "<div>\n",
       "<style scoped>\n",
       "    .dataframe tbody tr th:only-of-type {\n",
       "        vertical-align: middle;\n",
       "    }\n",
       "\n",
       "    .dataframe tbody tr th {\n",
       "        vertical-align: top;\n",
       "    }\n",
       "\n",
       "    .dataframe thead th {\n",
       "        text-align: right;\n",
       "    }\n",
       "</style>\n",
       "<table border=\"1\" class=\"dataframe\">\n",
       "  <thead>\n",
       "    <tr style=\"text-align: right;\">\n",
       "      <th></th>\n",
       "      <th>comment</th>\n",
       "      <th>rating</th>\n",
       "    </tr>\n",
       "  </thead>\n",
       "  <tbody>\n",
       "    <tr>\n",
       "      <th>0</th>\n",
       "      <td>great tv show, poor game. play it more for the...</td>\n",
       "      <td>5</td>\n",
       "    </tr>\n",
       "    <tr>\n",
       "      <th>1</th>\n",
       "      <td>here i root. really light asymmetrical wargame...</td>\n",
       "      <td>5</td>\n",
       "    </tr>\n",
       "    <tr>\n",
       "      <th>2</th>\n",
       "      <td>01/2009:6 a light game but highly dependent on...</td>\n",
       "      <td>6</td>\n",
       "    </tr>\n",
       "    <tr>\n",
       "      <th>3</th>\n",
       "      <td>i like the game, and the minis are for the mos...</td>\n",
       "      <td>7</td>\n",
       "    </tr>\n",
       "    <tr>\n",
       "      <th>4</th>\n",
       "      <td>not a bad game but seems fairly derivative to ...</td>\n",
       "      <td>6</td>\n",
       "    </tr>\n",
       "    <tr>\n",
       "      <th>5</th>\n",
       "      <td>very interesting game.  relatively simple, and...</td>\n",
       "      <td>7</td>\n",
       "    </tr>\n",
       "    <tr>\n",
       "      <th>6</th>\n",
       "      <td>it's good, but i need to play it more, to rais...</td>\n",
       "      <td>7</td>\n",
       "    </tr>\n",
       "    <tr>\n",
       "      <th>7</th>\n",
       "      <td>satisfying to make massive combos in order to ...</td>\n",
       "      <td>9</td>\n",
       "    </tr>\n",
       "    <tr>\n",
       "      <th>8</th>\n",
       "      <td>nice engine builder. the option of going low t...</td>\n",
       "      <td>7</td>\n",
       "    </tr>\n",
       "    <tr>\n",
       "      <th>9</th>\n",
       "      <td>fun game, lots of luck but plays fast. the mag...</td>\n",
       "      <td>7</td>\n",
       "    </tr>\n",
       "  </tbody>\n",
       "</table>\n",
       "</div>"
      ],
      "text/plain": [
       "                                             comment  rating\n",
       "0  great tv show, poor game. play it more for the...       5\n",
       "1  here i root. really light asymmetrical wargame...       5\n",
       "2  01/2009:6 a light game but highly dependent on...       6\n",
       "3  i like the game, and the minis are for the mos...       7\n",
       "4  not a bad game but seems fairly derivative to ...       6\n",
       "5  very interesting game.  relatively simple, and...       7\n",
       "6  it's good, but i need to play it more, to rais...       7\n",
       "7  satisfying to make massive combos in order to ...       9\n",
       "8  nice engine builder. the option of going low t...       7\n",
       "9  fun game, lots of luck but plays fast. the mag...       7"
      ]
     },
     "execution_count": 20,
     "metadata": {
      "tags": []
     },
     "output_type": "execute_result"
    }
   ],
   "source": [
    "df = df.sample(frac=1).reset_index(drop=True)\n",
    "df.head(10)"
   ]
  },
  {
   "cell_type": "code",
   "execution_count": 21,
   "metadata": {
    "colab": {
     "base_uri": "https://localhost:8080/",
     "height": 359
    },
    "id": "BWHQA4F-iqSY",
    "outputId": "15d152c2-6081-4dc6-caaa-4ea88860888e"
   },
   "outputs": [
    {
     "data": {
      "text/html": [
       "<div>\n",
       "<style scoped>\n",
       "    .dataframe tbody tr th:only-of-type {\n",
       "        vertical-align: middle;\n",
       "    }\n",
       "\n",
       "    .dataframe tbody tr th {\n",
       "        vertical-align: top;\n",
       "    }\n",
       "\n",
       "    .dataframe thead th {\n",
       "        text-align: right;\n",
       "    }\n",
       "</style>\n",
       "<table border=\"1\" class=\"dataframe\">\n",
       "  <thead>\n",
       "    <tr style=\"text-align: right;\">\n",
       "      <th></th>\n",
       "      <th>comment</th>\n",
       "      <th>rating</th>\n",
       "    </tr>\n",
       "  </thead>\n",
       "  <tbody>\n",
       "    <tr>\n",
       "      <th>0</th>\n",
       "      <td>great tv show poor game play it more for the c...</td>\n",
       "      <td>5</td>\n",
       "    </tr>\n",
       "    <tr>\n",
       "      <th>1</th>\n",
       "      <td>here i root really light asymmetrical wargame ...</td>\n",
       "      <td>5</td>\n",
       "    </tr>\n",
       "    <tr>\n",
       "      <th>2</th>\n",
       "      <td>a light game but highly dependent on luck run...</td>\n",
       "      <td>6</td>\n",
       "    </tr>\n",
       "    <tr>\n",
       "      <th>3</th>\n",
       "      <td>i like the game and the minis are for the most...</td>\n",
       "      <td>7</td>\n",
       "    </tr>\n",
       "    <tr>\n",
       "      <th>4</th>\n",
       "      <td>not a bad game but seems fairly derivative to ...</td>\n",
       "      <td>6</td>\n",
       "    </tr>\n",
       "    <tr>\n",
       "      <th>5</th>\n",
       "      <td>very interesting game  relatively simple and y...</td>\n",
       "      <td>7</td>\n",
       "    </tr>\n",
       "    <tr>\n",
       "      <th>6</th>\n",
       "      <td>its good but i need to play it more to raise t...</td>\n",
       "      <td>7</td>\n",
       "    </tr>\n",
       "    <tr>\n",
       "      <th>7</th>\n",
       "      <td>satisfying to make massive combos in order to ...</td>\n",
       "      <td>9</td>\n",
       "    </tr>\n",
       "    <tr>\n",
       "      <th>8</th>\n",
       "      <td>nice engine builder the option of going low to...</td>\n",
       "      <td>7</td>\n",
       "    </tr>\n",
       "    <tr>\n",
       "      <th>9</th>\n",
       "      <td>fun game lots of luck but plays fast the magic...</td>\n",
       "      <td>7</td>\n",
       "    </tr>\n",
       "  </tbody>\n",
       "</table>\n",
       "</div>"
      ],
      "text/plain": [
       "                                             comment  rating\n",
       "0  great tv show poor game play it more for the c...       5\n",
       "1  here i root really light asymmetrical wargame ...       5\n",
       "2   a light game but highly dependent on luck run...       6\n",
       "3  i like the game and the minis are for the most...       7\n",
       "4  not a bad game but seems fairly derivative to ...       6\n",
       "5  very interesting game  relatively simple and y...       7\n",
       "6  its good but i need to play it more to raise t...       7\n",
       "7  satisfying to make massive combos in order to ...       9\n",
       "8  nice engine builder the option of going low to...       7\n",
       "9  fun game lots of luck but plays fast the magic...       7"
      ]
     },
     "execution_count": 21,
     "metadata": {
      "tags": []
     },
     "output_type": "execute_result"
    }
   ],
   "source": [
    "pattern = re.compile(\"[^a-zA-Z ]+\")\n",
    "df[\"comment\"] = df['comment'].map(lambda x: pattern.sub('', x))\n",
    "df.head(10)"
   ]
  },
  {
   "cell_type": "code",
   "execution_count": 22,
   "metadata": {
    "colab": {
     "base_uri": "https://localhost:8080/"
    },
    "id": "CaIpnhdaisRm",
    "outputId": "d3c1a724-1a95-40b6-f61d-a8745d886c70"
   },
   "outputs": [
    {
     "name": "stdout",
     "output_type": "stream",
     "text": [
      "2774889\n"
     ]
    }
   ],
   "source": [
    "# Drop the comment with len <= 10\n",
    "df = df[df['comment'].map(len) > 10]\n",
    "print(len(df))\n",
    "df = df.reset_index(drop=True)"
   ]
  },
  {
   "cell_type": "code",
   "execution_count": 23,
   "metadata": {
    "colab": {
     "base_uri": "https://localhost:8080/",
     "height": 359
    },
    "id": "XqAYXgiPi0-7",
    "outputId": "a918a738-c891-4e2e-d203-544b55f3e00c"
   },
   "outputs": [
    {
     "data": {
      "text/html": [
       "<div>\n",
       "<style scoped>\n",
       "    .dataframe tbody tr th:only-of-type {\n",
       "        vertical-align: middle;\n",
       "    }\n",
       "\n",
       "    .dataframe tbody tr th {\n",
       "        vertical-align: top;\n",
       "    }\n",
       "\n",
       "    .dataframe thead th {\n",
       "        text-align: right;\n",
       "    }\n",
       "</style>\n",
       "<table border=\"1\" class=\"dataframe\">\n",
       "  <thead>\n",
       "    <tr style=\"text-align: right;\">\n",
       "      <th></th>\n",
       "      <th>comment</th>\n",
       "      <th>rating</th>\n",
       "    </tr>\n",
       "  </thead>\n",
       "  <tbody>\n",
       "    <tr>\n",
       "      <th>0</th>\n",
       "      <td>great tv show poor game play it more for the c...</td>\n",
       "      <td>5</td>\n",
       "    </tr>\n",
       "    <tr>\n",
       "      <th>1</th>\n",
       "      <td>here i root really light asymmetrical wargame ...</td>\n",
       "      <td>5</td>\n",
       "    </tr>\n",
       "    <tr>\n",
       "      <th>2</th>\n",
       "      <td>a light game but highly dependent on luck run...</td>\n",
       "      <td>6</td>\n",
       "    </tr>\n",
       "    <tr>\n",
       "      <th>3</th>\n",
       "      <td>i like the game and the minis are for the most...</td>\n",
       "      <td>7</td>\n",
       "    </tr>\n",
       "    <tr>\n",
       "      <th>4</th>\n",
       "      <td>not a bad game but seems fairly derivative to ...</td>\n",
       "      <td>6</td>\n",
       "    </tr>\n",
       "    <tr>\n",
       "      <th>5</th>\n",
       "      <td>very interesting game  relatively simple and y...</td>\n",
       "      <td>7</td>\n",
       "    </tr>\n",
       "    <tr>\n",
       "      <th>6</th>\n",
       "      <td>its good but i need to play it more to raise t...</td>\n",
       "      <td>7</td>\n",
       "    </tr>\n",
       "    <tr>\n",
       "      <th>7</th>\n",
       "      <td>satisfying to make massive combos in order to ...</td>\n",
       "      <td>9</td>\n",
       "    </tr>\n",
       "    <tr>\n",
       "      <th>8</th>\n",
       "      <td>nice engine builder the option of going low to...</td>\n",
       "      <td>7</td>\n",
       "    </tr>\n",
       "    <tr>\n",
       "      <th>9</th>\n",
       "      <td>fun game lots of luck but plays fast the magic...</td>\n",
       "      <td>7</td>\n",
       "    </tr>\n",
       "  </tbody>\n",
       "</table>\n",
       "</div>"
      ],
      "text/plain": [
       "                                             comment  rating\n",
       "0  great tv show poor game play it more for the c...       5\n",
       "1  here i root really light asymmetrical wargame ...       5\n",
       "2   a light game but highly dependent on luck run...       6\n",
       "3  i like the game and the minis are for the most...       7\n",
       "4  not a bad game but seems fairly derivative to ...       6\n",
       "5  very interesting game  relatively simple and y...       7\n",
       "6  its good but i need to play it more to raise t...       7\n",
       "7  satisfying to make massive combos in order to ...       9\n",
       "8  nice engine builder the option of going low to...       7\n",
       "9  fun game lots of luck but plays fast the magic...       7"
      ]
     },
     "execution_count": 23,
     "metadata": {
      "tags": []
     },
     "output_type": "execute_result"
    }
   ],
   "source": [
    "df.head(10)"
   ]
  },
  {
   "cell_type": "code",
   "execution_count": 24,
   "metadata": {
    "colab": {
     "base_uri": "https://localhost:8080/"
    },
    "id": "-HSaGTqri2dk",
    "outputId": "d2f2b8e9-4121-40c8-e3e5-2c64f1bb4351"
   },
   "outputs": [
    {
     "data": {
      "text/plain": [
       "25083"
      ]
     },
     "execution_count": 24,
     "metadata": {
      "tags": []
     },
     "output_type": "execute_result"
    }
   ],
   "source": [
    "df['comment'].map(len).max()"
   ]
  },
  {
   "cell_type": "code",
   "execution_count": 25,
   "metadata": {
    "id": "Zy9XJ-pVi4hw"
   },
   "outputs": [],
   "source": [
    "training_df, testing_df = df.loc[:0.5*len(df)], df.loc[0.75*len(df):]"
   ]
  },
  {
   "cell_type": "code",
   "execution_count": 26,
   "metadata": {
    "id": "8qekQ1l9i7hl"
   },
   "outputs": [],
   "source": [
    "del data_df\n",
    "del df"
   ]
  },
  {
   "cell_type": "code",
   "execution_count": 29,
   "metadata": {
    "id": "WnPHtSUpi9-Y"
   },
   "outputs": [],
   "source": [
    "training_df.to_csv(\"training.csv\", index=False)\n",
    "testing_df.to_csv(\"testing.csv\", index=False)"
   ]
  },
  {
   "cell_type": "code",
   "execution_count": 30,
   "metadata": {
    "id": "TOQrA2NejAdu"
   },
   "outputs": [],
   "source": [
    "# Here we will use Torch tokenizer\n",
    "tokenizer = lambda x: x.split()"
   ]
  },
  {
   "cell_type": "code",
   "execution_count": 32,
   "metadata": {
    "id": "JOWP23kCjPZM"
   },
   "outputs": [],
   "source": [
    "TEXT = torchtext.data.Field(sequential=True, tokenize=tokenizer, lower=True, include_lengths=True, batch_first=True, fix_length=200)\n",
    "LABEL = torchtext.data.LabelField(dtype=torch.float)"
   ]
  },
  {
   "cell_type": "code",
   "execution_count": 33,
   "metadata": {
    "id": "uPSnhabujSrU"
   },
   "outputs": [],
   "source": [
    "fields = [('comment',TEXT),('rating', LABEL)]"
   ]
  },
  {
   "cell_type": "code",
   "execution_count": 36,
   "metadata": {
    "id": "VQyph_3pjYfC"
   },
   "outputs": [],
   "source": [
    "train_data = torchtext.data.TabularDataset(\"training.csv\",\"csv\", fields, skip_header=True)"
   ]
  },
  {
   "cell_type": "code",
   "execution_count": 37,
   "metadata": {
    "id": "a9ViRu7qjacU"
   },
   "outputs": [],
   "source": [
    "test_data = torchtext.data.TabularDataset(\"testing.csv\",\"csv\", fields, skip_header=True)\n",
    "train_data.examples[0].comment, train_data.examples[0].rating\n",
    "\n",
    "del training_df\n",
    "del testing_df"
   ]
  },
  {
   "cell_type": "code",
   "execution_count": 39,
   "metadata": {
    "colab": {
     "base_uri": "https://localhost:8080/"
    },
    "id": "46MTPHqzjlUR",
    "outputId": "3ab83e09-2658-4044-be2e-bfc04443abec"
   },
   "outputs": [
    {
     "name": "stderr",
     "output_type": "stream",
     "text": [
      "\n",
      "  0%|          | 0/400000 [00:00<?, ?it/s]\u001b[A\n",
      "  1%|          | 2579/400000 [00:00<00:15, 25782.53it/s]\u001b[A\n",
      "  1%|▏         | 5071/400000 [00:00<00:15, 25517.35it/s]\u001b[A\n",
      "  2%|▏         | 7432/400000 [00:00<00:15, 24909.12it/s]\u001b[A\n",
      "  2%|▏         | 9849/400000 [00:00<00:15, 24680.38it/s]\u001b[A\n",
      "  3%|▎         | 12271/400000 [00:00<00:15, 24539.41it/s]\u001b[A\n",
      "  4%|▎         | 14751/400000 [00:00<00:15, 24614.19it/s]\u001b[A\n",
      "  4%|▍         | 17299/400000 [00:00<00:15, 24866.62it/s]\u001b[A\n",
      "  5%|▍         | 19799/400000 [00:00<00:15, 24906.44it/s]\u001b[A\n",
      "  6%|▌         | 22309/400000 [00:00<00:15, 24962.16it/s]\u001b[A\n",
      "  6%|▌         | 24744/400000 [00:01<00:15, 24772.80it/s]\u001b[A\n",
      "  7%|▋         | 27165/400000 [00:01<00:15, 24598.54it/s]\u001b[A\n",
      "  7%|▋         | 29575/400000 [00:01<00:15, 23997.93it/s]\u001b[A\n",
      "  8%|▊         | 32046/400000 [00:01<00:15, 24206.58it/s]\u001b[A\n",
      "  9%|▊         | 34445/400000 [00:01<00:15, 23288.67it/s]\u001b[A\n",
      "  9%|▉         | 36853/400000 [00:01<00:15, 23518.38it/s]\u001b[A\n",
      " 10%|▉         | 39326/400000 [00:01<00:15, 23868.29it/s]\u001b[A\n",
      " 10%|█         | 41859/400000 [00:01<00:14, 24287.11it/s]\u001b[A\n",
      " 11%|█         | 44345/400000 [00:01<00:14, 24455.02it/s]\u001b[A\n",
      " 12%|█▏        | 46791/400000 [00:01<00:14, 23680.58it/s]\u001b[A\n",
      " 12%|█▏        | 49224/400000 [00:02<00:14, 23871.56it/s]\u001b[A\n",
      " 13%|█▎        | 51711/400000 [00:02<00:14, 24160.73it/s]\u001b[A\n",
      " 14%|█▎        | 54131/400000 [00:02<00:14, 23899.39it/s]\u001b[A\n",
      " 14%|█▍        | 56525/400000 [00:02<00:14, 23889.16it/s]\u001b[A\n",
      " 15%|█▍        | 58917/400000 [00:02<00:14, 23651.96it/s]\u001b[A\n",
      " 15%|█▌        | 61408/400000 [00:02<00:14, 24013.48it/s]\u001b[A\n",
      " 16%|█▌        | 63868/400000 [00:02<00:13, 24184.79it/s]\u001b[A\n",
      " 17%|█▋        | 66351/400000 [00:02<00:13, 24372.52it/s]\u001b[A\n",
      " 17%|█▋        | 68886/400000 [00:02<00:13, 24655.56it/s]\u001b[A\n",
      " 18%|█▊        | 71367/400000 [00:02<00:13, 24701.33it/s]\u001b[A\n",
      " 18%|█▊        | 73839/400000 [00:03<00:13, 24655.33it/s]\u001b[A\n",
      " 19%|█▉        | 76327/400000 [00:03<00:13, 24718.15it/s]\u001b[A\n",
      " 20%|█▉        | 78800/400000 [00:03<00:13, 24505.73it/s]\u001b[A\n",
      " 20%|██        | 81252/400000 [00:03<00:13, 24487.08it/s]\u001b[A\n",
      " 21%|██        | 83702/400000 [00:03<00:13, 24182.93it/s]\u001b[A\n",
      " 22%|██▏       | 86146/400000 [00:03<00:12, 24255.18it/s]\u001b[A\n",
      " 22%|██▏       | 88637/400000 [00:03<00:12, 24446.84it/s]\u001b[A\n",
      " 23%|██▎       | 91139/400000 [00:03<00:12, 24614.06it/s]\u001b[A\n",
      " 23%|██▎       | 93635/400000 [00:03<00:12, 24715.33it/s]\u001b[A\n",
      " 24%|██▍       | 96108/400000 [00:03<00:12, 24483.15it/s]\u001b[A\n",
      " 25%|██▍       | 98558/400000 [00:04<00:12, 24461.84it/s]\u001b[A\n",
      " 25%|██▌       | 101010/400000 [00:04<00:12, 24479.04it/s]\u001b[A\n",
      " 26%|██▌       | 103459/400000 [00:04<00:12, 24247.99it/s]\u001b[A\n",
      " 26%|██▋       | 105885/400000 [00:04<00:12, 23870.77it/s]\u001b[A\n",
      " 27%|██▋       | 108275/400000 [00:04<00:12, 23868.91it/s]\u001b[A\n",
      " 28%|██▊       | 110680/400000 [00:04<00:12, 23920.76it/s]\u001b[A\n",
      " 28%|██▊       | 113091/400000 [00:04<00:11, 23975.90it/s]\u001b[A\n",
      " 29%|██▉       | 115557/400000 [00:04<00:11, 24175.13it/s]\u001b[A\n",
      " 30%|██▉       | 118018/400000 [00:04<00:11, 24303.07it/s]\u001b[A\n",
      " 30%|███       | 120450/400000 [00:04<00:11, 24046.23it/s]\u001b[A\n",
      " 31%|███       | 122856/400000 [00:05<00:12, 22737.87it/s]\u001b[A\n",
      " 31%|███▏      | 125146/400000 [00:05<00:12, 21612.42it/s]\u001b[A\n",
      " 32%|███▏      | 127330/400000 [00:05<00:12, 21156.29it/s]\u001b[A\n",
      " 32%|███▏      | 129464/400000 [00:05<00:13, 19971.37it/s]\u001b[A\n",
      " 33%|███▎      | 131488/400000 [00:05<00:13, 19235.59it/s]\u001b[A\n",
      " 33%|███▎      | 133469/400000 [00:05<00:13, 19403.66it/s]\u001b[A\n",
      " 34%|███▍      | 135832/400000 [00:05<00:12, 20503.18it/s]\u001b[A\n",
      " 35%|███▍      | 138310/400000 [00:05<00:12, 21621.45it/s]\u001b[A\n",
      " 35%|███▌      | 140509/400000 [00:05<00:12, 21439.85it/s]\u001b[A\n",
      " 36%|███▌      | 142854/400000 [00:06<00:11, 22005.74it/s]\u001b[A\n",
      " 36%|███▋      | 145184/400000 [00:06<00:11, 22377.20it/s]\u001b[A\n",
      " 37%|███▋      | 147539/400000 [00:06<00:11, 22714.85it/s]\u001b[A\n",
      " 38%|███▊      | 150011/400000 [00:06<00:10, 23279.51it/s]\u001b[A\n",
      " 38%|███▊      | 152352/400000 [00:06<00:10, 22748.55it/s]\u001b[A\n",
      " 39%|███▊      | 154739/400000 [00:06<00:10, 23072.71it/s]\u001b[A\n",
      " 39%|███▉      | 157165/400000 [00:06<00:10, 23414.84it/s]\u001b[A\n",
      " 40%|███▉      | 159621/400000 [00:06<00:10, 23746.35it/s]\u001b[A\n",
      " 41%|████      | 162066/400000 [00:06<00:09, 23951.35it/s]\u001b[A\n",
      " 41%|████      | 164472/400000 [00:06<00:09, 23981.71it/s]\u001b[A\n",
      " 42%|████▏     | 166897/400000 [00:07<00:09, 24061.07it/s]\u001b[A\n",
      " 42%|████▏     | 169332/400000 [00:07<00:09, 24146.65it/s]\u001b[A\n",
      " 43%|████▎     | 171749/400000 [00:07<00:09, 23943.31it/s]\u001b[A\n",
      " 44%|████▎     | 174163/400000 [00:07<00:09, 23999.68it/s]\u001b[A\n",
      " 44%|████▍     | 176565/400000 [00:07<00:09, 23294.00it/s]\u001b[A\n",
      " 45%|████▍     | 178900/400000 [00:07<00:09, 23238.60it/s]\u001b[A\n",
      " 45%|████▌     | 181302/400000 [00:07<00:09, 23465.09it/s]\u001b[A\n",
      " 46%|████▌     | 183699/400000 [00:07<00:09, 23614.21it/s]\u001b[A\n",
      " 47%|████▋     | 186083/400000 [00:07<00:09, 23681.27it/s]\u001b[A\n",
      " 47%|████▋     | 188496/400000 [00:07<00:08, 23813.43it/s]\u001b[A\n",
      " 48%|████▊     | 190879/400000 [00:08<00:09, 22701.72it/s]\u001b[A\n",
      " 48%|████▊     | 193162/400000 [00:08<00:09, 22589.33it/s]\u001b[A\n",
      " 49%|████▉     | 195445/400000 [00:08<00:09, 22656.37it/s]\u001b[A\n",
      " 49%|████▉     | 197833/400000 [00:08<00:08, 23007.82it/s]\u001b[A\n",
      " 50%|█████     | 200140/400000 [00:08<00:08, 22975.60it/s]\u001b[A\n",
      " 51%|█████     | 202571/400000 [00:08<00:08, 23358.02it/s]\u001b[A\n",
      " 51%|█████     | 204989/400000 [00:08<00:08, 23597.90it/s]\u001b[A\n",
      " 52%|█████▏    | 207406/400000 [00:08<00:08, 23765.37it/s]\u001b[A\n",
      " 52%|█████▏    | 209839/400000 [00:08<00:07, 23931.79it/s]\u001b[A\n",
      " 53%|█████▎    | 212237/400000 [00:08<00:07, 23944.34it/s]\u001b[A\n",
      " 54%|█████▎    | 214672/400000 [00:09<00:07, 24064.50it/s]\u001b[A\n",
      " 54%|█████▍    | 217080/400000 [00:09<00:07, 23710.18it/s]\u001b[A\n",
      " 55%|█████▍    | 219454/400000 [00:09<00:07, 23591.95it/s]\u001b[A\n",
      " 55%|█████▌    | 221815/400000 [00:09<00:07, 23545.06it/s]\u001b[A\n",
      " 56%|█████▌    | 224171/400000 [00:09<00:07, 23065.44it/s]\u001b[A\n",
      " 57%|█████▋    | 226529/400000 [00:09<00:07, 23215.51it/s]\u001b[A\n",
      " 57%|█████▋    | 228937/400000 [00:09<00:07, 23466.00it/s]\u001b[A\n",
      " 58%|█████▊    | 231417/400000 [00:09<00:07, 23849.73it/s]\u001b[A\n",
      " 58%|█████▊    | 233898/400000 [00:09<00:06, 24128.76it/s]\u001b[A\n",
      " 59%|█████▉    | 236314/400000 [00:10<00:07, 22680.94it/s]\u001b[A\n",
      " 60%|█████▉    | 238602/400000 [00:10<00:07, 22716.80it/s]\u001b[A\n",
      " 60%|██████    | 240888/400000 [00:10<00:07, 22044.75it/s]\u001b[A\n",
      " 61%|██████    | 243107/400000 [00:10<00:07, 22037.14it/s]\u001b[A\n",
      " 61%|██████▏   | 245368/400000 [00:10<00:06, 22204.50it/s]\u001b[A\n",
      " 62%|██████▏   | 247804/400000 [00:10<00:06, 22809.57it/s]\u001b[A\n",
      " 63%|██████▎   | 250190/400000 [00:10<00:06, 23114.24it/s]\u001b[A\n",
      " 63%|██████▎   | 252668/400000 [00:10<00:06, 23589.30it/s]\u001b[A\n",
      " 64%|██████▍   | 255143/400000 [00:10<00:06, 23924.91it/s]\u001b[A\n",
      " 64%|██████▍   | 257645/400000 [00:10<00:05, 24242.91it/s]\u001b[A\n",
      " 65%|██████▌   | 260079/400000 [00:11<00:05, 24270.94it/s]\u001b[A\n",
      " 66%|██████▌   | 262510/400000 [00:11<00:05, 24086.87it/s]\u001b[A\n",
      " 66%|██████▌   | 264922/400000 [00:11<00:05, 23241.32it/s]\u001b[A\n",
      " 67%|██████▋   | 267255/400000 [00:11<00:05, 23218.22it/s]\u001b[A\n",
      " 67%|██████▋   | 269592/400000 [00:11<00:05, 23261.19it/s]\u001b[A\n",
      " 68%|██████▊   | 271923/400000 [00:11<00:05, 22829.93it/s]\u001b[A\n",
      " 69%|██████▊   | 274334/400000 [00:11<00:05, 23198.67it/s]\u001b[A\n",
      " 69%|██████▉   | 276659/400000 [00:11<00:05, 23199.47it/s]\u001b[A\n",
      " 70%|██████▉   | 278983/400000 [00:11<00:05, 21590.86it/s]\u001b[A\n",
      " 70%|███████   | 281167/400000 [00:11<00:05, 21657.42it/s]\u001b[A\n",
      " 71%|███████   | 283351/400000 [00:12<00:05, 21380.29it/s]\u001b[A\n",
      " 71%|███████▏  | 285565/400000 [00:12<00:05, 21602.14it/s]\u001b[A\n",
      " 72%|███████▏  | 288026/400000 [00:12<00:04, 22422.52it/s]\u001b[A\n",
      " 73%|███████▎  | 290482/400000 [00:12<00:04, 23021.71it/s]\u001b[A\n",
      " 73%|███████▎  | 292799/400000 [00:12<00:04, 23037.30it/s]\u001b[A\n",
      " 74%|███████▍  | 295209/400000 [00:12<00:04, 23346.06it/s]\u001b[A\n",
      " 74%|███████▍  | 297662/400000 [00:12<00:04, 23688.27it/s]\u001b[A\n",
      " 75%|███████▌  | 300074/400000 [00:12<00:04, 23813.39it/s]\u001b[A\n",
      " 76%|███████▌  | 302531/400000 [00:12<00:04, 24033.37it/s]\u001b[A\n",
      " 76%|███████▌  | 304939/400000 [00:13<00:04, 22698.71it/s]\u001b[A\n",
      " 77%|███████▋  | 307227/400000 [00:13<00:04, 22554.93it/s]\u001b[A\n",
      " 77%|███████▋  | 309496/400000 [00:13<00:04, 22305.75it/s]\u001b[A\n",
      " 78%|███████▊  | 311843/400000 [00:13<00:03, 22640.56it/s]\u001b[A\n",
      " 79%|███████▊  | 314293/400000 [00:13<00:03, 23167.62it/s]\u001b[A\n",
      " 79%|███████▉  | 316619/400000 [00:13<00:03, 23135.44it/s]\u001b[A\n",
      " 80%|███████▉  | 319027/400000 [00:13<00:03, 23408.91it/s]\u001b[A\n",
      " 80%|████████  | 321396/400000 [00:13<00:03, 23490.01it/s]\u001b[A\n",
      " 81%|████████  | 323805/400000 [00:13<00:03, 23664.39it/s]\u001b[A\n",
      " 82%|████████▏ | 326281/400000 [00:13<00:03, 23981.30it/s]\u001b[A\n",
      " 82%|████████▏ | 328727/400000 [00:14<00:02, 24121.37it/s]\u001b[A\n",
      " 83%|████████▎ | 331142/400000 [00:14<00:02, 24068.60it/s]\u001b[A\n",
      " 83%|████████▎ | 333551/400000 [00:14<00:02, 22989.22it/s]\u001b[A\n",
      " 84%|████████▍ | 335915/400000 [00:14<00:02, 23180.47it/s]\u001b[A\n",
      " 85%|████████▍ | 338339/400000 [00:14<00:02, 23486.90it/s]\u001b[A\n",
      " 85%|████████▌ | 340695/400000 [00:14<00:02, 23269.48it/s]\u001b[A\n",
      " 86%|████████▌ | 343075/400000 [00:14<00:02, 23421.92it/s]\u001b[A\n",
      " 86%|████████▋ | 345494/400000 [00:14<00:02, 23645.86it/s]\u001b[A\n",
      " 87%|████████▋ | 347918/400000 [00:14<00:02, 23818.68it/s]\u001b[A\n",
      " 88%|████████▊ | 350362/400000 [00:14<00:02, 24001.47it/s]\u001b[A\n",
      " 88%|████████▊ | 352811/400000 [00:15<00:01, 24143.29it/s]\u001b[A\n",
      " 89%|████████▉ | 355232/400000 [00:15<00:01, 24162.77it/s]\u001b[A\n",
      " 89%|████████▉ | 357650/400000 [00:15<00:01, 23184.57it/s]\u001b[A\n",
      " 90%|████████▉ | 359988/400000 [00:15<00:01, 23242.51it/s]\u001b[A\n",
      " 91%|█████████ | 362319/400000 [00:15<00:01, 22400.81it/s]\u001b[A\n",
      " 91%|█████████ | 364571/400000 [00:15<00:01, 22357.28it/s]\u001b[A\n",
      " 92%|█████████▏| 366835/400000 [00:15<00:01, 22441.28it/s]\u001b[A\n",
      " 92%|█████████▏| 369085/400000 [00:15<00:01, 22076.18it/s]\u001b[A\n",
      " 93%|█████████▎| 371488/400000 [00:15<00:01, 22626.69it/s]\u001b[A\n",
      " 93%|█████████▎| 373908/400000 [00:15<00:01, 23075.49it/s]\u001b[A\n",
      " 94%|█████████▍| 376324/400000 [00:16<00:01, 23389.92it/s]\u001b[A\n",
      " 95%|█████████▍| 378717/400000 [00:16<00:00, 23548.46it/s]\u001b[A\n",
      " 95%|█████████▌| 381078/400000 [00:16<00:00, 23564.49it/s]\u001b[A\n",
      " 96%|█████████▌| 383438/400000 [00:16<00:00, 23412.52it/s]\u001b[A\n",
      " 96%|█████████▋| 385782/400000 [00:16<00:00, 22705.72it/s]\u001b[A\n",
      " 97%|█████████▋| 388059/400000 [00:16<00:00, 21831.77it/s]\u001b[A\n",
      " 98%|█████████▊| 390444/400000 [00:16<00:00, 22400.10it/s]\u001b[A\n",
      " 98%|█████████▊| 392906/400000 [00:16<00:00, 23022.83it/s]\u001b[A\n",
      " 99%|█████████▉| 395221/400000 [00:16<00:00, 22691.66it/s]\u001b[A\n",
      " 99%|█████████▉| 397507/400000 [00:17<00:00, 22740.94it/s]\u001b[A\n",
      "100%|█████████▉| 399789/400000 [00:17<00:00, 21887.62it/s]\u001b[A\n",
      "100%|█████████▉| 399789/400000 [00:32<00:00, 21887.62it/s]\u001b[A"
     ]
    }
   ],
   "source": [
    "# Create word embeddings!\n",
    "\n",
    "TEXT.build_vocab(train_data, vectors=torchtext.vocab.Vectors(\"glove6b100dtxt/glove.6B.100d.txt\", cache = 'working/vector_cache'))\n",
    "LABEL.build_vocab(train_data)"
   ]
  },
  {
   "cell_type": "code",
   "execution_count": 40,
   "metadata": {
    "colab": {
     "base_uri": "https://localhost:8080/"
    },
    "id": "dTSb-y-OjvYI",
    "outputId": "36921910-89b4-4cc1-ac0d-48521d08d5c4"
   },
   "outputs": [
    {
     "data": {
      "text/plain": [
       "torch.Size([438568, 100])"
      ]
     },
     "execution_count": 40,
     "metadata": {
      "tags": []
     },
     "output_type": "execute_result"
    }
   ],
   "source": [
    "word_embeddings = TEXT.vocab.vectors\n",
    "word_embeddings.shape # Let's see the shape view"
   ]
  },
  {
   "cell_type": "code",
   "execution_count": 41,
   "metadata": {
    "id": "XDCXX2R-kP1Z"
   },
   "outputs": [],
   "source": [
    "# Split them!\n",
    "train_data, valid_data = train_data.split()"
   ]
  },
  {
   "cell_type": "code",
   "execution_count": 42,
   "metadata": {
    "id": "ZesxwmpxkUBQ"
   },
   "outputs": [],
   "source": [
    "train_iter, valid_iter, test_iter = torchtext.data.BucketIterator.splits((train_data, valid_data, test_data),\n",
    "                                                               batch_size=32,\n",
    "                                                               sort_key=lambda x: len(x.comment),\n",
    "                                                               repeat=False,\n",
    "                                                               shuffle=True)"
   ]
  },
  {
   "cell_type": "code",
   "execution_count": 44,
   "metadata": {
    "colab": {
     "base_uri": "https://localhost:8080/"
    },
    "id": "DywN4RRckYJ8",
    "outputId": "a7c285ec-debf-4016-afcc-1ac3353ebb1b"
   },
   "outputs": [
    {
     "name": "stdout",
     "output_type": "stream",
     "text": [
      "438568 cuda\n"
     ]
    }
   ],
   "source": [
    "vocab_size = len(TEXT.vocab)\n",
    "device = torch.device(\"cuda\" if torch.cuda.is_available() else \"cpu\")\n",
    "print(vocab_size, device)"
   ]
  },
  {
   "cell_type": "code",
   "execution_count": 46,
   "metadata": {
    "colab": {
     "base_uri": "https://localhost:8080/"
    },
    "id": "nxwsY-JlkbDj",
    "outputId": "423132cd-ae7f-4e32-caee-2b13d898fe54"
   },
   "outputs": [
    {
     "data": {
      "text/plain": [
       "torch.Size([438568, 100])"
      ]
     },
     "execution_count": 46,
     "metadata": {
      "tags": []
     },
     "output_type": "execute_result"
    }
   ],
   "source": [
    "word_embeddings.shape"
   ]
  },
  {
   "cell_type": "code",
   "execution_count": 47,
   "metadata": {
    "id": "0bAfeD7okeJp"
   },
   "outputs": [],
   "source": [
    "# Save into .pt embedding file!\n",
    "torch.save(word_embeddings, \"word_embeddings.pt\")"
   ]
  },
  {
   "cell_type": "code",
   "execution_count": 49,
   "metadata": {
    "id": "XGcpoxfHkmTq"
   },
   "outputs": [],
   "source": [
    "import dill\n",
    "\n",
    "with open(\"TEXT.Field\", \"wb\") as f:\n",
    "    dill.dump(TEXT, f)"
   ]
  },
  {
   "cell_type": "code",
   "execution_count": 51,
   "metadata": {
    "id": "ooc0XGIekqOf"
   },
   "outputs": [],
   "source": [
    "# Define the model!\n",
    "\n",
    "class ClassifierModel(nn.Module):\n",
    "    def __init__(self, batch_size, output_size, hidden_size, vocab_size, embedding_length, weights):\n",
    "        super(ClassifierModel, self).__init__()\n",
    "        self.batch_size = batch_size\n",
    "        self.output_size = output_size\n",
    "        self.hidden_size = hidden_size\n",
    "        self.vocab_size = vocab_size\n",
    "        self.embedding_length = embedding_length\n",
    "        self.word_embeddings = nn.Embedding(vocab_size, embedding_length)  \n",
    "        self.word_embeddings.weight = nn.Parameter(weights, requires_grad=False) \n",
    "        self.lstm = nn.LSTM(embedding_length, hidden_size)\n",
    "        self.label = nn.Linear(hidden_size, output_size)\n",
    "\n",
    "    def forward(self, input_sentence, batch_size=None):\n",
    "        input = self.word_embeddings(input_sentence) \n",
    "        input = input.permute(1, 0, 2) \n",
    "\n",
    "        if batch_size is None:\n",
    "            h_0 = Variable(torch.zeros(1, self.batch_size, self.hidden_size).cuda())\n",
    "            c_0 = Variable(torch.zeros(1, self.batch_size, self.hidden_size).cuda()) \n",
    "        else:\n",
    "            h_0 = Variable(torch.zeros(1, batch_size, self.hidden_size).cuda())\n",
    "            c_0 = Variable(torch.zeros(1, batch_size, self.hidden_size).cuda())\n",
    "\n",
    "        output, (final_hidden_state, final_cell_state) = self.lstm(input, (h_0, c_0))\n",
    "        final_output = self.label(final_hidden_state[-1]) \n",
    "\n",
    "        return final_output"
   ]
  },
  {
   "cell_type": "code",
   "execution_count": 54,
   "metadata": {
    "id": "AQSYCYfgk_9c"
   },
   "outputs": [],
   "source": [
    "def clip_gradient(model, clip_value):\n",
    "    params = list(filter(lambda p: p.grad is not None, model.parameters()))\n",
    "    for p in params:\n",
    "        p.grad.data.clamp_(-clip_value, clip_value)"
   ]
  },
  {
   "cell_type": "code",
   "execution_count": 55,
   "metadata": {
    "id": "oHXrAlE2lFbl"
   },
   "outputs": [],
   "source": [
    "# Training defined function\n",
    "def train_model(model, train_iter, epoch):\n",
    "    total_epoch_loss = 0\n",
    "    total_epoch_acc = 0\n",
    "    model.to(device)\n",
    "    optim = torch.optim.Adam(filter(lambda p: p.requires_grad, model.parameters()))\n",
    "    steps = 0\n",
    "    model.train()\n",
    "\n",
    "    for idx, batch in enumerate(train_iter):\n",
    "        text = batch.comment[0]\n",
    "        target = batch.rating\n",
    "        target = torch.autograd.Variable(target).long()\n",
    "\n",
    "        if torch.cuda.is_available():\n",
    "            text = text.cuda()\n",
    "            target = target.cuda()\n",
    "        if (text.size()[0] != 32):\n",
    "            continue\n",
    "\n",
    "        optim.zero_grad()\n",
    "        prediction = model(text)\n",
    "        loss = loss_fn(prediction, target)\n",
    "        num_corrects = (torch.max(prediction, 1)[1].view(target.size()).data == target.data).float().sum()\n",
    "        acc = 100.0 * num_corrects/len(batch)\n",
    "        loss.backward()\n",
    "        clip_gradient(model, 1e-1)\n",
    "        optim.step()\n",
    "        steps += 1\n",
    "        \n",
    "        if steps % 100 == 0:\n",
    "            print (f'Epoch: {epoch+1}, Idx: {idx+1}, Training Loss: {loss.item():.4f}, Training Accuracy: {acc.item(): .2f}%')\n",
    "        \n",
    "        total_epoch_loss += loss.item()\n",
    "        total_epoch_acc += acc.item()\n",
    "        \n",
    "    return total_epoch_loss/len(train_iter), total_epoch_acc/len(train_iter)\n",
    "\n",
    "# Evaluation defined function\n",
    "def eval_model(model, val_iter):\n",
    "    total_epoch_loss = 0\n",
    "    total_epoch_acc = 0\n",
    "    model.eval()\n",
    "\n",
    "    with torch.no_grad():\n",
    "        for idx, batch in enumerate(val_iter):\n",
    "            text = batch.comment[0]\n",
    "\n",
    "            if (text.size()[0] != 32):\n",
    "                continue\n",
    "\n",
    "            target = batch.rating\n",
    "            target = torch.autograd.Variable(target).long()\n",
    "\n",
    "            if torch.cuda.is_available():\n",
    "                text = text.cuda()\n",
    "                target = target.cuda()\n",
    "\n",
    "            prediction = model(text)\n",
    "            loss = loss_fn(prediction, target)\n",
    "            num_corrects = (torch.max(prediction, 1)[1].view(target.size()).data == target.data).sum()\n",
    "            acc = 100.0 * num_corrects/len(batch)\n",
    "            total_epoch_loss += loss.item()\n",
    "            total_epoch_acc += acc.item()\n",
    "\n",
    "    return total_epoch_loss/len(val_iter), total_epoch_acc/len(val_iter)"
   ]
  },
  {
   "cell_type": "code",
   "execution_count": 56,
   "metadata": {
    "id": "8XEtcGMhlpyg"
   },
   "outputs": [],
   "source": [
    "batch_size = 32\n",
    "output_size = 11\n",
    "hidden_size = 256\n",
    "embedding_length = 100\n",
    "model = ClassifierModel(batch_size, output_size, hidden_size, vocab_size, embedding_length, word_embeddings)\n",
    "\n",
    "def count_parameters(model):\n",
    "    return sum(p.numel() for p in model.parameters() if p.requires_grad)"
   ]
  },
  {
   "cell_type": "code",
   "execution_count": 58,
   "metadata": {
    "colab": {
     "base_uri": "https://localhost:8080/"
    },
    "id": "slIwNNDplxTe",
    "outputId": "fbf9d054-89c3-4e5f-eac4-be388185c628"
   },
   "outputs": [
    {
     "data": {
      "text/plain": [
       "ClassifierModel(\n",
       "  (word_embeddings): Embedding(438568, 100)\n",
       "  (lstm): LSTM(100, 256)\n",
       "  (label): Linear(in_features=256, out_features=11, bias=True)\n",
       ")"
      ]
     },
     "execution_count": 58,
     "metadata": {
      "tags": []
     },
     "output_type": "execute_result"
    }
   ],
   "source": [
    "model"
   ]
  },
  {
   "cell_type": "code",
   "execution_count": 59,
   "metadata": {
    "colab": {
     "base_uri": "https://localhost:8080/"
    },
    "id": "IWsRh_nTlzgu",
    "outputId": "f920e4dc-1ede-48aa-f4bf-b06184f81a8f"
   },
   "outputs": [
    {
     "name": "stdout",
     "output_type": "stream",
     "text": [
      "The model has 369,419 trainable parameters\n"
     ]
    }
   ],
   "source": [
    "print(f'The model has {count_parameters(model):,} trainable parameters')"
   ]
  },
  {
   "cell_type": "code",
   "execution_count": 60,
   "metadata": {
    "id": "1Y2g8kwxl3OR"
   },
   "outputs": [],
   "source": [
    "learning_rate = 0.001\n",
    "loss_fn = F.cross_entropy"
   ]
  },
  {
   "cell_type": "code",
   "execution_count": null,
   "metadata": {
    "id": "s5Um_Eswl6PR"
   },
   "outputs": [],
   "source": [
    "for epoch in range(100):\n",
    "    train_loss, train_acc = train_model(model, train_iter, epoch)\n",
    "    val_loss, val_acc = eval_model(model, valid_iter)\n",
    "    print(f'Epoch: {epoch+1:02}, Train Loss: {train_loss:.3f}, Train Acc: {train_acc:.2f}%, Val. Loss: {val_loss:3f}, Val. Acc: {val_acc:.2f}%')"
   ]
  },
  {
   "cell_type": "code",
   "execution_count": null,
   "metadata": {
    "id": "KRYFuadil-RV"
   },
   "outputs": [],
   "source": [
    "test_sent = \"This game is interesting\"\n",
    "test_sent = TEXT.preprocess(test_sent)\n",
    "test_sent = [[TEXT.vocab.stoi[x] for x in test_sent]]\n",
    "test_sent = np.asarray(test_sent)\n",
    "test_sent = torch.LongTensor(test_sent)\n",
    "test_tensor = Variable(test_sent)\n",
    "test_tensor = test_tensor.cuda()\n",
    "model.eval()\n",
    "output = model(test_tensor, 1)\n",
    "out = F.softmax(output, 1)\n",
    "out"
   ]
  }
 ],
 "metadata": {
  "accelerator": "GPU",
  "colab": {
   "collapsed_sections": [],
   "name": "RatingPrediction.ipynb",
   "provenance": []
  },
  "kernelspec": {
   "display_name": "Python 3",
   "language": "python",
   "name": "python3"
  },
  "language_info": {
   "codemirror_mode": {
    "name": "ipython",
    "version": 3
   },
   "file_extension": ".py",
   "mimetype": "text/x-python",
   "name": "python",
   "nbconvert_exporter": "python",
   "pygments_lexer": "ipython3",
   "version": "3.7.4"
  }
 },
 "nbformat": 4,
 "nbformat_minor": 1
}
