{
 "cells": [
  {
   "cell_type": "markdown",
   "metadata": {},
   "source": [
    "<i>SENTIMENT ANALYSIS</i><br>\n",
    "--\n",
    "Coded by : Yehezk34"
   ]
  },
  {
   "cell_type": "code",
   "execution_count": 1,
   "metadata": {},
   "outputs": [],
   "source": [
    "import pandas as pds\n",
    "from keras.preprocessing.text import Tokenizer\n",
    "from keras.preprocessing.sequence import pad_sequences\n",
    "from keras.models import Sequential\n",
    "from keras.layers import LSTM, Dense, Embedding\n",
    "from keras.utils import plot_model"
   ]
  },
  {
   "cell_type": "code",
   "execution_count": 3,
   "metadata": {},
   "outputs": [
    {
     "data": {
      "text/plain": [
       "(10, 2)"
      ]
     },
     "execution_count": 3,
     "metadata": {},
     "output_type": "execute_result"
    }
   ],
   "source": [
    "data = pds.read_csv(\"C:/Users/User/Desktop/HashMap/Sentiment.csv\")\n",
    "data.shape"
   ]
  },
  {
   "cell_type": "code",
   "execution_count": 4,
   "metadata": {},
   "outputs": [
    {
     "data": {
      "text/plain": [
       "(array([0, 1, 0, 1, 1, 0, 1, 0, 0, 1], dtype=int64),\n",
       " Index(['Positif', 'Negatif'], dtype='object'))"
      ]
     },
     "execution_count": 4,
     "metadata": {},
     "output_type": "execute_result"
    }
   ],
   "source": [
    "labels = data.Sentimen.factorize()\n",
    "labels"
   ]
  },
  {
   "cell_type": "code",
   "execution_count": 5,
   "metadata": {},
   "outputs": [
    {
     "name": "stdout",
     "output_type": "stream",
     "text": [
      "{'kamu': 1, 'sangat': 2, 'aku': 3, 'jelek': 4, 'baju': 5, 'bagus': 6, 'suka': 7, 'benci': 8, 'makan': 9, 'sate': 10, 'kambing': 11, 'orang': 12, 'nakal': 13, 'dirimu': 14, 'motor': 15, 'muka': 16, 'makanannya': 17, 'enak': 18, 'buah': 19, 'apel': 20, 'sinetron': 21, 'di': 22, 'tv': 23}\n"
     ]
    }
   ],
   "source": [
    "comment = data.Komentar.values\n",
    "tzer = Tokenizer()\n",
    "tzer.fit_on_texts(comment)\n",
    "size = len(tzer.word_index) + 1\n",
    "pad_seq = pad_sequences(tzer.texts_to_sequences(comment), 100)\n",
    "\n",
    "print(tzer.word_index)"
   ]
  },
  {
   "cell_type": "code",
   "execution_count": 7,
   "metadata": {},
   "outputs": [
    {
     "name": "stdout",
     "output_type": "stream",
     "text": [
      "1/1 [==============================] - 0s 0s/step - loss: 0.6811 - accuracy: 1.0000\n"
     ]
    }
   ],
   "source": [
    "model = Sequential()\n",
    "\n",
    "model.add(Embedding(size, 64, input_length=100))\n",
    "model.add(LSTM(100))\n",
    "model.add(Dense(10, activation=\"relu\"))\n",
    "model.add(Dense(1, activation=\"sigmoid\"))\n",
    "model.compile(loss=\"binary_crossentropy\", optimizer=\"adam\", metrics=[\"accuracy\"])\n",
    "\n",
    "model.fit(pad_seq, labels[0], epochs=4, batch_size=32, verbose=0)\n",
    "scores = model.evaluate(pad_seq, labels[0])"
   ]
  },
  {
   "cell_type": "code",
   "execution_count": 8,
   "metadata": {},
   "outputs": [
    {
     "name": "stdout",
     "output_type": "stream",
     "text": [
      "Loss accuracy:  0.6811183094978333\n",
      "Test accuracy:  1.0\n"
     ]
    }
   ],
   "source": [
    "print(\"Loss accuracy: \", scores[0])\n",
    "print(\"Test accuracy: \", scores[1])"
   ]
  },
  {
   "cell_type": "code",
   "execution_count": 12,
   "metadata": {},
   "outputs": [
    {
     "name": "stdout",
     "output_type": "stream",
     "text": [
      "Hasil sentimen adalah:  Positif\n"
     ]
    }
   ],
   "source": [
    "sample = \"Motor kamu bagus\"\n",
    "test = tzer.texts_to_sequences([sample])\n",
    "test = pad_sequences(test, 100)\n",
    "\n",
    "predict = int(model.predict(test).round().item())\n",
    "\n",
    "print(\"Hasil sentimen adalah: \", labels[1][predict])"
   ]
  },
  {
   "cell_type": "code",
   "execution_count": null,
   "metadata": {},
   "outputs": [],
   "source": [
    "# Just a simple learning algorithm"
   ]
  }
 ],
 "metadata": {
  "kernelspec": {
   "display_name": "Python 3",
   "language": "python",
   "name": "python3"
  },
  "language_info": {
   "codemirror_mode": {
    "name": "ipython",
    "version": 3
   },
   "file_extension": ".py",
   "mimetype": "text/x-python",
   "name": "python",
   "nbconvert_exporter": "python",
   "pygments_lexer": "ipython3",
   "version": "3.7.4"
  }
 },
 "nbformat": 4,
 "nbformat_minor": 2
}
