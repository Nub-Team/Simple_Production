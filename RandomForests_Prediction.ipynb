{
  "nbformat": 4,
  "nbformat_minor": 0,
  "metadata": {
    "colab": {
      "name": "RandomForests_Prediction.ipynb",
      "provenance": [],
      "authorship_tag": "ABX9TyPo0FcADcdkIdg/cSTTABHq",
      "include_colab_link": true
    },
    "kernelspec": {
      "name": "python3",
      "display_name": "Python 3"
    }
  },
  "cells": [
    {
      "cell_type": "markdown",
      "metadata": {
        "id": "view-in-github",
        "colab_type": "text"
      },
      "source": [
        "<a href=\"https://colab.research.google.com/github/Nub-T/Simple_Production/blob/main/RandomForests_Prediction.ipynb\" target=\"_parent\"><img src=\"https://colab.research.google.com/assets/colab-badge.svg\" alt=\"Open In Colab\"/></a>"
      ]
    },
    {
      "cell_type": "markdown",
      "metadata": {
        "id": "nqnp6l3KdBTU"
      },
      "source": [
        "<i>Predict the Survival Passengers</i><br>\n",
        "--\n",
        "Created by : Yehezk34"
      ]
    },
    {
      "cell_type": "code",
      "metadata": {
        "id": "srVNB6N9YRNt"
      },
      "source": [
        "import numpy as np\n",
        "import pandas as pd\n",
        "import matplotlib.pyplot as plt"
      ],
      "execution_count": 3,
      "outputs": []
    },
    {
      "cell_type": "code",
      "metadata": {
        "id": "UIjYjYWpaand"
      },
      "source": [
        "train_data = pd.read_csv(\"https://storage.googleapis.com/kagglesdsdata/competitions/3136/26502/train.csv?GoogleAccessId=web-data@kaggle-161607.iam.gserviceaccount.com&Expires=1606751804&Signature=AdNDlZRri6Mgvlu7%2FskTVBEIqcWTdOKrrpPXVqeg3yzn1rgxIm5%2FvqhZ6Bpau8s8oQfosJ%2BdlxXbx58P8uicPA5d3tm3BQ%2F%2Fio%2BA0qWiu1lqwerLF1aNtxqWa43f2WUgIjyfsaFheKBBINLwrH4gl6Jo6cQxzMJ90BK2y%2BNe2CFS7eiEgTIMPLGbhyEknYvf%2BmVIZmr5bnNg3TcB1g1PwWJDmTRwho4sj3XrTmqk9ytmmbZ4pYpm3EdhI%2BlR6qXLDkpmRQlmoA%2FRARboLr28OlRrCOztvwpDnekHc2ANOAWT%2BCuVVTANxZB56i5VEZHbZSyMdbtjT1BQuwbIF8BPCg%3D%3D&response-content-disposition=attachment%3B+filename%3Dtrain.csv\")\n",
        "test_data = pd.read_csv(\"https://storage.googleapis.com/kagglesdsdata/competitions/3136/26502/test.csv?GoogleAccessId=web-data@kaggle-161607.iam.gserviceaccount.com&Expires=1606751798&Signature=ngcl4QL8t22cdCzLMD6ZvXF3sH0eL8d46UTU72u34v5nD7GavPh4Ou2T2S9C%2BNElfX%2F7Yywrc8JdN8Qq0V4qHt7I7kLnacWZtA1Ke9dSGyLwaY6o%2BHNCUj5f4iCrYhmTYbyPjb9xzaXL34rHY%2BsSVUVGgHCzWCIUuQouvFe9I1kCdEnkDDKP6RqM29nf5FjdZXlnyHgG6foi32gutcyz4eBsrH3nTrXjZaV%2BjRKWy6lOAE%2FTSdILS0kMXZcOVQPDmmrm9Eo2MaN89UWQc%2FRXvYS5bNNJIkEFXBQzVytDGTlERAhKEtfcMF2TY%2FE6AEqaMVV25fQP9S%2Bruj3pOXr0tg%3D%3D&response-content-disposition=attachment%3B+filename%3Dtest.csv\")"
      ],
      "execution_count": 4,
      "outputs": []
    },
    {
      "cell_type": "code",
      "metadata": {
        "colab": {
          "base_uri": "https://localhost:8080/"
        },
        "id": "81Y0dghgakMk",
        "outputId": "336fcff2-795b-4964-a72e-4b25ca6eca79"
      },
      "source": [
        "print(train_data.info())"
      ],
      "execution_count": 5,
      "outputs": [
        {
          "output_type": "stream",
          "text": [
            "<class 'pandas.core.frame.DataFrame'>\n",
            "RangeIndex: 891 entries, 0 to 890\n",
            "Data columns (total 12 columns):\n",
            " #   Column       Non-Null Count  Dtype  \n",
            "---  ------       --------------  -----  \n",
            " 0   PassengerId  891 non-null    int64  \n",
            " 1   Survived     891 non-null    int64  \n",
            " 2   Pclass       891 non-null    int64  \n",
            " 3   Name         891 non-null    object \n",
            " 4   Sex          891 non-null    object \n",
            " 5   Age          714 non-null    float64\n",
            " 6   SibSp        891 non-null    int64  \n",
            " 7   Parch        891 non-null    int64  \n",
            " 8   Ticket       891 non-null    object \n",
            " 9   Fare         891 non-null    float64\n",
            " 10  Cabin        204 non-null    object \n",
            " 11  Embarked     889 non-null    object \n",
            "dtypes: float64(2), int64(5), object(5)\n",
            "memory usage: 83.7+ KB\n",
            "None\n"
          ],
          "name": "stdout"
        }
      ]
    },
    {
      "cell_type": "code",
      "metadata": {
        "colab": {
          "base_uri": "https://localhost:8080/"
        },
        "id": "UCiNKt_CbTCf",
        "outputId": "30b0cee3-ff30-470c-a0de-e11a53efbef7"
      },
      "source": [
        "print(train_data.isnull().sum())"
      ],
      "execution_count": 7,
      "outputs": [
        {
          "output_type": "stream",
          "text": [
            "PassengerId      0\n",
            "Survived         0\n",
            "Pclass           0\n",
            "Name             0\n",
            "Sex              0\n",
            "Age            177\n",
            "SibSp            0\n",
            "Parch            0\n",
            "Ticket           0\n",
            "Fare             0\n",
            "Cabin          687\n",
            "Embarked         2\n",
            "dtype: int64\n"
          ],
          "name": "stdout"
        }
      ]
    },
    {
      "cell_type": "code",
      "metadata": {
        "colab": {
          "base_uri": "https://localhost:8080/"
        },
        "id": "mirfpHewbV5W",
        "outputId": "dd720ffd-7077-4b96-9152-578d893ae658"
      },
      "source": [
        "train_data.drop('Cabin', axis=1, inplace=True)\n",
        "\n",
        "train_data[\"Embarked\"].fillna(train_data['Embarked'].value_counts().idxmax(), inplace=True)\n",
        "train_data[\"Age\"].fillna(train_data[\"Age\"].median(skipna=True), inplace=True)\n",
        "\n",
        "train_data.isnull().sum()"
      ],
      "execution_count": 8,
      "outputs": [
        {
          "output_type": "execute_result",
          "data": {
            "text/plain": [
              "PassengerId    0\n",
              "Survived       0\n",
              "Pclass         0\n",
              "Name           0\n",
              "Sex            0\n",
              "Age            0\n",
              "SibSp          0\n",
              "Parch          0\n",
              "Ticket         0\n",
              "Fare           0\n",
              "Embarked       0\n",
              "dtype: int64"
            ]
          },
          "metadata": {
            "tags": []
          },
          "execution_count": 8
        }
      ]
    },
    {
      "cell_type": "code",
      "metadata": {
        "colab": {
          "base_uri": "https://localhost:8080/"
        },
        "id": "TlZTdPR-bdo4",
        "outputId": "edfa1548-ff07-4580-8c1b-7d5ec98f40e7"
      },
      "source": [
        "print(train_data.head(10))"
      ],
      "execution_count": 12,
      "outputs": [
        {
          "output_type": "stream",
          "text": [
            "   PassengerId  Survived  Pclass  ...            Ticket     Fare  Embarked\n",
            "0            1         0       3  ...         A/5 21171   7.2500         S\n",
            "1            2         1       1  ...          PC 17599  71.2833         C\n",
            "2            3         1       3  ...  STON/O2. 3101282   7.9250         S\n",
            "3            4         1       1  ...            113803  53.1000         S\n",
            "4            5         0       3  ...            373450   8.0500         S\n",
            "5            6         0       3  ...            330877   8.4583         Q\n",
            "6            7         0       1  ...             17463  51.8625         S\n",
            "7            8         0       3  ...            349909  21.0750         S\n",
            "8            9         1       3  ...            347742  11.1333         S\n",
            "9           10         1       2  ...            237736  30.0708         C\n",
            "\n",
            "[10 rows x 11 columns]\n"
          ],
          "name": "stdout"
        }
      ]
    },
    {
      "cell_type": "code",
      "metadata": {
        "colab": {
          "base_uri": "https://localhost:8080/"
        },
        "id": "uSTFGEObbgL9",
        "outputId": "da277213-024a-48b4-b53e-967b38eb5c9e"
      },
      "source": [
        "# Encoding the sex values.\n",
        "train_data['Sex'].replace(\"female\", 0,inplace=True)\n",
        "train_data['Sex'].replace(\"male\", 1,inplace=True)\n",
        "\n",
        "# Encoding the embarked values.\n",
        "train_data['Embarked'].replace(\"S\", 0,inplace=True)\n",
        "train_data['Embarked'].replace(\"C\", 1,inplace=True)\n",
        "train_data['Embarked'].replace(\"Q\", 2,inplace=True)\n",
        "\n",
        "# Now we look at the dtypes!\n",
        "train_data.dtypes"
      ],
      "execution_count": 13,
      "outputs": [
        {
          "output_type": "execute_result",
          "data": {
            "text/plain": [
              "PassengerId      int64\n",
              "Survived         int64\n",
              "Pclass           int64\n",
              "Name            object\n",
              "Sex              int64\n",
              "Age            float64\n",
              "SibSp            int64\n",
              "Parch            int64\n",
              "Ticket          object\n",
              "Fare           float64\n",
              "Embarked         int64\n",
              "dtype: object"
            ]
          },
          "metadata": {
            "tags": []
          },
          "execution_count": 13
        }
      ]
    },
    {
      "cell_type": "code",
      "metadata": {
        "colab": {
          "base_uri": "https://localhost:8080/"
        },
        "id": "erzRKgHsbtsw",
        "outputId": "51a6fb28-1111-49af-84f8-58b16c9d7ea7"
      },
      "source": [
        "# Check the null sum!\n",
        "test_data.isnull().sum()"
      ],
      "execution_count": 14,
      "outputs": [
        {
          "output_type": "execute_result",
          "data": {
            "text/plain": [
              "PassengerId      0\n",
              "Pclass           0\n",
              "Name             0\n",
              "Sex              0\n",
              "Age             86\n",
              "SibSp            0\n",
              "Parch            0\n",
              "Ticket           0\n",
              "Fare             1\n",
              "Cabin          327\n",
              "Embarked         0\n",
              "dtype: int64"
            ]
          },
          "metadata": {
            "tags": []
          },
          "execution_count": 14
        }
      ]
    },
    {
      "cell_type": "code",
      "metadata": {
        "id": "3Onz85s8bwz7"
      },
      "source": [
        "test_data[\"Age\"].fillna(test_data[\"Age\"].median(skipna=True), inplace=True)\n",
        "test_data[\"Fare\"].fillna(test_data[\"Fare\"].median(skipna=True), inplace=True)\n",
        "test_data.drop('Cabin', axis=1, inplace=True)\n",
        "\n",
        "test_data['Sex'].replace(\"female\", 0,inplace=True)\n",
        "test_data['Sex'].replace(\"male\", 1,inplace=True)\n",
        "\n",
        "test_data['Embarked'].replace(\"S\", 0,inplace=True)\n",
        "test_data['Embarked'].replace(\"C\", 1,inplace=True)\n",
        "test_data['Embarked'].replace(\"Q\", 2,inplace=True)"
      ],
      "execution_count": 15,
      "outputs": []
    },
    {
      "cell_type": "code",
      "metadata": {
        "colab": {
          "base_uri": "https://localhost:8080/"
        },
        "id": "Wwa1YMvfb1Xj",
        "outputId": "9759ee59-ef10-4d2f-a8e7-514fadfc1fca"
      },
      "source": [
        "# Check the dtypes again!\n",
        "test_data.dtypes"
      ],
      "execution_count": 16,
      "outputs": [
        {
          "output_type": "execute_result",
          "data": {
            "text/plain": [
              "PassengerId      int64\n",
              "Pclass           int64\n",
              "Name            object\n",
              "Sex              int64\n",
              "Age            float64\n",
              "SibSp            int64\n",
              "Parch            int64\n",
              "Ticket          object\n",
              "Fare           float64\n",
              "Embarked         int64\n",
              "dtype: object"
            ]
          },
          "metadata": {
            "tags": []
          },
          "execution_count": 16
        }
      ]
    },
    {
      "cell_type": "code",
      "metadata": {
        "colab": {
          "base_uri": "https://localhost:8080/"
        },
        "id": "7hSly8lQb4HO",
        "outputId": "d80b9f34-e48d-4a76-9522-acec9bbebb7d"
      },
      "source": [
        "print(train_data.shape)\n",
        "print(test_data.shape)"
      ],
      "execution_count": 19,
      "outputs": [
        {
          "output_type": "stream",
          "text": [
            "(891, 11)\n",
            "(418, 10)\n"
          ],
          "name": "stdout"
        }
      ]
    },
    {
      "cell_type": "code",
      "metadata": {
        "colab": {
          "base_uri": "https://localhost:8080/",
          "height": 359
        },
        "id": "hO_fBgg7b6TR",
        "outputId": "30c742f0-a7b3-445d-8a6c-7417d79bdff9"
      },
      "source": [
        "train_data.head(10)"
      ],
      "execution_count": 20,
      "outputs": [
        {
          "output_type": "execute_result",
          "data": {
            "text/html": [
              "<div>\n",
              "<style scoped>\n",
              "    .dataframe tbody tr th:only-of-type {\n",
              "        vertical-align: middle;\n",
              "    }\n",
              "\n",
              "    .dataframe tbody tr th {\n",
              "        vertical-align: top;\n",
              "    }\n",
              "\n",
              "    .dataframe thead th {\n",
              "        text-align: right;\n",
              "    }\n",
              "</style>\n",
              "<table border=\"1\" class=\"dataframe\">\n",
              "  <thead>\n",
              "    <tr style=\"text-align: right;\">\n",
              "      <th></th>\n",
              "      <th>PassengerId</th>\n",
              "      <th>Survived</th>\n",
              "      <th>Pclass</th>\n",
              "      <th>Name</th>\n",
              "      <th>Sex</th>\n",
              "      <th>Age</th>\n",
              "      <th>SibSp</th>\n",
              "      <th>Parch</th>\n",
              "      <th>Ticket</th>\n",
              "      <th>Fare</th>\n",
              "      <th>Embarked</th>\n",
              "    </tr>\n",
              "  </thead>\n",
              "  <tbody>\n",
              "    <tr>\n",
              "      <th>0</th>\n",
              "      <td>1</td>\n",
              "      <td>0</td>\n",
              "      <td>3</td>\n",
              "      <td>Braund, Mr. Owen Harris</td>\n",
              "      <td>1</td>\n",
              "      <td>22.0</td>\n",
              "      <td>1</td>\n",
              "      <td>0</td>\n",
              "      <td>A/5 21171</td>\n",
              "      <td>7.2500</td>\n",
              "      <td>0</td>\n",
              "    </tr>\n",
              "    <tr>\n",
              "      <th>1</th>\n",
              "      <td>2</td>\n",
              "      <td>1</td>\n",
              "      <td>1</td>\n",
              "      <td>Cumings, Mrs. John Bradley (Florence Briggs Th...</td>\n",
              "      <td>0</td>\n",
              "      <td>38.0</td>\n",
              "      <td>1</td>\n",
              "      <td>0</td>\n",
              "      <td>PC 17599</td>\n",
              "      <td>71.2833</td>\n",
              "      <td>1</td>\n",
              "    </tr>\n",
              "    <tr>\n",
              "      <th>2</th>\n",
              "      <td>3</td>\n",
              "      <td>1</td>\n",
              "      <td>3</td>\n",
              "      <td>Heikkinen, Miss. Laina</td>\n",
              "      <td>0</td>\n",
              "      <td>26.0</td>\n",
              "      <td>0</td>\n",
              "      <td>0</td>\n",
              "      <td>STON/O2. 3101282</td>\n",
              "      <td>7.9250</td>\n",
              "      <td>0</td>\n",
              "    </tr>\n",
              "    <tr>\n",
              "      <th>3</th>\n",
              "      <td>4</td>\n",
              "      <td>1</td>\n",
              "      <td>1</td>\n",
              "      <td>Futrelle, Mrs. Jacques Heath (Lily May Peel)</td>\n",
              "      <td>0</td>\n",
              "      <td>35.0</td>\n",
              "      <td>1</td>\n",
              "      <td>0</td>\n",
              "      <td>113803</td>\n",
              "      <td>53.1000</td>\n",
              "      <td>0</td>\n",
              "    </tr>\n",
              "    <tr>\n",
              "      <th>4</th>\n",
              "      <td>5</td>\n",
              "      <td>0</td>\n",
              "      <td>3</td>\n",
              "      <td>Allen, Mr. William Henry</td>\n",
              "      <td>1</td>\n",
              "      <td>35.0</td>\n",
              "      <td>0</td>\n",
              "      <td>0</td>\n",
              "      <td>373450</td>\n",
              "      <td>8.0500</td>\n",
              "      <td>0</td>\n",
              "    </tr>\n",
              "    <tr>\n",
              "      <th>5</th>\n",
              "      <td>6</td>\n",
              "      <td>0</td>\n",
              "      <td>3</td>\n",
              "      <td>Moran, Mr. James</td>\n",
              "      <td>1</td>\n",
              "      <td>28.0</td>\n",
              "      <td>0</td>\n",
              "      <td>0</td>\n",
              "      <td>330877</td>\n",
              "      <td>8.4583</td>\n",
              "      <td>2</td>\n",
              "    </tr>\n",
              "    <tr>\n",
              "      <th>6</th>\n",
              "      <td>7</td>\n",
              "      <td>0</td>\n",
              "      <td>1</td>\n",
              "      <td>McCarthy, Mr. Timothy J</td>\n",
              "      <td>1</td>\n",
              "      <td>54.0</td>\n",
              "      <td>0</td>\n",
              "      <td>0</td>\n",
              "      <td>17463</td>\n",
              "      <td>51.8625</td>\n",
              "      <td>0</td>\n",
              "    </tr>\n",
              "    <tr>\n",
              "      <th>7</th>\n",
              "      <td>8</td>\n",
              "      <td>0</td>\n",
              "      <td>3</td>\n",
              "      <td>Palsson, Master. Gosta Leonard</td>\n",
              "      <td>1</td>\n",
              "      <td>2.0</td>\n",
              "      <td>3</td>\n",
              "      <td>1</td>\n",
              "      <td>349909</td>\n",
              "      <td>21.0750</td>\n",
              "      <td>0</td>\n",
              "    </tr>\n",
              "    <tr>\n",
              "      <th>8</th>\n",
              "      <td>9</td>\n",
              "      <td>1</td>\n",
              "      <td>3</td>\n",
              "      <td>Johnson, Mrs. Oscar W (Elisabeth Vilhelmina Berg)</td>\n",
              "      <td>0</td>\n",
              "      <td>27.0</td>\n",
              "      <td>0</td>\n",
              "      <td>2</td>\n",
              "      <td>347742</td>\n",
              "      <td>11.1333</td>\n",
              "      <td>0</td>\n",
              "    </tr>\n",
              "    <tr>\n",
              "      <th>9</th>\n",
              "      <td>10</td>\n",
              "      <td>1</td>\n",
              "      <td>2</td>\n",
              "      <td>Nasser, Mrs. Nicholas (Adele Achem)</td>\n",
              "      <td>0</td>\n",
              "      <td>14.0</td>\n",
              "      <td>1</td>\n",
              "      <td>0</td>\n",
              "      <td>237736</td>\n",
              "      <td>30.0708</td>\n",
              "      <td>1</td>\n",
              "    </tr>\n",
              "  </tbody>\n",
              "</table>\n",
              "</div>"
            ],
            "text/plain": [
              "   PassengerId  Survived  Pclass  ...            Ticket     Fare  Embarked\n",
              "0            1         0       3  ...         A/5 21171   7.2500         0\n",
              "1            2         1       1  ...          PC 17599  71.2833         1\n",
              "2            3         1       3  ...  STON/O2. 3101282   7.9250         0\n",
              "3            4         1       1  ...            113803  53.1000         0\n",
              "4            5         0       3  ...            373450   8.0500         0\n",
              "5            6         0       3  ...            330877   8.4583         2\n",
              "6            7         0       1  ...             17463  51.8625         0\n",
              "7            8         0       3  ...            349909  21.0750         0\n",
              "8            9         1       3  ...            347742  11.1333         0\n",
              "9           10         1       2  ...            237736  30.0708         1\n",
              "\n",
              "[10 rows x 11 columns]"
            ]
          },
          "metadata": {
            "tags": []
          },
          "execution_count": 20
        }
      ]
    },
    {
      "cell_type": "code",
      "metadata": {
        "id": "crOHvDAPb_iP"
      },
      "source": [
        "outcome_data = train_data[\"Survived\"]\n",
        "train_data.drop([\"Survived\", \"Ticket\", \"Name\", \"PassengerId\"], axis=1, inplace=True)\n",
        "test_data.drop([\"Name\",\"PassengerId\",\"Ticket\"], axis=1, inplace=True)"
      ],
      "execution_count": 21,
      "outputs": []
    },
    {
      "cell_type": "code",
      "metadata": {
        "id": "AzBLl-IpcCzR"
      },
      "source": [
        "# Random Forest!\n",
        "from sklearn.model_selection import train_test_split\n",
        "from sklearn.svm import SVC\n",
        "from sklearn.model_selection import cross_val_score\n",
        "from sklearn.metrics import accuracy_score, roc_auc_score, confusion_matrix, classification_report"
      ],
      "execution_count": 22,
      "outputs": []
    },
    {
      "cell_type": "code",
      "metadata": {
        "id": "9mhwluHFcOnj"
      },
      "source": [
        "X = train_data.values\n",
        "y = outcome_data.values\n",
        "X_train, X_test, y_train, y_test = train_test_split(X, y, test_size=0.2, random_state=1, stratify=y)"
      ],
      "execution_count": 23,
      "outputs": []
    },
    {
      "cell_type": "code",
      "metadata": {
        "colab": {
          "base_uri": "https://localhost:8080/"
        },
        "id": "MtTiKh62cPm7",
        "outputId": "85cb5977-1931-4aba-9d75-0784a182afb9"
      },
      "source": [
        "classifier = SVC(kernel = 'linear', random_state = 0)\n",
        "classifier.fit(X_train, y_train)\n",
        "\n",
        "y_pred = classifier.predict(X_test)\n",
        "y_pred_train = classifier.predict(X_train)\n",
        "\n",
        "print(\"Accuracy Train: \", accuracy_score(y_train, y_pred_train))\n",
        "print(\"Accuracy Test: \", accuracy_score(y_test, y_pred))\n",
        "print(\"\\nConfusion Matrix\\n\")\n",
        "print(confusion_matrix(y_test, y_pred))"
      ],
      "execution_count": 26,
      "outputs": [
        {
          "output_type": "stream",
          "text": [
            "Accuracy Train:  0.7907303370786517\n",
            "Accuracy Test:  0.7988826815642458\n",
            "\n",
            "Confusion Matrix\n",
            "\n",
            "[[94 16]\n",
            " [20 49]]\n"
          ],
          "name": "stdout"
        }
      ]
    },
    {
      "cell_type": "code",
      "metadata": {
        "colab": {
          "base_uri": "https://localhost:8080/"
        },
        "id": "M_-kxr-0cYQU",
        "outputId": "d190d0ea-3811-4a6f-9dea-9b4ec13837e7"
      },
      "source": [
        "last_clf = SVC(kernel = 'linear', random_state = 0)\n",
        "last_clf.fit(train_data, outcome_data)"
      ],
      "execution_count": 27,
      "outputs": [
        {
          "output_type": "execute_result",
          "data": {
            "text/plain": [
              "SVC(C=1.0, break_ties=False, cache_size=200, class_weight=None, coef0=0.0,\n",
              "    decision_function_shape='ovr', degree=3, gamma='scale', kernel='linear',\n",
              "    max_iter=-1, probability=False, random_state=0, shrinking=True, tol=0.001,\n",
              "    verbose=False)"
            ]
          },
          "metadata": {
            "tags": []
          },
          "execution_count": 27
        }
      ]
    },
    {
      "cell_type": "code",
      "metadata": {
        "colab": {
          "base_uri": "https://localhost:8080/",
          "height": 563
        },
        "id": "VHYXoX6mcdHx",
        "outputId": "d7520424-70c1-4593-fbbf-e33409bc1652"
      },
      "source": [
        "ids = pd.read_csv(\"https://storage.googleapis.com/kagglesdsdata/competitions/3136/26502/test.csv?GoogleAccessId=web-data@kaggle-161607.iam.gserviceaccount.com&Expires=1606751798&Signature=ngcl4QL8t22cdCzLMD6ZvXF3sH0eL8d46UTU72u34v5nD7GavPh4Ou2T2S9C%2BNElfX%2F7Yywrc8JdN8Qq0V4qHt7I7kLnacWZtA1Ke9dSGyLwaY6o%2BHNCUj5f4iCrYhmTYbyPjb9xzaXL34rHY%2BsSVUVGgHCzWCIUuQouvFe9I1kCdEnkDDKP6RqM29nf5FjdZXlnyHgG6foi32gutcyz4eBsrH3nTrXjZaV%2BjRKWy6lOAE%2FTSdILS0kMXZcOVQPDmmrm9Eo2MaN89UWQc%2FRXvYS5bNNJIkEFXBQzVytDGTlERAhKEtfcMF2TY%2FE6AEqaMVV25fQP9S%2Bruj3pOXr0tg%3D%3D&response-content-disposition=attachment%3B+filename%3Dtest.csv\")[[\"PassengerId\"]].values\n",
        "predictions = last_clf.predict(test_data.values)\n",
        "\n",
        "print(predictions)\n",
        "df = {'PassengerId': ids.ravel(), 'Survived':predictions}\n",
        "Result = pd.DataFrame(df)\n",
        "display(Result.head(10))\n",
        "Result.to_csv(\"Result.csv\", index=False)"
      ],
      "execution_count": 29,
      "outputs": [
        {
          "output_type": "stream",
          "text": [
            "[0 1 0 0 1 0 1 0 1 0 0 0 1 0 1 1 0 0 1 1 0 0 1 0 1 0 1 0 0 0 0 0 1 1 0 0 1\n",
            " 1 0 0 0 0 0 1 1 0 0 0 1 1 0 0 1 1 0 0 0 0 0 1 0 0 0 1 0 1 1 0 0 1 1 0 1 0\n",
            " 1 0 0 1 0 1 0 0 0 0 0 0 1 1 1 0 1 0 1 0 0 0 1 0 1 0 1 0 0 0 1 0 0 0 0 0 0\n",
            " 1 1 1 1 0 0 1 0 1 1 0 1 0 0 1 0 1 0 0 0 0 1 0 0 0 0 0 1 0 1 1 0 0 0 0 0 0\n",
            " 0 0 1 0 0 1 0 0 1 1 0 1 1 0 1 0 0 1 0 0 1 1 0 0 0 0 0 1 1 0 1 1 0 0 1 0 1\n",
            " 0 1 0 1 0 0 0 0 0 0 0 0 1 0 1 1 0 0 1 0 0 1 0 1 0 0 0 0 1 1 0 1 0 1 0 1 0\n",
            " 1 0 1 1 0 1 0 0 0 1 0 0 0 0 0 0 1 1 1 1 0 0 0 0 1 0 1 1 1 0 0 0 0 0 0 0 1\n",
            " 0 0 0 1 1 0 0 0 0 1 0 0 0 1 1 0 1 0 0 0 0 1 0 1 1 1 0 0 0 0 0 0 1 0 0 0 0\n",
            " 1 0 0 0 0 0 0 0 1 1 0 0 0 1 0 0 0 1 1 1 0 0 0 0 0 0 0 0 1 0 1 0 0 0 1 0 0\n",
            " 1 0 0 0 0 0 0 0 0 0 1 0 1 0 1 0 1 1 0 0 0 1 0 1 0 0 1 0 1 1 0 1 1 0 1 1 0\n",
            " 0 1 0 0 1 1 1 0 0 0 0 0 1 1 0 1 0 0 0 0 0 1 0 0 0 1 0 1 0 0 1 0 1 0 0 0 0\n",
            " 0 1 1 1 1 1 0 1 0 0 0]\n"
          ],
          "name": "stdout"
        },
        {
          "output_type": "display_data",
          "data": {
            "text/html": [
              "<div>\n",
              "<style scoped>\n",
              "    .dataframe tbody tr th:only-of-type {\n",
              "        vertical-align: middle;\n",
              "    }\n",
              "\n",
              "    .dataframe tbody tr th {\n",
              "        vertical-align: top;\n",
              "    }\n",
              "\n",
              "    .dataframe thead th {\n",
              "        text-align: right;\n",
              "    }\n",
              "</style>\n",
              "<table border=\"1\" class=\"dataframe\">\n",
              "  <thead>\n",
              "    <tr style=\"text-align: right;\">\n",
              "      <th></th>\n",
              "      <th>PassengerId</th>\n",
              "      <th>Survived</th>\n",
              "    </tr>\n",
              "  </thead>\n",
              "  <tbody>\n",
              "    <tr>\n",
              "      <th>0</th>\n",
              "      <td>892</td>\n",
              "      <td>0</td>\n",
              "    </tr>\n",
              "    <tr>\n",
              "      <th>1</th>\n",
              "      <td>893</td>\n",
              "      <td>1</td>\n",
              "    </tr>\n",
              "    <tr>\n",
              "      <th>2</th>\n",
              "      <td>894</td>\n",
              "      <td>0</td>\n",
              "    </tr>\n",
              "    <tr>\n",
              "      <th>3</th>\n",
              "      <td>895</td>\n",
              "      <td>0</td>\n",
              "    </tr>\n",
              "    <tr>\n",
              "      <th>4</th>\n",
              "      <td>896</td>\n",
              "      <td>1</td>\n",
              "    </tr>\n",
              "    <tr>\n",
              "      <th>5</th>\n",
              "      <td>897</td>\n",
              "      <td>0</td>\n",
              "    </tr>\n",
              "    <tr>\n",
              "      <th>6</th>\n",
              "      <td>898</td>\n",
              "      <td>1</td>\n",
              "    </tr>\n",
              "    <tr>\n",
              "      <th>7</th>\n",
              "      <td>899</td>\n",
              "      <td>0</td>\n",
              "    </tr>\n",
              "    <tr>\n",
              "      <th>8</th>\n",
              "      <td>900</td>\n",
              "      <td>1</td>\n",
              "    </tr>\n",
              "    <tr>\n",
              "      <th>9</th>\n",
              "      <td>901</td>\n",
              "      <td>0</td>\n",
              "    </tr>\n",
              "  </tbody>\n",
              "</table>\n",
              "</div>"
            ],
            "text/plain": [
              "   PassengerId  Survived\n",
              "0          892         0\n",
              "1          893         1\n",
              "2          894         0\n",
              "3          895         0\n",
              "4          896         1\n",
              "5          897         0\n",
              "6          898         1\n",
              "7          899         0\n",
              "8          900         1\n",
              "9          901         0"
            ]
          },
          "metadata": {
            "tags": []
          }
        }
      ]
    }
  ]
}